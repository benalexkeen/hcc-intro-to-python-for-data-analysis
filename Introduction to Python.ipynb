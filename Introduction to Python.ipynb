{
 "cells": [
  {
   "cell_type": "markdown",
   "metadata": {},
   "source": [
    "# Introduction To Python\n",
    "## Section 1 - Data Types"
   ]
  },
  {
   "cell_type": "markdown",
   "metadata": {},
   "source": [
    "Welcome to Jupyter!  \n",
    "You can write and run your own python code here without installing anything.  \n",
    "Have a go at printing a string.  \n",
    "Hold shift and press return to run the cell below or press the play button above to run the cell.  \n",
    "You can insert more cells or delete cells using functions in the menus above.  "
   ]
  },
  {
   "cell_type": "code",
   "execution_count": null,
   "metadata": {
    "collapsed": true
   },
   "outputs": [],
   "source": [
    "print(\"Welcome to Introduction to Python\")"
   ]
  },
  {
   "cell_type": "markdown",
   "metadata": {},
   "source": [
    "Have a go at printing your own string here.  \n",
    "Write your code below then hold shift and press return.  "
   ]
  },
  {
   "cell_type": "code",
   "execution_count": null,
   "metadata": {
    "collapsed": true
   },
   "outputs": [],
   "source": []
  },
  {
   "cell_type": "markdown",
   "metadata": {},
   "source": [
    "You can assign a string to a variable and print the variable"
   ]
  },
  {
   "cell_type": "code",
   "execution_count": null,
   "metadata": {
    "collapsed": true
   },
   "outputs": [],
   "source": [
    "# You can assign a string to a variable and print the variable\n",
    "a = \"This is the first half of a sentence, \"\n",
    "b = \"and this is its second half\"\n",
    "print(a)\n",
    "print(a + b)"
   ]
  },
  {
   "cell_type": "markdown",
   "metadata": {},
   "source": [
    "Assign the string \"Hitachi, Inspire the Next\" to the variable `tagline`, then print this variable"
   ]
  },
  {
   "cell_type": "code",
   "execution_count": null,
   "metadata": {
    "collapsed": true
   },
   "outputs": [],
   "source": [
    "tagline = "
   ]
  },
  {
   "cell_type": "markdown",
   "metadata": {},
   "source": [
    "Assign variables `a` and `b` to integers of your choice, then add them together and print the results"
   ]
  },
  {
   "cell_type": "code",
   "execution_count": null,
   "metadata": {
    "collapsed": true
   },
   "outputs": [],
   "source": [
    "a = \n",
    "b = "
   ]
  },
  {
   "cell_type": "markdown",
   "metadata": {},
   "source": [
    "Now subtract `b` from `a`, and print the result"
   ]
  },
  {
   "cell_type": "code",
   "execution_count": null,
   "metadata": {
    "collapsed": true
   },
   "outputs": [],
   "source": []
  },
  {
   "cell_type": "markdown",
   "metadata": {},
   "source": [
    "Now print `a` multiplied by `b`"
   ]
  },
  {
   "cell_type": "code",
   "execution_count": null,
   "metadata": {
    "collapsed": true
   },
   "outputs": [],
   "source": []
  },
  {
   "cell_type": "markdown",
   "metadata": {},
   "source": [
    "Now print `a` divided by `b`"
   ]
  },
  {
   "cell_type": "code",
   "execution_count": null,
   "metadata": {
    "collapsed": true
   },
   "outputs": [],
   "source": []
  },
  {
   "cell_type": "markdown",
   "metadata": {},
   "source": [
    "Print the remainder of `a` divided by `b`"
   ]
  },
  {
   "cell_type": "code",
   "execution_count": null,
   "metadata": {
    "collapsed": true
   },
   "outputs": [],
   "source": []
  },
  {
   "cell_type": "markdown",
   "metadata": {},
   "source": [
    "Print `a` squared added to `b` cubed"
   ]
  },
  {
   "cell_type": "code",
   "execution_count": null,
   "metadata": {
    "collapsed": true
   },
   "outputs": [],
   "source": []
  },
  {
   "cell_type": "markdown",
   "metadata": {},
   "source": [
    "Run the cell below:"
   ]
  },
  {
   "cell_type": "code",
   "execution_count": null,
   "metadata": {
    "collapsed": true
   },
   "outputs": [],
   "source": [
    "# This is an unformatted string\n",
    "my_str = \"I have {} apples and {} pears\"\n",
    "\n",
    "# We can format it as follows\n",
    "apples = 5\n",
    "pears = 4\n",
    "\n",
    "print(my_str.format(apples, pears))"
   ]
  },
  {
   "cell_type": "markdown",
   "metadata": {},
   "source": [
    "Now try it for yourself, define your own unformatted string and format it using the format function"
   ]
  },
  {
   "cell_type": "code",
   "execution_count": null,
   "metadata": {
    "collapsed": true
   },
   "outputs": [],
   "source": [
    "# Now define your own unformatted string and format it using the format function\n"
   ]
  },
  {
   "cell_type": "markdown",
   "metadata": {},
   "source": [
    "You can re-assign a variable, and even change its type.  \n",
    "Run this cell and follow what is happening on each line."
   ]
  },
  {
   "cell_type": "code",
   "execution_count": null,
   "metadata": {
    "collapsed": true
   },
   "outputs": [],
   "source": [
    "x = 5\n",
    "print(x)\n",
    "x = x + 4\n",
    "print(x)\n",
    "y = 12\n",
    "x = y + 10\n",
    "print(x)\n",
    "x = \"X is now a string\"\n",
    "print(x)"
   ]
  },
  {
   "cell_type": "markdown",
   "metadata": {},
   "source": [
    "This is an example of a list.  \n",
    "Using integer indexing print crackle from this list:"
   ]
  },
  {
   "cell_type": "code",
   "execution_count": null,
   "metadata": {
    "collapsed": true
   },
   "outputs": [],
   "source": [
    "example_list = [\"Snap\", \"Crackle\", \"Pop\"]\n",
    "\n"
   ]
  },
  {
   "cell_type": "markdown",
   "metadata": {},
   "source": [
    "Create your own list of 6 different items and set it to the variable `my_list`.  \n",
    "Have a go at printing the first item."
   ]
  },
  {
   "cell_type": "code",
   "execution_count": null,
   "metadata": {
    "collapsed": true
   },
   "outputs": [],
   "source": []
  },
  {
   "cell_type": "markdown",
   "metadata": {},
   "source": [
    "Now print the last item of the list (without using the number 5)"
   ]
  },
  {
   "cell_type": "code",
   "execution_count": null,
   "metadata": {
    "collapsed": true
   },
   "outputs": [],
   "source": []
  },
  {
   "cell_type": "markdown",
   "metadata": {},
   "source": [
    "In one line of code, print the 2nd, 3rd and 4th items from your list."
   ]
  },
  {
   "cell_type": "code",
   "execution_count": null,
   "metadata": {
    "collapsed": true
   },
   "outputs": [],
   "source": []
  },
  {
   "cell_type": "markdown",
   "metadata": {},
   "source": [
    "Now print all the items in the list from the 3rd item onwards"
   ]
  },
  {
   "cell_type": "code",
   "execution_count": null,
   "metadata": {
    "collapsed": true
   },
   "outputs": [],
   "source": []
  },
  {
   "cell_type": "markdown",
   "metadata": {},
   "source": [
    "What do you get if you add the 2nd number in the list_of_numbers below to the 4th Number?"
   ]
  },
  {
   "cell_type": "code",
   "execution_count": null,
   "metadata": {
    "collapsed": true
   },
   "outputs": [],
   "source": [
    "list_of_numbers = [4, 2.5, 7, 19, 12, 1, 0, 22]"
   ]
  },
  {
   "cell_type": "markdown",
   "metadata": {
    "collapsed": true
   },
   "source": [
    "What do you get if you divide the 5th number in the `list_of_numbers` by the 1st number?"
   ]
  },
  {
   "cell_type": "code",
   "execution_count": null,
   "metadata": {
    "collapsed": true
   },
   "outputs": [],
   "source": []
  },
  {
   "cell_type": "markdown",
   "metadata": {},
   "source": [
    "What do you get if you raise the last number in the `list_of_numbers` by the penultimate number?"
   ]
  },
  {
   "cell_type": "code",
   "execution_count": null,
   "metadata": {
    "collapsed": true
   },
   "outputs": [],
   "source": []
  },
  {
   "cell_type": "markdown",
   "metadata": {},
   "source": [
    "Assign the example dict below to the variable `hitachi`"
   ]
  },
  {
   "cell_type": "code",
   "execution_count": null,
   "metadata": {
    "collapsed": true
   },
   "outputs": [],
   "source": [
    "hitachi = { \n",
    "    \"Name\": \"Hitachi Ltd\",\n",
    "    \"Employees\": 333150,\n",
    "    \"Revenue_EUR\": 75092000000,\n",
    "    \"HQ\": \"Tokyo, Japan\",\n",
    "    \"Founding_Year\": 1910,\n",
    "    \"Founding_Spirit\": [\"Wa\", \"Makoto\", \"Kaitakusha-Sieshin\"]\n",
    "}"
   ]
  },
  {
   "cell_type": "markdown",
   "metadata": {},
   "source": [
    "What is Hitachi's revenue in billions?  \n",
    "_Hint: 1 billion = 1x10<sup>9</sup>_"
   ]
  },
  {
   "cell_type": "code",
   "execution_count": null,
   "metadata": {
    "collapsed": true
   },
   "outputs": [],
   "source": []
  },
  {
   "cell_type": "markdown",
   "metadata": {},
   "source": [
    "How many years old is Hitachi?"
   ]
  },
  {
   "cell_type": "code",
   "execution_count": null,
   "metadata": {
    "collapsed": true
   },
   "outputs": [],
   "source": []
  },
  {
   "cell_type": "markdown",
   "metadata": {},
   "source": [
    "Have a go at defining your own dict and select some values from it"
   ]
  },
  {
   "cell_type": "code",
   "execution_count": null,
   "metadata": {
    "collapsed": true
   },
   "outputs": [],
   "source": []
  },
  {
   "cell_type": "markdown",
   "metadata": {},
   "source": [
    "## Section 2 - Functions"
   ]
  },
  {
   "cell_type": "markdown",
   "metadata": {},
   "source": [
    "Defining functions, remember that python is indentation-significant.  \n",
    "This function takes two numbers as parameters, adds them together and prints the result.  "
   ]
  },
  {
   "cell_type": "code",
   "execution_count": null,
   "metadata": {
    "collapsed": true
   },
   "outputs": [],
   "source": [
    "def add_numbers(x1, x2):\n",
    "    y = x1 + x2\n",
    "    print(y)"
   ]
  },
  {
   "cell_type": "code",
   "execution_count": null,
   "metadata": {
    "collapsed": true
   },
   "outputs": [],
   "source": [
    "# try calling the function\n",
    "add_numbers(10, 15)"
   ]
  },
  {
   "cell_type": "code",
   "execution_count": null,
   "metadata": {
    "collapsed": true
   },
   "outputs": [],
   "source": [
    "# Choose some numbers and call the function yourself\n",
    "add_numbers()"
   ]
  },
  {
   "cell_type": "markdown",
   "metadata": {},
   "source": [
    "Call the function below with your own name as the parameter"
   ]
  },
  {
   "cell_type": "code",
   "execution_count": null,
   "metadata": {
    "collapsed": true
   },
   "outputs": [],
   "source": [
    "def happy_birthday(name):\n",
    "    print(\"Happy Birthday to you\")\n",
    "    print(\"Happy Birthday to you\")\n",
    "    print(\"Happy Birthday dear \" + name)\n",
    "    print(\"Happy Birthday to you\")"
   ]
  },
  {
   "cell_type": "markdown",
   "metadata": {},
   "source": [
    "Have a go at defining a function that multiplies two numbers together, adds 5, and prints the result.  \n",
    "Then call it with some numbers to test it out."
   ]
  },
  {
   "cell_type": "code",
   "execution_count": null,
   "metadata": {
    "collapsed": true
   },
   "outputs": [],
   "source": []
  },
  {
   "cell_type": "markdown",
   "metadata": {},
   "source": [
    "#### Logical Operators\n",
    "\n",
    "The following statement should evaluate to True, run this cell to make sure:"
   ]
  },
  {
   "cell_type": "code",
   "execution_count": null,
   "metadata": {
    "collapsed": true
   },
   "outputs": [],
   "source": [
    "print(1 + 2 == 3)"
   ]
  },
  {
   "cell_type": "markdown",
   "metadata": {},
   "source": [
    "The following statement should evaluate to False, run this cell to make sure:"
   ]
  },
  {
   "cell_type": "code",
   "execution_count": null,
   "metadata": {
    "collapsed": true
   },
   "outputs": [],
   "source": [
    "print(1 + 2 == 5)"
   ]
  },
  {
   "cell_type": "markdown",
   "metadata": {},
   "source": [
    "Have a go at writing statements that evaluate to True.  \n",
    "Fill in the right hand and left hand sides of these statements so that they evaluate to True:"
   ]
  },
  {
   "cell_type": "code",
   "execution_count": null,
   "metadata": {
    "collapsed": true
   },
   "outputs": [],
   "source": [
    "print( == )\n",
    "print( != )\n",
    "print( < )\n",
    "print( > )\n",
    "print( >= )\n",
    "print( <= )"
   ]
  },
  {
   "cell_type": "markdown",
   "metadata": {},
   "source": [
    "Have a go at writing statements that evaluate to False.  \n",
    "Fill in the right hand and left hand sides of these statements so that they evaluate to False:"
   ]
  },
  {
   "cell_type": "code",
   "execution_count": null,
   "metadata": {
    "collapsed": true
   },
   "outputs": [],
   "source": [
    "print( == )\n",
    "print( != )\n",
    "print( < )\n",
    "print( > )\n",
    "print( >= )\n",
    "print( <= )"
   ]
  },
  {
   "cell_type": "markdown",
   "metadata": {},
   "source": [
    "Choose a number:"
   ]
  },
  {
   "cell_type": "code",
   "execution_count": null,
   "metadata": {
    "collapsed": true
   },
   "outputs": [],
   "source": [
    "num = "
   ]
  },
  {
   "cell_type": "markdown",
   "metadata": {},
   "source": [
    "Run this cell to describe your number"
   ]
  },
  {
   "cell_type": "code",
   "execution_count": null,
   "metadata": {
    "collapsed": true
   },
   "outputs": [],
   "source": [
    "if num < 0:\n",
    "    print(\"{} is negative\".format(num))\n",
    "elif num > 0:\n",
    "    print(\"{} is positive\".format(num))\n",
    "else:\n",
    "    print(\"{} is zero\".format(num))\n",
    "\n",
    "if num != 5:\n",
    "    print(\"{} is not five\".format(num))\n",
    "else:\n",
    "    print(\"{} is five\".format(num))"
   ]
  },
  {
   "cell_type": "markdown",
   "metadata": {},
   "source": [
    "Have a go at defining your own if/elif/else clauses to describe `num`"
   ]
  },
  {
   "cell_type": "code",
   "execution_count": null,
   "metadata": {
    "collapsed": true
   },
   "outputs": [],
   "source": []
  },
  {
   "cell_type": "markdown",
   "metadata": {},
   "source": [
    "Choose a type of swallow out of `\"European\"` or `\"African\"`, then call the function below with that type to find its unladen air speed velocity"
   ]
  },
  {
   "cell_type": "code",
   "execution_count": null,
   "metadata": {
    "collapsed": true
   },
   "outputs": [],
   "source": [
    "def swallow_velocity(type):\n",
    "    if type == \"European\":\n",
    "        print(\"12 m/s\")\n",
    "    elif type == \"African\":\n",
    "        print(\"10 m/s\")\n",
    "    else:\n",
    "        print(\"I don't know that type of swallow\")"
   ]
  },
  {
   "cell_type": "markdown",
   "metadata": {},
   "source": [
    "Fill in the function below.  \n",
    "Do some error checking to make sure the number passed isn't negative.  \n",
    "Then print the square root of the number.  \n",
    "_Hint: Square root of a number is the number raised to the power of 0.5_  "
   ]
  },
  {
   "cell_type": "code",
   "execution_count": null,
   "metadata": {
    "collapsed": true
   },
   "outputs": [],
   "source": [
    "def print_square_root(x):\n"
   ]
  },
  {
   "cell_type": "markdown",
   "metadata": {},
   "source": [
    "Using your function, check the square root of 41370624"
   ]
  },
  {
   "cell_type": "code",
   "execution_count": null,
   "metadata": {
    "collapsed": true
   },
   "outputs": [],
   "source": []
  },
  {
   "cell_type": "markdown",
   "metadata": {},
   "source": [
    "We can chain logical operators together using \"and\".  \n",
    "Define a new variable `num` with a float or integer.  \n",
    "Try running this cell to describe `num`.  "
   ]
  },
  {
   "cell_type": "code",
   "execution_count": null,
   "metadata": {
    "collapsed": true
   },
   "outputs": [],
   "source": [
    "num = \n",
    "\n",
    "if (num % 2 == 0) and (num % 3 == 0):\n",
    "    print(\"{} is divisible by six\".format(num))\n",
    "else:\n",
    "    print(\"{} is not divisible by six\".format(num))\n",
    "\n",
    "if isinstance(num, int) and (num > 0) and (num < 10):\n",
    "    print(\"{} is a positive single digit\".format(num))"
   ]
  },
  {
   "cell_type": "markdown",
   "metadata": {},
   "source": [
    "We can also chain logical operators together using \"or\".  \n",
    "Try it out here, put your level in e.g. \"C1\".  \n",
    "Then run this cell to print out your position.  "
   ]
  },
  {
   "cell_type": "code",
   "execution_count": null,
   "metadata": {
    "collapsed": true
   },
   "outputs": [],
   "source": [
    "level = \"\"\n",
    "\n",
    "if level == \"C1\" or level == \"C2\":\n",
    "    position = \"Consultant\"\n",
    "elif level == \"SC1\" or level == \"SC2\":\n",
    "    position = \"Senior Consultant\"\n",
    "elif level == \"M1\" or level == \"M2\" or level == \"M3\":\n",
    "    position = \"Manager\"\n",
    "elif level == \"SM1\" or level == \"SM2\":\n",
    "    position = \"Senior Manager\"\n",
    "elif level == \"DCS\":\n",
    "    position = \"Director\"\n",
    "elif level == \"VP\":\n",
    "    position = \"Vice President\"\n",
    "else:\n",
    "    position = \"Other\"\n",
    "\n",
    "print(position)"
   ]
  },
  {
   "cell_type": "markdown",
   "metadata": {},
   "source": [
    "Now have a go at this yourself!   \n",
    "Define a variable and test it out with   \n",
    "your own \"or\" and \"and\" conditional statements  "
   ]
  },
  {
   "cell_type": "code",
   "execution_count": null,
   "metadata": {
    "collapsed": true
   },
   "outputs": [],
   "source": []
  },
  {
   "cell_type": "markdown",
   "metadata": {},
   "source": [
    "You can check whether something is in a string or a list, or if a key is in a dict, using the `in` keyword.  \n",
    "Try this out by running the three cells below."
   ]
  },
  {
   "cell_type": "code",
   "execution_count": null,
   "metadata": {
    "collapsed": true
   },
   "outputs": [],
   "source": [
    "# String\n",
    "string_1 = \"Ni\"\n",
    "string_2 = \"We are the knights who say 'Ni!'\"\n",
    "\n",
    "if string_1 in string_2:\n",
    "    print(\"String 1 is a substring of String 2\")\n",
    "else:\n",
    "    print(\"String 1 is not a substring of String 2\")"
   ]
  },
  {
   "cell_type": "code",
   "execution_count": null,
   "metadata": {
    "collapsed": true
   },
   "outputs": [],
   "source": [
    "# List\n",
    "most_common_pets = ['dog', 'cat', 'hamster', 'fish', 'mouse', 'guinea pig', 'bird', 'lizard', 'snake']\n",
    "\n",
    "my_pet = ''\n",
    "\n",
    "if my_pet in most_common_pets:\n",
    "    print(\"Your {} is a regular pet\".format(my_pet))\n",
    "elif my_pet == '':\n",
    "    print(\"You don't have a pet\")\n",
    "else:\n",
    "    print(\"Your {} is an odd pet\".format(my_pet))"
   ]
  },
  {
   "cell_type": "code",
   "execution_count": null,
   "metadata": {
    "collapsed": true
   },
   "outputs": [],
   "source": [
    "# Dict\n",
    "hqs = {\n",
    "    'Hitachi Rail': '40 Holborn Viaduct, London',\n",
    "    'Hitachi Europe': 'Whitebrook Park, Maidenhead',\n",
    "    'Pentaho': '10 Exchange Square, London',\n",
    "    'Hitachi Consulting': 'Harmsworth House, London',\n",
    "    'Horizon': 'Sunrise House, Gloucester',\n",
    "    'Hitachi R&D': '125 London Wall, London',\n",
    "}\n",
    "\n",
    "# Fill in the variable with your favourite Hitachi Company\n",
    "my_fave_hitachi_company = \n",
    "\n",
    "if my_fave_hitachi_company in hqs:\n",
    "    print(\"The UK HQ for {} is {}\".format(my_fave_hitachi_company, hqs[my_fave_hitachi_company]))\n",
    "else:\n",
    "    print(\"Sorry I don't have the HQ for {}\")"
   ]
  },
  {
   "cell_type": "markdown",
   "metadata": {},
   "source": [
    "The `append()` method will append an item to a list.  \n",
    "Define a function that will check if the item is in the list.  \n",
    "If the item is not in the list, append it to the list.  \n",
    "Then print the list. Try this out with a few items.  "
   ]
  },
  {
   "cell_type": "code",
   "execution_count": null,
   "metadata": {
    "collapsed": true
   },
   "outputs": [],
   "source": []
  },
  {
   "cell_type": "markdown",
   "metadata": {},
   "source": [
    "## Section 3 - Loops"
   ]
  },
  {
   "cell_type": "markdown",
   "metadata": {},
   "source": [
    "The range function will give you a list of numbers between two given numbers.  \n",
    "Assign integers to two variables `x` and `y`.  \n",
    "Then call range on these numbers to get the integers between x and y.  \n",
    "Then loop through this range and print each number between x and y.  "
   ]
  },
  {
   "cell_type": "code",
   "execution_count": null,
   "metadata": {
    "collapsed": true
   },
   "outputs": [],
   "source": []
  },
  {
   "cell_type": "markdown",
   "metadata": {},
   "source": [
    "Now loop through this range and print the square of each number between x and y"
   ]
  },
  {
   "cell_type": "code",
   "execution_count": null,
   "metadata": {
    "collapsed": true
   },
   "outputs": [],
   "source": []
  },
  {
   "cell_type": "markdown",
   "metadata": {},
   "source": [
    "You can loop through a list and run conditionals on each number."
   ]
  },
  {
   "cell_type": "code",
   "execution_count": null,
   "metadata": {
    "collapsed": true
   },
   "outputs": [],
   "source": [
    "# You can loop through the list and run conditionals on each number\n",
    "for missing_limbs in range(0, 5):\n",
    "    if missing_limbs == 0:\n",
    "        print(\"None Shall Pass\")\n",
    "    elif missing_limbs == 1:\n",
    "        print(\"Tis but a scratch\")\n",
    "    elif missing_limbs == 2:\n",
    "        print(\"It's just a flesh wound\")\n",
    "    elif missing_limbs == 3:\n",
    "        print(\"I'm Invincible\")\n",
    "    elif missing_limbs == 4:\n",
    "        print(\"All right, we'll call it a draw.\")"
   ]
  },
  {
   "cell_type": "markdown",
   "metadata": {},
   "source": [
    "Assign two variables to integers, then have a go at looping through each integer between these numbers are exactly divisible by 4.   \n",
    "\n",
    "If the number is divisible by 4, print out one quarter of this number."
   ]
  },
  {
   "cell_type": "code",
   "execution_count": null,
   "metadata": {
    "collapsed": true
   },
   "outputs": [],
   "source": []
  },
  {
   "cell_type": "markdown",
   "metadata": {},
   "source": [
    "You can iterate through a list and break when a requirement is met, run the cell below to see this in action."
   ]
  },
  {
   "cell_type": "code",
   "execution_count": null,
   "metadata": {
    "collapsed": true
   },
   "outputs": [],
   "source": [
    "food_list = [\"Spaghetti\", \"Coconuts\", \"Spam\", \"Eggs\"]\n",
    "\n",
    "for food in food_list:\n",
    "    if food == \"Spam\":\n",
    "        print(\"Yum, spam!\")\n",
    "        break\n",
    "    else:\n",
    "        print(\"I don't want \" + food + \", I want spam\")"
   ]
  },
  {
   "cell_type": "markdown",
   "metadata": {},
   "source": [
    "If you iterate through a dict, you actually iterate through the keys in the dict."
   ]
  },
  {
   "cell_type": "code",
   "execution_count": null,
   "metadata": {
    "collapsed": true
   },
   "outputs": [],
   "source": [
    "stock_prices = {'IBM': 146.48, 'MSFT': 44.11, 'CSCO': 25.54, 'AAPL': 108.48, 'HTHIY': 493.57}\n",
    "for stock in stock_prices:\n",
    "    print(\"The price of {} is ${}\".format(stock, stock_prices[stock]))"
   ]
  },
  {
   "cell_type": "markdown",
   "metadata": {},
   "source": [
    "Have a go at this yourself, define your own key-value pairs in a dict.  \n",
    "Iterate through the keys and print the key and the value."
   ]
  },
  {
   "cell_type": "code",
   "execution_count": null,
   "metadata": {
    "collapsed": true
   },
   "outputs": [],
   "source": []
  },
  {
   "cell_type": "markdown",
   "metadata": {},
   "source": [
    "While loops allow you to iterate through until a condition is met.\n",
    "Run the cell below to see an example."
   ]
  },
  {
   "cell_type": "code",
   "execution_count": null,
   "metadata": {
    "collapsed": true
   },
   "outputs": [],
   "source": [
    "a = 5\n",
    "b = 1\n",
    "while b < a:\n",
    "    print(\"{} is less than {}\".format(b, a))\n",
    "    b += 1\n",
    "print(\"{} is not less than {}\".format(b, a))"
   ]
  },
  {
   "cell_type": "markdown",
   "metadata": {},
   "source": [
    "Have a go at defining your own while loop.  \n",
    "Define a string and try adding full stops to it until the length of the string is 20."
   ]
  },
  {
   "cell_type": "code",
   "execution_count": null,
   "metadata": {
    "collapsed": true
   },
   "outputs": [],
   "source": []
  },
  {
   "cell_type": "markdown",
   "metadata": {},
   "source": [
    "#### List comprehensions\n",
    "\n",
    "If we have a list defined as follows:"
   ]
  },
  {
   "cell_type": "code",
   "execution_count": null,
   "metadata": {
    "collapsed": true
   },
   "outputs": [],
   "source": [
    "my_list = [1, 4, 5, 7, 8, 10, 12, 15, 16, 20, 24, 28, 30, 35, 38]"
   ]
  },
  {
   "cell_type": "markdown",
   "metadata": {},
   "source": [
    "Instead of doing the following:"
   ]
  },
  {
   "cell_type": "code",
   "execution_count": null,
   "metadata": {
    "collapsed": true
   },
   "outputs": [],
   "source": [
    "odd_numbers_from_my_list = []\n",
    "for i in my_list:\n",
    "    if i % 2 == 1:\n",
    "        odd_numbers_from_my_list.append(i)\n",
    "        \n",
    "odd_numbers_from_my_list"
   ]
  },
  {
   "cell_type": "markdown",
   "metadata": {},
   "source": [
    "We can write:"
   ]
  },
  {
   "cell_type": "code",
   "execution_count": null,
   "metadata": {
    "collapsed": true
   },
   "outputs": [],
   "source": [
    "odd_numbers_from_my_list = [i for i in my_list if i % 2 == 1]\n",
    "\n",
    "odd_numbers_from_my_list"
   ]
  },
  {
   "cell_type": "markdown",
   "metadata": {},
   "source": [
    "Write a list comprehension that does the same as the following statement:"
   ]
  },
  {
   "cell_type": "code",
   "execution_count": null,
   "metadata": {
    "collapsed": true
   },
   "outputs": [],
   "source": [
    "cubed_even_numbers = []\n",
    "\n",
    "for i in my_list:\n",
    "    if i % 2 == 0:\n",
    "        cubed_even_numbers.append(i ** 3)\n",
    "\n",
    "cubed_even_numbers"
   ]
  },
  {
   "cell_type": "code",
   "execution_count": null,
   "metadata": {
    "collapsed": true
   },
   "outputs": [],
   "source": []
  },
  {
   "cell_type": "markdown",
   "metadata": {},
   "source": [
    "## Section 4 - Exercises"
   ]
  },
  {
   "cell_type": "markdown",
   "metadata": {},
   "source": [
    "__For each of the exercises below, carry out the instructions then try out your functions with the test cases given and make sure you don't get an assertion error and check that the test cases pass.__ \n",
    "\n",
    "__If you do get an error or the tests fail, try again.__"
   ]
  },
  {
   "cell_type": "markdown",
   "metadata": {},
   "source": [
    "Define a function `power` that takes two paramaters: `x` and `y`  \n",
    "Return the value of the `x` to the power of `y`"
   ]
  },
  {
   "cell_type": "code",
   "execution_count": null,
   "metadata": {
    "collapsed": true
   },
   "outputs": [],
   "source": [
    "# Write your function here"
   ]
  },
  {
   "cell_type": "code",
   "execution_count": null,
   "metadata": {
    "collapsed": true
   },
   "outputs": [],
   "source": [
    "# Now test your function\n",
    "test_1 = power(4, 5) == 1024\n",
    "test_2 = power(6, 3) == 216\n",
    "test_3 = power(10, 10) == 10000000000\n",
    "test_4 = power(4, -0.5) == 0.5\n",
    "test_5 = power(6561, 0.125) == 3\n",
    "\n",
    "if all([test_1, test_2, test_3, test_4, test_5]):\n",
    "    print(\"PASSED\")\n",
    "else:\n",
    "    print(\"FAILED\")"
   ]
  },
  {
   "cell_type": "markdown",
   "metadata": {},
   "source": [
    "Write a function `is_vowel` that takes a character (i.e. a string of length 1)  \n",
    "and returns `True` if it is a vowel or `False` otherwise"
   ]
  },
  {
   "cell_type": "code",
   "execution_count": null,
   "metadata": {
    "collapsed": true
   },
   "outputs": [],
   "source": []
  },
  {
   "cell_type": "code",
   "execution_count": null,
   "metadata": {
    "collapsed": true
   },
   "outputs": [],
   "source": [
    "test_1 = is_vowel('a')\n",
    "test_2 = not is_vowel('q')\n",
    "test_3 = is_vowel('e')\n",
    "test_4 = not is_vowel('9')\n",
    "test_5 = not is_vowel(';')\n",
    "test_6 = is_vowel('u')\n",
    "\n",
    "if all([test_1, test_2, test_3, test_4, test_5, test_6]) and (test_1 is True):\n",
    "    print(\"PASSED\")\n",
    "else:\n",
    "    print(\"FAILED\")"
   ]
  },
  {
   "cell_type": "markdown",
   "metadata": {},
   "source": [
    "Define a function `volume_from_dimensions` that takes 3 parameters: length, width and depth in cm.  \n",
    "Return the volume in litres  \n",
    "_Hint: 1 litre = 1dm<sup>3</sup>_"
   ]
  },
  {
   "cell_type": "code",
   "execution_count": null,
   "metadata": {
    "collapsed": true
   },
   "outputs": [],
   "source": []
  },
  {
   "cell_type": "code",
   "execution_count": null,
   "metadata": {
    "collapsed": true
   },
   "outputs": [],
   "source": [
    "test_1 = volume_from_dimensions(10, 5, 1) == 0.05\n",
    "test_2 = volume_from_dimensions(15, 15, 15) == 3.375\n",
    "test_3 = volume_from_dimensions(14, 0, 12) == 0\n",
    "test_4 = volume_from_dimensions(100, 200, 300) == 6000\n",
    "\n",
    "if all([test_1, test_2, test_3, test_4]):\n",
    "    print(\"PASSED\")\n",
    "else:\n",
    "    print(\"FAILED\")"
   ]
  },
  {
   "cell_type": "markdown",
   "metadata": {},
   "source": [
    "Define a function `pythagoras` that takes 2 numerical parameters: length and width of a right-angled triangle  \n",
    "Return the length of the hypotenuse"
   ]
  },
  {
   "cell_type": "code",
   "execution_count": null,
   "metadata": {
    "collapsed": true
   },
   "outputs": [],
   "source": []
  },
  {
   "cell_type": "code",
   "execution_count": null,
   "metadata": {
    "collapsed": true
   },
   "outputs": [],
   "source": [
    "test_1 = pythagoras(3, 4) == 5\n",
    "test_2 = pythagoras(5, 12) == 13\n",
    "test_3 = pythagoras(9, 40) == 41\n",
    "test_4 = pythagoras(58, 840) == 842\n",
    "test_5 = pythagoras(0, 10) == 10\n",
    "\n",
    "if all([test_1, test_2, test_3, test_4, test_5]):\n",
    "    print(\"PASSED\")\n",
    "else:\n",
    "    print(\"FAILED\")"
   ]
  },
  {
   "cell_type": "markdown",
   "metadata": {
    "collapsed": true
   },
   "source": [
    "Define a function `factorial` that takes 1 integer parameter: `x`  \n",
    "Return x! (\"x factorial\")"
   ]
  },
  {
   "cell_type": "code",
   "execution_count": null,
   "metadata": {
    "collapsed": true
   },
   "outputs": [],
   "source": []
  },
  {
   "cell_type": "code",
   "execution_count": null,
   "metadata": {
    "collapsed": true
   },
   "outputs": [],
   "source": [
    "test_1 = factorial(4) == 24\n",
    "test_2 = factorial(20) == 2432902008176640000\n",
    "test_3 = factorial(0) == 1\n",
    "test_4 = factorial(1) == 1\n",
    "test_5 = factorial(5) == 120\n",
    "\n",
    "if all([test_1, test_2, test_3, test_4, test_5]):\n",
    "    print(\"PASSED\")\n",
    "else:\n",
    "    print(\"FAILED\")"
   ]
  },
  {
   "cell_type": "markdown",
   "metadata": {},
   "source": [
    "Define a function `compound_interest` that takes 3 parameters: \n",
    "* an amount saved\n",
    "* an annual interest rate\n",
    "* and a number of years  \n",
    "\n",
    "Return the value of the savings to the nearest penny at the end of the period assuming the interest is paid once a year."
   ]
  },
  {
   "cell_type": "code",
   "execution_count": null,
   "metadata": {
    "collapsed": true
   },
   "outputs": [],
   "source": []
  },
  {
   "cell_type": "code",
   "execution_count": null,
   "metadata": {
    "collapsed": true
   },
   "outputs": [],
   "source": [
    "test_1 = compound_interest(20, 5, 15) == 41.58\n",
    "test_2 = compound_interest(1000, 10, 10) == 2593.74\n",
    "test_3 = compound_interest(75, 12, 15) == 410.52\n",
    "test_4 = compound_interest(0, 12, 15) == 0\n",
    "test_5 = compound_interest(10000, 1, 50) == 16446.32\n",
    "\n",
    "if all([test_1, test_2, test_3, test_4, test_5]):\n",
    "    print(\"PASSED\")\n",
    "else:\n",
    "    print(\"FAILED\")"
   ]
  },
  {
   "cell_type": "markdown",
   "metadata": {
    "collapsed": true
   },
   "source": [
    "Define a function `numbers_divisible_by_5` that takes two integer parameters and returns a list with all the numbers between these two numbers (inclusive) that are divisible by 5."
   ]
  },
  {
   "cell_type": "code",
   "execution_count": null,
   "metadata": {
    "collapsed": true
   },
   "outputs": [],
   "source": []
  },
  {
   "cell_type": "code",
   "execution_count": null,
   "metadata": {
    "collapsed": true
   },
   "outputs": [],
   "source": [
    "test_1 = numbers_divisible_by_5(4, 6) == [5]\n",
    "test_2 = numbers_divisible_by_5(96, 123) == [100, 105, 110, 115, 120]\n",
    "test_3 = numbers_divisible_by_5(95, 125) == [95, 100, 105, 110, 115, 120, 125]\n",
    "test_4 = numbers_divisible_by_5(-3, 6) == [0, 5]\n",
    "test_5 = numbers_divisible_by_5(6, 9) == []\n",
    "\n",
    "if all([test_1, test_2, test_3, test_4, test_5]):\n",
    "    print(\"PASSED\")\n",
    "else:\n",
    "    print(\"FAILED\")"
   ]
  },
  {
   "cell_type": "markdown",
   "metadata": {
    "collapsed": true
   },
   "source": [
    "Define a function `max_in_list` that takes a list of numbers as a parameter.  \n",
    "Return the highest number in the list, without using the max function."
   ]
  },
  {
   "cell_type": "code",
   "execution_count": null,
   "metadata": {
    "collapsed": true
   },
   "outputs": [],
   "source": []
  },
  {
   "cell_type": "code",
   "execution_count": null,
   "metadata": {
    "collapsed": true
   },
   "outputs": [],
   "source": [
    "test_1 = max_in_list([0, 3, 4, 323.12, 7, 9]) == 323.12\n",
    "test_2 = max_in_list([0, 0, 0, 0, 0, 0]) == 0\n",
    "test_3 = max_in_list([-5, -4, -3, -10, -20, -50]) == -3\n",
    "test_4 = max_in_list([-5, -4, -3, 20, -20, 55]) == 55\n",
    "test_5 = max_in_list([60, 60, 20, 20, 40, 40]) == 60\n",
    "test_6 = max_in_list([]) == None\n",
    "\n",
    "if all([test_1, test_2, test_3, test_4, test_5, test_6]):\n",
    "    print(\"PASSED\")\n",
    "else:\n",
    "    print(\"FAILED\")"
   ]
  },
  {
   "cell_type": "markdown",
   "metadata": {},
   "source": [
    "Write a function `lengths_of_words` that takes a string and returns a list of lengths of words in the list."
   ]
  },
  {
   "cell_type": "code",
   "execution_count": null,
   "metadata": {
    "collapsed": true
   },
   "outputs": [],
   "source": []
  },
  {
   "cell_type": "code",
   "execution_count": null,
   "metadata": {
    "collapsed": true
   },
   "outputs": [],
   "source": [
    "test_1 = lengths_of_words('My dog Spot') == [2, 3, 4]\n",
    "test_2 = lengths_of_words('The quick brown fox jumps over the lazy dog') == [3, 5, 5, 3, 5, 4, 3, 4, 3]\n",
    "test_3 = lengths_of_words('Antidisestablishmentarianism') == [28]\n",
    "test_4 = lengths_of_words('') == [0]\n",
    "test_5 = lengths_of_words('Nobody expects the Spanish Inquisition') == [6, 7, 3, 7, 11]\n",
    "\n",
    "if all([test_1, test_2, test_3, test_4, test_5]):\n",
    "    print(\"PASSED\")\n",
    "else:\n",
    "    print(\"FAILED\")"
   ]
  },
  {
   "cell_type": "markdown",
   "metadata": {},
   "source": [
    "_For more exercises, have a go at the exercises on Hacker Rank_"
   ]
  },
  {
   "cell_type": "markdown",
   "metadata": {},
   "source": [
    "## Section 5 -  Modules"
   ]
  },
  {
   "cell_type": "markdown",
   "metadata": {},
   "source": [
    "You can import individual variables/functions/classes from a module into your namespace"
   ]
  },
  {
   "cell_type": "code",
   "execution_count": null,
   "metadata": {
    "collapsed": true
   },
   "outputs": [],
   "source": [
    "from math import pi\n",
    "print(pi)"
   ]
  },
  {
   "cell_type": "markdown",
   "metadata": {},
   "source": [
    "Or you can import all variables from a module and call them using module.variable"
   ]
  },
  {
   "cell_type": "code",
   "execution_count": null,
   "metadata": {
    "collapsed": true
   },
   "outputs": [],
   "source": [
    "import math\n",
    "print(math.log10(10000))"
   ]
  },
  {
   "cell_type": "markdown",
   "metadata": {},
   "source": [
    "Have a go at importing `cos` and `pi` from the math module.\n",
    "\n",
    "Print the cosine of pi"
   ]
  },
  {
   "cell_type": "code",
   "execution_count": null,
   "metadata": {
    "collapsed": true
   },
   "outputs": [],
   "source": []
  },
  {
   "cell_type": "markdown",
   "metadata": {},
   "source": [
    "The random module has a function randint which takes in two parameters, a lower integer and an upper integer and returns an integer between those two numbers (inclusive).\n",
    "\n",
    "\n",
    "Use the randint function to roll a six-sided die and a 10-sided die and add the results together"
   ]
  },
  {
   "cell_type": "code",
   "execution_count": null,
   "metadata": {
    "collapsed": true
   },
   "outputs": [],
   "source": []
  },
  {
   "cell_type": "markdown",
   "metadata": {},
   "source": [
    "## Section 6 -  Dates and Times"
   ]
  },
  {
   "cell_type": "markdown",
   "metadata": {},
   "source": [
    "Import the `datetime` module and use a `date` and `timedelta`  \n",
    "to work out what the date is 10,000 days after you were born.  \n",
    "Is this date in the future or the past?"
   ]
  },
  {
   "cell_type": "code",
   "execution_count": null,
   "metadata": {
    "collapsed": true
   },
   "outputs": [],
   "source": []
  },
  {
   "cell_type": "markdown",
   "metadata": {},
   "source": [
    "Use `datetime.datetime.strptime` to convert these strings into datetime  \n",
    "_Hint: If you need help, visit strftime.org_"
   ]
  },
  {
   "cell_type": "code",
   "execution_count": null,
   "metadata": {
    "collapsed": true
   },
   "outputs": [],
   "source": [
    "date_1_str = '2017-12-25 04:00'"
   ]
  },
  {
   "cell_type": "code",
   "execution_count": null,
   "metadata": {
    "collapsed": true
   },
   "outputs": [],
   "source": [
    "date_2_str = '2017-01-01 01:00:00'"
   ]
  },
  {
   "cell_type": "code",
   "execution_count": null,
   "metadata": {
    "collapsed": true
   },
   "outputs": [],
   "source": [
    "date_3_str = '23/04/2012 03:04:24'"
   ]
  },
  {
   "cell_type": "code",
   "execution_count": null,
   "metadata": {
    "collapsed": true
   },
   "outputs": [],
   "source": [
    "date_4_str = '12/31/14 13:34'"
   ]
  },
  {
   "cell_type": "code",
   "execution_count": null,
   "metadata": {
    "collapsed": true
   },
   "outputs": [],
   "source": [
    "date_5_str = '2015-10-01T10:03:10'"
   ]
  },
  {
   "cell_type": "markdown",
   "metadata": {},
   "source": [
    "Convert the date in the cell below into the string formats below  \n",
    "_Hint: If you need help, visit strftime.org_"
   ]
  },
  {
   "cell_type": "code",
   "execution_count": null,
   "metadata": {
    "collapsed": true
   },
   "outputs": [],
   "source": [
    "my_dt = datetime.datetime(2010, 4, 5, 17, 11, 54)"
   ]
  },
  {
   "cell_type": "code",
   "execution_count": null,
   "metadata": {
    "collapsed": true
   },
   "outputs": [],
   "source": [
    "# \"2010/04/05 17:11:54\""
   ]
  },
  {
   "cell_type": "code",
   "execution_count": null,
   "metadata": {
    "collapsed": true
   },
   "outputs": [],
   "source": [
    "# \"17:11:54 on 5 April 2010\""
   ]
  },
  {
   "cell_type": "code",
   "execution_count": null,
   "metadata": {
    "collapsed": true
   },
   "outputs": [],
   "source": [
    "# \"2010-04-05T17:11:54"
   ]
  },
  {
   "cell_type": "code",
   "execution_count": null,
   "metadata": {
    "collapsed": true
   },
   "outputs": [],
   "source": [
    "# \"5:11:54 PM\""
   ]
  },
  {
   "cell_type": "code",
   "execution_count": null,
   "metadata": {
    "collapsed": true
   },
   "outputs": [],
   "source": [
    "# \"Monday\""
   ]
  },
  {
   "cell_type": "markdown",
   "metadata": {
    "collapsed": true
   },
   "source": [
    "Now have a go at converting this string from  \n",
    "`\"1989-11-09 19:17:00\"`  \n",
    "To \"17 minutes past 7 on November 9, 1989\"  "
   ]
  },
  {
   "cell_type": "code",
   "execution_count": null,
   "metadata": {
    "collapsed": true
   },
   "outputs": [],
   "source": []
  },
  {
   "cell_type": "markdown",
   "metadata": {},
   "source": [
    "The `datetime.datetime` class has a method `utcnow()`, use it to show you the time now in UTC"
   ]
  },
  {
   "cell_type": "code",
   "execution_count": null,
   "metadata": {
    "collapsed": true
   },
   "outputs": [],
   "source": []
  },
  {
   "cell_type": "markdown",
   "metadata": {},
   "source": [
    "Assign the current date to a variable named `today`.\n",
    "Celerant was acquired by Hitachi Consulting on 31st December 2012.\n",
    "How many days has it been?"
   ]
  },
  {
   "cell_type": "code",
   "execution_count": null,
   "metadata": {
    "collapsed": true
   },
   "outputs": [],
   "source": []
  },
  {
   "cell_type": "markdown",
   "metadata": {},
   "source": [
    "How many seconds are there between 04:05:12 on 17/09/2014 and 17:32:15 on 17/09/2018  \n",
    "How many hours is this?  \n",
    "How many days?  "
   ]
  },
  {
   "cell_type": "code",
   "execution_count": null,
   "metadata": {
    "collapsed": true
   },
   "outputs": [],
   "source": []
  },
  {
   "cell_type": "markdown",
   "metadata": {},
   "source": [
    "#### Talking Clock\n",
    "\n",
    "We're going to write a `talking_clock` function!  \n",
    "Write a function that takes no parameters  \n",
    "This function should calculate what the time will be in 3 seconds  \n",
    "Print \"At the beep, the time will be 12:04 and 34 seconds\" (But with what the time will be in 3 seconds)  \n",
    "Then wait for 3 seconds  \n",
    "Then print \"Beep!\"  \n",
    "_Hint: To wait in python, you will need to import the time module and use `time.sleep(<seconds>)`_  "
   ]
  },
  {
   "cell_type": "code",
   "execution_count": null,
   "metadata": {
    "collapsed": true
   },
   "outputs": [],
   "source": [
    "# Write your talking clock function here"
   ]
  },
  {
   "cell_type": "code",
   "execution_count": null,
   "metadata": {
    "collapsed": true
   },
   "outputs": [],
   "source": [
    "# Call your talking clock function here\n",
    "talking_clock()"
   ]
  }
 ],
 "metadata": {
  "kernelspec": {
   "display_name": "Python 3",
   "language": "python",
   "name": "python3"
  },
  "language_info": {
   "codemirror_mode": {
    "name": "ipython",
    "version": 3
   },
   "file_extension": ".py",
   "mimetype": "text/x-python",
   "name": "python",
   "nbconvert_exporter": "python",
   "pygments_lexer": "ipython3",
   "version": "3.6.1"
  }
 },
 "nbformat": 4,
 "nbformat_minor": 1
}
