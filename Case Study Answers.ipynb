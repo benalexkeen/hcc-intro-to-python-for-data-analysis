{
 "cells": [
  {
   "cell_type": "markdown",
   "metadata": {},
   "source": [
    "You've been contracted in to help a hospital with operations and diagnoses.\n",
    "\n",
    "## Surgery\n",
    "\n",
    "First, you're brought into surgery, where the head of surgery has tasked you with predicting the length of stay of patients depending on which surgery/surgeries they require. \n",
    "\n",
    "From such information they can begin to start tackling the surgeries with the most inefficiencies and they can more effectively predict allocation of bed spaces to incoming patients. They'll also be able to work out the costs incurred from a given patient's surgeries.\n",
    "\n",
    "Start by loading in the patient records of patients with surgery (`\"case_study_data/patients.csv\"`) and surgeries data (`\"case_study_data/surgery.csv\"`). In both cases, make your index patient_id.\n",
    "\n",
    "Have a quick explore of this data and fill any missing surgery values with zeroes."
   ]
  },
  {
   "cell_type": "code",
   "execution_count": 1,
   "metadata": {},
   "outputs": [],
   "source": [
    "import pandas as pd\n",
    "import numpy as np\n",
    "\n",
    "# Your code here\n",
    "\n",
    "patients = pd.read_csv('case_study_data/patients.csv', index_col='patient_id')\n",
    "surgeries = pd.read_csv('case_study_data/surgery.csv', index_col='patient_id')\n",
    "\n",
    "surgeries = surgeries.fillna(0)"
   ]
  },
  {
   "cell_type": "markdown",
   "metadata": {},
   "source": [
    "Draw a histogram of patient ages to view the distribution of the ages of surgical patients."
   ]
  },
  {
   "cell_type": "code",
   "execution_count": 2,
   "metadata": {},
   "outputs": [
    {
     "data": {
      "image/png": "[encoded data removed]",
      "text/plain": [
       "<matplotlib.figure.Figure at 0x10566be50>"
      ]
     },
     "metadata": {},
     "output_type": "display_data"
    }
   ],
   "source": [
    "import matplotlib.pyplot as plt\n",
    "import matplotlib\n",
    "%matplotlib inline\n",
    "\n",
    "plt.style.use('ggplot')\n",
    "\n",
    "# Your code here\n",
    "\n",
    "plt.hist(patients['age'], bins=20, range=(0, 100), edgecolor='black')\n",
    "plt.show()"
   ]
  },
  {
   "cell_type": "markdown",
   "metadata": {},
   "source": [
    "Now plot a boxplot of length of stay for each gender. You'll need to perform a join on the two tables."
   ]
  },
  {
   "cell_type": "code",
   "execution_count": 3,
   "metadata": {},
   "outputs": [
    {
     "data": {
      "image/png": "[encoded data removed]",
      "text/plain": [
       "<matplotlib.figure.Figure at 0x1057f5390>"
      ]
     },
     "metadata": {},
     "output_type": "display_data"
    }
   ],
   "source": [
    "# Your code here\n",
    "\n",
    "df = patients.join(surgeries)\n",
    "\n",
    "plt.boxplot([\n",
    "    df[df['gender'] == 'Female']['length_of_stay'],\n",
    "    df[df['gender'] == 'Male']['length_of_stay']\n",
    "], labels=['Female', 'Male'])\n",
    "plt.show()"
   ]
  },
  {
   "cell_type": "markdown",
   "metadata": {},
   "source": [
    "Now we'll create a linear regression model to predict length of stay given a patient's sex, age, and surgeries that were undertaken.\n",
    "\n",
    "Drop the name of the patient from your Data Frame and convert the gender of the patient to an integer boolean (0 for female or 1 for male)."
   ]
  },
  {
   "cell_type": "code",
   "execution_count": 4,
   "metadata": {},
   "outputs": [],
   "source": [
    "# Your code here\n",
    "\n",
    "df = df.drop(['first_name', 'last_name'], axis=1)\n",
    "df['gender'] = df['gender'].map({'Female': 0, 'Male': 1})"
   ]
  },
  {
   "cell_type": "markdown",
   "metadata": {},
   "source": [
    "Now split the data into\n",
    "\n",
    "* X (predictors) values and y (response) values \n",
    "* Testing and training set\n",
    "\n",
    "using a test size of 0.25 and random state of 1 for repeatability."
   ]
  },
  {
   "cell_type": "code",
   "execution_count": 5,
   "metadata": {
    "collapsed": true
   },
   "outputs": [],
   "source": [
    "from sklearn.model_selection import train_test_split \n",
    "\n",
    "# Your code here\n",
    "\n",
    "X = df.drop(['length_of_stay'], axis=1)\n",
    "y = df['length_of_stay']\n",
    "\n",
    "X_train, X_test, y_train, y_test = train_test_split(X, y, test_size=0.25, random_state=1)"
   ]
  },
  {
   "cell_type": "markdown",
   "metadata": {},
   "source": [
    "Use your training data set to create a linear regression model."
   ]
  },
  {
   "cell_type": "code",
   "execution_count": 16,
   "metadata": {},
   "outputs": [
    {
     "data": {
      "text/plain": [
       "LinearRegression(copy_X=True, fit_intercept=True, n_jobs=1, normalize=False)"
      ]
     },
     "execution_count": 16,
     "metadata": {},
     "output_type": "execute_result"
    }
   ],
   "source": [
    "from sklearn import linear_model\n",
    "\n",
    "# Your code here\n",
    "\n",
    "lm = linear_model.LinearRegression()\n",
    "\n",
    "lm.fit(X_train, y_train)"
   ]
  },
  {
   "cell_type": "markdown",
   "metadata": {},
   "source": [
    "What is the $R^2$ value for your regression model using your test data?"
   ]
  },
  {
   "cell_type": "code",
   "execution_count": 7,
   "metadata": {},
   "outputs": [
    {
     "data": {
      "text/plain": [
       "0.85616969458219461"
      ]
     },
     "execution_count": 7,
     "metadata": {},
     "output_type": "execute_result"
    }
   ],
   "source": [
    "# Your code here\n",
    "\n",
    "lm.score(X_test, y_test)"
   ]
  },
  {
   "attachments": {},
   "cell_type": "markdown",
   "metadata": {},
   "source": [
    "Given the following average prices of surgery and price of length of stay, what does the model predict the most expensive surgery is on average?\n",
    "* General Surgery - £5,300\n",
    "* Orthopaedic Surgery - £7,100\n",
    "* Cardiothoracic Surgery - £5,100\n",
    "* Neurosurgery - £4,900\n",
    "* Oral Surgery - £1,200\n",
    "* Plastic Surgery - £6,600\n",
    "* Cost of hospital stay per day - £1,000"
   ]
  },
  {
   "cell_type": "code",
   "execution_count": 8,
   "metadata": {},
   "outputs": [
    {
     "name": "stdout",
     "output_type": "stream",
     "text": [
      "Cost for oral_surgery is £2260.5\n",
      "Cost for cardiothoracic_surgery is £9833.53\n",
      "Cost for orthopaedic_surgery is £8736.92\n",
      "Cost for neurosurgery is £9922.29\n",
      "Cost for plastic_surgery is £8076.46\n",
      "Cost for general_surgery is £6888.0\n"
     ]
    }
   ],
   "source": [
    "surgery_costs = {\n",
    "    'general_surgery': 5300,\n",
    "    'orthopaedic_surgery': 7100,\n",
    "    'cardiothoracic_surgery': 5100,\n",
    "    'neurosurgery': 4900,\n",
    "    'oral_surgery': 1200,\n",
    "    'plastic_surgery': 6600,\n",
    "}\n",
    "bed_cost_per_day = 1000\n",
    "\n",
    "# Your code here\n",
    "\n",
    "coefficients = {\n",
    "    'gender': lm.coef_[0],\n",
    "    'age': lm.coef_[1],\n",
    "    'general_surgery': lm.coef_[2],\n",
    "    'orthopaedic_surgery': lm.coef_[3],\n",
    "    'cardiothoracic_surgery': lm.coef_[4],\n",
    "    'neurosurgery': lm.coef_[5],\n",
    "    'oral_surgery': lm.coef_[6],\n",
    "    'plastic_surgery': lm.coef_[7]\n",
    "}\n",
    "\n",
    "for surgery_type in surgery_costs:\n",
    "    surgery_cost = surgery_costs[surgery_type]\n",
    "    bed_cost = coefficients[surgery_type] * bed_cost_per_day\n",
    "    total_cost = round(surgery_cost + bed_cost, 2)\n",
    "    print(\"Cost for {} is £{}\".format(surgery_type, total_cost))"
   ]
  },
  {
   "cell_type": "markdown",
   "metadata": {},
   "source": [
    "Do men or women tend to stay in the hospital longer?"
   ]
  },
  {
   "cell_type": "code",
   "execution_count": 9,
   "metadata": {},
   "outputs": [
    {
     "name": "stdout",
     "output_type": "stream",
     "text": [
      "Women spend longer in the hospital\n"
     ]
    }
   ],
   "source": [
    "# Your code here\n",
    "\n",
    "men = coefficients['gender'] * 1\n",
    "women = coefficients['gender'] * 0\n",
    "\n",
    "if men > women:\n",
    "    print(\"Men spend longer in the hospital\")\n",
    "else:\n",
    "    print(\"Women spend longer in the hospital\")"
   ]
  },
  {
   "cell_type": "markdown",
   "metadata": {},
   "source": [
    "For the following patients, make a prediction on their hospital stay length and costs:\n",
    "* A 29 year old man that needs Plastic Surgery\n",
    "* A 42 year old woman that needs Cardiothoracic and Orthopaedic Surgery\n",
    "* A 72 year old man that needs 2 Oral Surgeries"
   ]
  },
  {
   "cell_type": "code",
   "execution_count": 10,
   "metadata": {},
   "outputs": [
    {
     "name": "stdout",
     "output_type": "stream",
     "text": [
      "Patient 1 will stay for 0.9 days and cost £7503.79\n",
      "Patient 2 will stay for 6.52 days and cost £18718.86\n",
      "Patient 3 will stay for 2.27 days and cost £4669.41\n"
     ]
    }
   ],
   "source": [
    "# Your code here\n",
    "\n",
    "patient1 = [1, 29, 0, 0, 0, 0, 0, 1]\n",
    "patient2 = [0, 42, 0, 1, 1, 0, 0, 0]\n",
    "patient3 = [0, 42, 0, 0, 0, 0, 2, 0]\n",
    "\n",
    "predictions = lm.predict([patient1, patient2, patient3])\n",
    "\n",
    "patient_1_stay = predictions[0]\n",
    "patient_2_stay = predictions[1]\n",
    "patient_3_stay = predictions[2]\n",
    "\n",
    "patient_1_cost = surgery_costs['plastic_surgery'] + patient_1_stay * bed_cost_per_day\n",
    "patient_2_cost = (surgery_costs['cardiothoracic_surgery'] + \n",
    "                  surgery_costs['orthopaedic_surgery'] \n",
    "                  + patient_2_stay * bed_cost_per_day)\n",
    "patient_3_cost = surgery_costs['oral_surgery'] * 2 + patient_3_stay * bed_cost_per_day\n",
    "\n",
    "print(\"Patient 1 will stay for {} days and cost £{}\".format(round(patient_1_stay, 2), round(patient_1_cost, 2)))\n",
    "print(\"Patient 2 will stay for {} days and cost £{}\".format(round(patient_2_stay, 2), round(patient_2_cost, 2)))\n",
    "print(\"Patient 3 will stay for {} days and cost £{}\".format(round(patient_3_stay, 2), round(patient_3_cost, 2)))"
   ]
  },
  {
   "cell_type": "markdown",
   "metadata": {},
   "source": [
    "## Tumour Malignancy"
   ]
  },
  {
   "cell_type": "markdown",
   "metadata": {},
   "source": [
    "You've now been asked to predict the malignancy of a breast cancer tumour given a range of physical measurements of the tumour.\n",
    "\n",
    "Start by reading in the file `\"data/breast_cancer.csv\"`"
   ]
  },
  {
   "cell_type": "code",
   "execution_count": 11,
   "metadata": {
    "collapsed": true
   },
   "outputs": [],
   "source": [
    "# Your code here\n",
    "\n",
    "breast_cancer = pd.read_csv('data/breast_cancer.csv')"
   ]
  },
  {
   "cell_type": "markdown",
   "metadata": {},
   "source": [
    "Remove any rows that have been duplicated."
   ]
  },
  {
   "cell_type": "code",
   "execution_count": 12,
   "metadata": {
    "collapsed": true
   },
   "outputs": [],
   "source": [
    "# Your code here\n",
    "\n",
    "breast_cancer = breast_cancer.drop_duplicates()"
   ]
  },
  {
   "cell_type": "markdown",
   "metadata": {},
   "source": [
    "Now split the data into\n",
    "\n",
    "* X (predictors) values and y (response) values \n",
    "* Testing and training set\n",
    "\n",
    "using a test size of 0.25 and random state of 1 for repeatability."
   ]
  },
  {
   "cell_type": "code",
   "execution_count": 13,
   "metadata": {
    "collapsed": true
   },
   "outputs": [],
   "source": [
    "# Your code here\n",
    "\n",
    "X = breast_cancer.drop('malignancy', axis=1)\n",
    "y = breast_cancer['malignancy']\n",
    "\n",
    "X_train, X_test, y_train, y_test = train_test_split(X, y, test_size=0.25, random_state=1)"
   ]
  },
  {
   "cell_type": "markdown",
   "metadata": {},
   "source": [
    "Now using a for loop, create a `KNeighborsClassifier` model, fit the model and test the accuracy when predicting the testing X (predictor) values for k values between 1 and 20. \n",
    "\n",
    "Which k value gives the most accurate predictions?"
   ]
  },
  {
   "cell_type": "code",
   "execution_count": 14,
   "metadata": {},
   "outputs": [
    {
     "name": "stdout",
     "output_type": "stream",
     "text": [
      "Accuracy Score for k=1 is 0.9231\n",
      "Accuracy Score for k=2 is 0.9021\n",
      "Accuracy Score for k=3 is 0.9231\n",
      "Accuracy Score for k=4 is 0.9441\n",
      "Accuracy Score for k=5 is 0.9371\n",
      "Accuracy Score for k=6 is 0.9231\n",
      "Accuracy Score for k=7 is 0.9301\n",
      "Accuracy Score for k=8 is 0.9231\n",
      "Accuracy Score for k=9 is 0.9231\n",
      "Accuracy Score for k=10 is 0.9231\n",
      "Accuracy Score for k=11 is 0.9231\n",
      "Accuracy Score for k=12 is 0.9231\n",
      "Accuracy Score for k=13 is 0.9231\n",
      "Accuracy Score for k=14 is 0.9231\n",
      "Accuracy Score for k=15 is 0.9231\n",
      "Accuracy Score for k=16 is 0.9161\n",
      "Accuracy Score for k=17 is 0.9161\n",
      "Accuracy Score for k=18 is 0.9161\n",
      "Accuracy Score for k=19 is 0.9161\n",
      "Accuracy Score for k=20 is 0.9161\n"
     ]
    }
   ],
   "source": [
    "from sklearn.neighbors import KNeighborsClassifier\n",
    "from sklearn.metrics import accuracy_score\n",
    "\n",
    "# Your code here\n",
    "\n",
    "for k in range(1, 21):\n",
    "    knn_model = KNeighborsClassifier(n_neighbors=k)\n",
    "    knn_model.fit(X_train, y_train)\n",
    "    y_predict = knn_model.predict(X_test)\n",
    "    accuracy = accuracy_score(y_test, y_predict)\n",
    "    print(\"Accuracy Score for k={} is {}\".format(k, round(accuracy, 4)))"
   ]
  },
  {
   "cell_type": "markdown",
   "metadata": {},
   "source": [
    "The problem with your accuracy score is that it doesn't give any information about false positives.\n",
    "\n",
    "However, in this case, there's a lot more cost to have false negatives than false positives in this case. If you mis-diagnose someone with a benign tumour when it's malignant, this could have devastating effects for that patient.\n",
    "\n",
    "Using the best k value above, create your own confusion matrix of:\n",
    "```\n",
    "True Positives  | False Negatives\n",
    "--------------- | ---------------\n",
    "False Positives | True Negatives\n",
    "```"
   ]
  },
  {
   "cell_type": "code",
   "execution_count": 15,
   "metadata": {},
   "outputs": [
    {
     "data": {
      "text/plain": [
       "array([[49,  6],\n",
       "       [ 2, 86]])"
      ]
     },
     "execution_count": 15,
     "metadata": {},
     "output_type": "execute_result"
    }
   ],
   "source": [
    "# Your code here\n",
    "\n",
    "knn_model = KNeighborsClassifier(n_neighbors=4)\n",
    "knn_model.fit(X_train, y_train)\n",
    "y_predict = knn_model.predict(X_test)\n",
    "\n",
    "true_positives = false_negatives = false_positives = true_negatives = 0\n",
    "\n",
    "for idx in range(len(y_test)):\n",
    "    if y_test.iloc[idx] == 1 and y_predict[idx] == 1:\n",
    "        true_positives += 1\n",
    "    elif y_test.iloc[idx] == 1 and y_predict[idx] == 0:\n",
    "        false_negatives += 1\n",
    "    elif y_test.iloc[idx] == 0 and y_predict[idx] == 0:\n",
    "        true_negatives += 1\n",
    "    else:\n",
    "        false_positives += 1\n",
    "\n",
    "np.array([[true_positives, false_negatives], [false_positives, true_negatives]])"
   ]
  },
  {
   "cell_type": "markdown",
   "metadata": {},
   "source": [
    "If doctors are currently working on a 5% false negative rate, does your model perform better or worse than this?"
   ]
  },
  {
   "cell_type": "code",
   "execution_count": null,
   "metadata": {
    "collapsed": true
   },
   "outputs": [],
   "source": []
  }
 ],
 "metadata": {
  "kernelspec": {
   "display_name": "Python 2",
   "language": "python",
   "name": "python2"
  },
  "language_info": {
   "codemirror_mode": {
    "name": "ipython",
    "version": 2
   },
   "file_extension": ".py",
   "mimetype": "text/x-python",
   "name": "python",
   "nbconvert_exporter": "python",
   "pygments_lexer": "ipython2",
   "version": "2.7.11"
  }
 },
 "nbformat": 4,
 "nbformat_minor": 2
}
