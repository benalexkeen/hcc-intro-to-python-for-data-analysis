{
 "cells": [
  {
   "cell_type": "code",
   "execution_count": 1,
   "metadata": {
    "collapsed": true
   },
   "outputs": [],
   "source": [
    "import pandas as pd\n",
    "import os\n",
    "import numpy as np"
   ]
  },
  {
   "cell_type": "code",
   "execution_count": 2,
   "metadata": {
    "collapsed": false
   },
   "outputs": [
    {
     "data": {
      "text/plain": [
       "['.ipynb_checkpoints',\n",
       " 'customers.csv',\n",
       " 'MOCK_DATA (1).csv',\n",
       " 'MOCK_DATA (10).csv',\n",
       " 'MOCK_DATA (11).csv',\n",
       " 'MOCK_DATA (2).csv',\n",
       " 'MOCK_DATA (3).csv',\n",
       " 'MOCK_DATA (4).csv',\n",
       " 'MOCK_DATA (5).csv',\n",
       " 'MOCK_DATA (6).csv',\n",
       " 'MOCK_DATA (7).csv',\n",
       " 'MOCK_DATA (8).csv',\n",
       " 'MOCK_DATA (9).csv',\n",
       " 'MOCK_DATA.csv',\n",
       " 'products.csv',\n",
       " 'Untitled.ipynb']"
      ]
     },
     "execution_count": 2,
     "metadata": {},
     "output_type": "execute_result"
    }
   ],
   "source": [
    "os.listdir('.')"
   ]
  },
  {
   "cell_type": "code",
   "execution_count": null,
   "metadata": {
    "collapsed": true
   },
   "outputs": [],
   "source": [
    "all_dfs = []\n",
    "\n",
    "for filename in [x for x in os.listdir('.') if x.startswith('MOCK')]:\n",
    "    all_dfs.append(pd.read_csv(filename))\n",
    "\n",
    "master_df = pd.concat(all_dfs)"
   ]
  },
  {
   "cell_type": "code",
   "execution_count": null,
   "metadata": {
    "collapsed": true
   },
   "outputs": [],
   "source": [
    "master_df.reset_index(drop=True, inplace=True)"
   ]
  },
  {
   "cell_type": "code",
   "execution_count": null,
   "metadata": {
    "collapsed": false
   },
   "outputs": [],
   "source": [
    "master_df = master_df.reindex(np.random.permutation(master_df.index))"
   ]
  },
  {
   "cell_type": "code",
   "execution_count": null,
   "metadata": {
    "collapsed": false
   },
   "outputs": [],
   "source": [
    "master_df.reset_index(drop=True, inplace=True)"
   ]
  },
  {
   "cell_type": "code",
   "execution_count": null,
   "metadata": {
    "collapsed": false
   },
   "outputs": [],
   "source": [
    "master_df['customer_id'] = master_df.index + 1"
   ]
  },
  {
   "cell_type": "code",
   "execution_count": null,
   "metadata": {
    "collapsed": false
   },
   "outputs": [],
   "source": [
    "master_df.to_csv('customers.csv', index=False)"
   ]
  },
  {
   "cell_type": "code",
   "execution_count": null,
   "metadata": {
    "collapsed": false
   },
   "outputs": [],
   "source": [
    "products = pd.read_csv('products.csv')"
   ]
  },
  {
   "cell_type": "code",
   "execution_count": null,
   "metadata": {
    "collapsed": false
   },
   "outputs": [],
   "source": [
    "products = products[~products.duplicated(['product_name'])]"
   ]
  },
  {
   "cell_type": "code",
   "execution_count": null,
   "metadata": {
    "collapsed": true
   },
   "outputs": [],
   "source": [
    "products.reset_index(drop=True, inplace=True)"
   ]
  },
  {
   "cell_type": "code",
   "execution_count": null,
   "metadata": {
    "collapsed": false
   },
   "outputs": [],
   "source": [
    "products['product_id'] = products.index + 1"
   ]
  },
  {
   "cell_type": "code",
   "execution_count": null,
   "metadata": {
    "collapsed": false
   },
   "outputs": [],
   "source": [
    "products.to_csv('products.csv', index=False)"
   ]
  },
  {
   "cell_type": "code",
   "execution_count": null,
   "metadata": {
    "collapsed": false
   },
   "outputs": [],
   "source": [
    "products"
   ]
  },
  {
   "cell_type": "code",
   "execution_count": null,
   "metadata": {
    "collapsed": false
   },
   "outputs": [],
   "source": [
    "np.random.randint(0,365, 100000)"
   ]
  },
  {
   "cell_type": "code",
   "execution_count": null,
   "metadata": {
    "collapsed": false
   },
   "outputs": [],
   "source": [
    "np.log10(14)"
   ]
  },
  {
   "cell_type": "code",
   "execution_count": null,
   "metadata": {
    "collapsed": false
   },
   "outputs": [],
   "source": [
    "len(master_df)"
   ]
  },
  {
   "cell_type": "code",
   "execution_count": 6,
   "metadata": {
    "collapsed": true
   },
   "outputs": [],
   "source": [
    "products = pd.DataFrame()"
   ]
  },
  {
   "cell_type": "code",
   "execution_count": 3,
   "metadata": {
    "collapsed": true
   },
   "outputs": [],
   "source": [
    "import datetime"
   ]
  },
  {
   "cell_type": "code",
   "execution_count": 4,
   "metadata": {
    "collapsed": false
   },
   "outputs": [],
   "source": [
    "dates = pd.Series(np.random.randint(0,366, 100000)).map(lambda x: datetime.datetime(2016, 1, 1) + datetime.timedelta(days=x))"
   ]
  },
  {
   "cell_type": "code",
   "execution_count": 7,
   "metadata": {
    "collapsed": false
   },
   "outputs": [],
   "source": [
    "products['Date'] = dates"
   ]
  },
  {
   "cell_type": "code",
   "execution_count": 8,
   "metadata": {
    "collapsed": false
   },
   "outputs": [],
   "source": [
    "times = pd.Series((np.random.randint(0, 1440, 100000))).map(lambda x: datetime.datetime(2016, 1, 1, 0, 0) + datetime.timedelta(minutes=x))"
   ]
  },
  {
   "cell_type": "code",
   "execution_count": 9,
   "metadata": {
    "collapsed": false
   },
   "outputs": [],
   "source": [
    "times = times.map(lambda x: x.time())"
   ]
  },
  {
   "cell_type": "code",
   "execution_count": 10,
   "metadata": {
    "collapsed": false
   },
   "outputs": [],
   "source": [
    "products['Time'] = times"
   ]
  },
  {
   "cell_type": "code",
   "execution_count": 11,
   "metadata": {
    "collapsed": false
   },
   "outputs": [],
   "source": [
    "products['Date'] =products['Date'].map(lambda x: x.date())"
   ]
  },
  {
   "cell_type": "code",
   "execution_count": 12,
   "metadata": {
    "collapsed": false
   },
   "outputs": [],
   "source": [
    "products = products.rename(columns={'Date': 'date', 'Time': 'time'})"
   ]
  },
  {
   "cell_type": "code",
   "execution_count": 13,
   "metadata": {
    "collapsed": false
   },
   "outputs": [],
   "source": [
    "quantity = np.random.poisson(1.0, 100000)"
   ]
  },
  {
   "cell_type": "code",
   "execution_count": 14,
   "metadata": {
    "collapsed": false
   },
   "outputs": [],
   "source": [
    "products['quantity'] = pd.Series(quantity+1)"
   ]
  },
  {
   "cell_type": "code",
   "execution_count": 15,
   "metadata": {
    "collapsed": false
   },
   "outputs": [],
   "source": [
    "products['product_id'] = np.random.randint(1, 459, 100000)"
   ]
  },
  {
   "cell_type": "code",
   "execution_count": 26,
   "metadata": {
    "collapsed": false
   },
   "outputs": [
    {
     "data": {
      "text/html": [
       "<div>\n",
       "<table border=\"1\" class=\"dataframe\">\n",
       "  <thead>\n",
       "    <tr style=\"text-align: right;\">\n",
       "      <th></th>\n",
       "      <th>order_id</th>\n",
       "      <th>date</th>\n",
       "      <th>time</th>\n",
       "      <th>product_id</th>\n",
       "      <th>quantity</th>\n",
       "      <th>customer_id</th>\n",
       "    </tr>\n",
       "  </thead>\n",
       "  <tbody>\n",
       "    <tr>\n",
       "      <th>0</th>\n",
       "      <td>1</td>\n",
       "      <td>2016-04-21</td>\n",
       "      <td>17:45:00</td>\n",
       "      <td>371</td>\n",
       "      <td>3</td>\n",
       "      <td>1</td>\n",
       "    </tr>\n",
       "    <tr>\n",
       "      <th>1</th>\n",
       "      <td>2</td>\n",
       "      <td>2016-01-25</td>\n",
       "      <td>19:33:00</td>\n",
       "      <td>75</td>\n",
       "      <td>4</td>\n",
       "      <td>2</td>\n",
       "    </tr>\n",
       "    <tr>\n",
       "      <th>2</th>\n",
       "      <td>3</td>\n",
       "      <td>2016-05-23</td>\n",
       "      <td>12:18:00</td>\n",
       "      <td>448</td>\n",
       "      <td>2</td>\n",
       "      <td>3</td>\n",
       "    </tr>\n",
       "    <tr>\n",
       "      <th>3</th>\n",
       "      <td>4</td>\n",
       "      <td>2016-03-05</td>\n",
       "      <td>00:19:00</td>\n",
       "      <td>7</td>\n",
       "      <td>2</td>\n",
       "      <td>4</td>\n",
       "    </tr>\n",
       "    <tr>\n",
       "      <th>4</th>\n",
       "      <td>5</td>\n",
       "      <td>2016-07-01</td>\n",
       "      <td>09:49:00</td>\n",
       "      <td>72</td>\n",
       "      <td>1</td>\n",
       "      <td>5</td>\n",
       "    </tr>\n",
       "  </tbody>\n",
       "</table>\n",
       "</div>"
      ],
      "text/plain": [
       "   order_id        date      time  product_id  quantity  customer_id\n",
       "0         1  2016-04-21  17:45:00         371         3            1\n",
       "1         2  2016-01-25  19:33:00          75         4            2\n",
       "2         3  2016-05-23  12:18:00         448         2            3\n",
       "3         4  2016-03-05  00:19:00           7         2            4\n",
       "4         5  2016-07-01  09:49:00          72         1            5"
      ]
     },
     "execution_count": 26,
     "metadata": {},
     "output_type": "execute_result"
    }
   ],
   "source": [
    "products.head()"
   ]
  },
  {
   "cell_type": "code",
   "execution_count": 30,
   "metadata": {
    "collapsed": false
   },
   "outputs": [],
   "source": [
    "products = products.sort_values(['date', 'time'])"
   ]
  },
  {
   "cell_type": "code",
   "execution_count": 33,
   "metadata": {
    "collapsed": false
   },
   "outputs": [],
   "source": [
    "products = products.reset_index(drop=True)"
   ]
  },
  {
   "cell_type": "code",
   "execution_count": 34,
   "metadata": {
    "collapsed": false
   },
   "outputs": [],
   "source": [
    "products['order_id'] = products.index + 1"
   ]
  },
  {
   "cell_type": "code",
   "execution_count": 35,
   "metadata": {
    "collapsed": false
   },
   "outputs": [],
   "source": [
    "products['customer_id'] = 1"
   ]
  },
  {
   "cell_type": "code",
   "execution_count": 39,
   "metadata": {
    "collapsed": false
   },
   "outputs": [],
   "source": [
    "current_customer_id = 0\n",
    "for i in products.index:\n",
    "    if current_customer_id <= 12000:\n",
    "        if np.random.rand() < (1/9.0):\n",
    "            customer_id = np.random.randint(1, current_customer_id)\n",
    "        else:\n",
    "            customer_id = current_customer_id + 1\n",
    "            current_customer_id += 1\n",
    "    else:\n",
    "        customer_id = np.random.randint(1, current_customer_id)\n",
    "    products.loc[i, 'customer_id'] = customer_id"
   ]
  },
  {
   "cell_type": "code",
   "execution_count": 40,
   "metadata": {
    "collapsed": false
   },
   "outputs": [],
   "source": [
    "products = products.reindex_axis(['order_id', 'date', 'time', 'product_id', 'quantity', 'customer_id'], axis=1)"
   ]
  },
  {
   "cell_type": "code",
   "execution_count": 41,
   "metadata": {
    "collapsed": false
   },
   "outputs": [],
   "source": [
    "products.to_csv('sales.csv', index=False)"
   ]
  },
  {
   "cell_type": "code",
   "execution_count": 42,
   "metadata": {
    "collapsed": true
   },
   "outputs": [],
   "source": [
    "products = pd.read_csv('products.csv')"
   ]
  },
  {
   "cell_type": "code",
   "execution_count": 62,
   "metadata": {
    "collapsed": false
   },
   "outputs": [],
   "source": [
    "products['price'] = np.random.randint(25, 10000, 458)"
   ]
  },
  {
   "cell_type": "code",
   "execution_count": 63,
   "metadata": {
    "collapsed": false
   },
   "outputs": [],
   "source": [
    "products['price'] = products['price'].map(lambda x: '£%.2f' % (x / 100.0))"
   ]
  },
  {
   "cell_type": "code",
   "execution_count": 64,
   "metadata": {
    "collapsed": false
   },
   "outputs": [
    {
     "data": {
      "text/html": [
       "<div>\n",
       "<table border=\"1\" class=\"dataframe\">\n",
       "  <thead>\n",
       "    <tr style=\"text-align: right;\">\n",
       "      <th></th>\n",
       "      <th>product_id</th>\n",
       "      <th>product_name</th>\n",
       "      <th>price</th>\n",
       "    </tr>\n",
       "  </thead>\n",
       "  <tbody>\n",
       "    <tr>\n",
       "      <th>0</th>\n",
       "      <td>1</td>\n",
       "      <td>Simvastatin</td>\n",
       "      <td>£19.07</td>\n",
       "    </tr>\n",
       "    <tr>\n",
       "      <th>1</th>\n",
       "      <td>2</td>\n",
       "      <td>Naproxen</td>\n",
       "      <td>£3.80</td>\n",
       "    </tr>\n",
       "    <tr>\n",
       "      <th>2</th>\n",
       "      <td>3</td>\n",
       "      <td>Throat Formula</td>\n",
       "      <td>£82.79</td>\n",
       "    </tr>\n",
       "    <tr>\n",
       "      <th>3</th>\n",
       "      <td>4</td>\n",
       "      <td>Kadian</td>\n",
       "      <td>£26.51</td>\n",
       "    </tr>\n",
       "    <tr>\n",
       "      <th>4</th>\n",
       "      <td>5</td>\n",
       "      <td>METFORMIN HYDROCHLORIDE</td>\n",
       "      <td>£5.07</td>\n",
       "    </tr>\n",
       "    <tr>\n",
       "      <th>5</th>\n",
       "      <td>6</td>\n",
       "      <td>Secura Protective</td>\n",
       "      <td>£0.62</td>\n",
       "    </tr>\n",
       "    <tr>\n",
       "      <th>6</th>\n",
       "      <td>7</td>\n",
       "      <td>Allergenic Extracts Standardized Mite</td>\n",
       "      <td>£82.52</td>\n",
       "    </tr>\n",
       "    <tr>\n",
       "      <th>7</th>\n",
       "      <td>8</td>\n",
       "      <td>Diovan</td>\n",
       "      <td>£73.12</td>\n",
       "    </tr>\n",
       "    <tr>\n",
       "      <th>8</th>\n",
       "      <td>9</td>\n",
       "      <td>Comfort</td>\n",
       "      <td>£46.52</td>\n",
       "    </tr>\n",
       "    <tr>\n",
       "      <th>9</th>\n",
       "      <td>10</td>\n",
       "      <td>Gentamicin Sulfate</td>\n",
       "      <td>£20.91</td>\n",
       "    </tr>\n",
       "    <tr>\n",
       "      <th>10</th>\n",
       "      <td>11</td>\n",
       "      <td>Gas Relief</td>\n",
       "      <td>£5.83</td>\n",
       "    </tr>\n",
       "    <tr>\n",
       "      <th>11</th>\n",
       "      <td>12</td>\n",
       "      <td>Medroxyprogesterone Acetate</td>\n",
       "      <td>£21.04</td>\n",
       "    </tr>\n",
       "    <tr>\n",
       "      <th>12</th>\n",
       "      <td>13</td>\n",
       "      <td>CELEBREX</td>\n",
       "      <td>£27.43</td>\n",
       "    </tr>\n",
       "    <tr>\n",
       "      <th>13</th>\n",
       "      <td>14</td>\n",
       "      <td>Prednisone</td>\n",
       "      <td>£80.72</td>\n",
       "    </tr>\n",
       "    <tr>\n",
       "      <th>14</th>\n",
       "      <td>15</td>\n",
       "      <td>TOPIRAMATE</td>\n",
       "      <td>£6.22</td>\n",
       "    </tr>\n",
       "    <tr>\n",
       "      <th>15</th>\n",
       "      <td>16</td>\n",
       "      <td>Anastrozole</td>\n",
       "      <td>£8.96</td>\n",
       "    </tr>\n",
       "    <tr>\n",
       "      <th>16</th>\n",
       "      <td>17</td>\n",
       "      <td>FLUOXETINE</td>\n",
       "      <td>£80.27</td>\n",
       "    </tr>\n",
       "    <tr>\n",
       "      <th>17</th>\n",
       "      <td>18</td>\n",
       "      <td>Acyclovir</td>\n",
       "      <td>£46.63</td>\n",
       "    </tr>\n",
       "    <tr>\n",
       "      <th>18</th>\n",
       "      <td>19</td>\n",
       "      <td>Pramipexole Dihydrochloride</td>\n",
       "      <td>£54.75</td>\n",
       "    </tr>\n",
       "    <tr>\n",
       "      <th>19</th>\n",
       "      <td>20</td>\n",
       "      <td>Bacteriostatic Sodium Chloride</td>\n",
       "      <td>£20.39</td>\n",
       "    </tr>\n",
       "    <tr>\n",
       "      <th>20</th>\n",
       "      <td>21</td>\n",
       "      <td>Neutrogena Rapid Clear 7 Day Acne Intervention</td>\n",
       "      <td>£5.16</td>\n",
       "    </tr>\n",
       "    <tr>\n",
       "      <th>21</th>\n",
       "      <td>22</td>\n",
       "      <td>Contac Cold and Flu</td>\n",
       "      <td>£46.24</td>\n",
       "    </tr>\n",
       "    <tr>\n",
       "      <th>22</th>\n",
       "      <td>23</td>\n",
       "      <td>Orphenadrine Citrate</td>\n",
       "      <td>£59.33</td>\n",
       "    </tr>\n",
       "    <tr>\n",
       "      <th>23</th>\n",
       "      <td>24</td>\n",
       "      <td>Xarelto</td>\n",
       "      <td>£30.71</td>\n",
       "    </tr>\n",
       "    <tr>\n",
       "      <th>24</th>\n",
       "      <td>25</td>\n",
       "      <td>ZONISAMIDE</td>\n",
       "      <td>£24.69</td>\n",
       "    </tr>\n",
       "    <tr>\n",
       "      <th>25</th>\n",
       "      <td>26</td>\n",
       "      <td>Amoxicillin</td>\n",
       "      <td>£47.64</td>\n",
       "    </tr>\n",
       "    <tr>\n",
       "      <th>26</th>\n",
       "      <td>27</td>\n",
       "      <td>Hydralazine Hydrochloride</td>\n",
       "      <td>£89.88</td>\n",
       "    </tr>\n",
       "    <tr>\n",
       "      <th>27</th>\n",
       "      <td>28</td>\n",
       "      <td>Antiseptic Mouth rinse</td>\n",
       "      <td>£43.91</td>\n",
       "    </tr>\n",
       "    <tr>\n",
       "      <th>28</th>\n",
       "      <td>29</td>\n",
       "      <td>Disopyramide Phosphate</td>\n",
       "      <td>£5.19</td>\n",
       "    </tr>\n",
       "    <tr>\n",
       "      <th>29</th>\n",
       "      <td>30</td>\n",
       "      <td>NiteTime DayTime</td>\n",
       "      <td>£37.86</td>\n",
       "    </tr>\n",
       "    <tr>\n",
       "      <th>...</th>\n",
       "      <td>...</td>\n",
       "      <td>...</td>\n",
       "      <td>...</td>\n",
       "    </tr>\n",
       "    <tr>\n",
       "      <th>428</th>\n",
       "      <td>429</td>\n",
       "      <td>Morale Remedy No. 19</td>\n",
       "      <td>£59.14</td>\n",
       "    </tr>\n",
       "    <tr>\n",
       "      <th>429</th>\n",
       "      <td>430</td>\n",
       "      <td>Green Guard Maximum Non-Aspirin</td>\n",
       "      <td>£91.23</td>\n",
       "    </tr>\n",
       "    <tr>\n",
       "      <th>430</th>\n",
       "      <td>431</td>\n",
       "      <td>Liposyn II</td>\n",
       "      <td>£86.20</td>\n",
       "    </tr>\n",
       "    <tr>\n",
       "      <th>431</th>\n",
       "      <td>432</td>\n",
       "      <td>Cyproheptadine Hydrochloride</td>\n",
       "      <td>£5.04</td>\n",
       "    </tr>\n",
       "    <tr>\n",
       "      <th>432</th>\n",
       "      <td>433</td>\n",
       "      <td>Betamethasone Dipropionate</td>\n",
       "      <td>£68.50</td>\n",
       "    </tr>\n",
       "    <tr>\n",
       "      <th>433</th>\n",
       "      <td>434</td>\n",
       "      <td>Rejuvenate 2000 PM Formula For Men</td>\n",
       "      <td>£59.34</td>\n",
       "    </tr>\n",
       "    <tr>\n",
       "      <th>434</th>\n",
       "      <td>435</td>\n",
       "      <td>ASPERGILLUS FUMIGATUS</td>\n",
       "      <td>£11.85</td>\n",
       "    </tr>\n",
       "    <tr>\n",
       "      <th>435</th>\n",
       "      <td>436</td>\n",
       "      <td>Duloxetine hydrochloride</td>\n",
       "      <td>£27.80</td>\n",
       "    </tr>\n",
       "    <tr>\n",
       "      <th>436</th>\n",
       "      <td>437</td>\n",
       "      <td>Meprobamate</td>\n",
       "      <td>£2.16</td>\n",
       "    </tr>\n",
       "    <tr>\n",
       "      <th>437</th>\n",
       "      <td>438</td>\n",
       "      <td>Drainage D-Tox Lymph</td>\n",
       "      <td>£22.40</td>\n",
       "    </tr>\n",
       "    <tr>\n",
       "      <th>438</th>\n",
       "      <td>439</td>\n",
       "      <td>Ropinirole</td>\n",
       "      <td>£46.26</td>\n",
       "    </tr>\n",
       "    <tr>\n",
       "      <th>439</th>\n",
       "      <td>440</td>\n",
       "      <td>Jasmine 3D Moist Pact</td>\n",
       "      <td>£31.11</td>\n",
       "    </tr>\n",
       "    <tr>\n",
       "      <th>440</th>\n",
       "      <td>441</td>\n",
       "      <td>Bupropion Hydrochloride</td>\n",
       "      <td>£84.30</td>\n",
       "    </tr>\n",
       "    <tr>\n",
       "      <th>441</th>\n",
       "      <td>442</td>\n",
       "      <td>Nix</td>\n",
       "      <td>£57.79</td>\n",
       "    </tr>\n",
       "    <tr>\n",
       "      <th>442</th>\n",
       "      <td>443</td>\n",
       "      <td>Umcka FastActives Berry</td>\n",
       "      <td>£0.49</td>\n",
       "    </tr>\n",
       "    <tr>\n",
       "      <th>443</th>\n",
       "      <td>444</td>\n",
       "      <td>TICE BCG</td>\n",
       "      <td>£35.70</td>\n",
       "    </tr>\n",
       "    <tr>\n",
       "      <th>444</th>\n",
       "      <td>445</td>\n",
       "      <td>Finasteride</td>\n",
       "      <td>£66.93</td>\n",
       "    </tr>\n",
       "    <tr>\n",
       "      <th>445</th>\n",
       "      <td>446</td>\n",
       "      <td>CY BETTER LIPS BALM Humectante para Labios con...</td>\n",
       "      <td>£29.21</td>\n",
       "    </tr>\n",
       "    <tr>\n",
       "      <th>446</th>\n",
       "      <td>447</td>\n",
       "      <td>AMARANTHUS TUBERCULATUS POLLEN</td>\n",
       "      <td>£15.83</td>\n",
       "    </tr>\n",
       "    <tr>\n",
       "      <th>447</th>\n",
       "      <td>448</td>\n",
       "      <td>COLDS NAUSEA VOMITING</td>\n",
       "      <td>£2.64</td>\n",
       "    </tr>\n",
       "    <tr>\n",
       "      <th>448</th>\n",
       "      <td>449</td>\n",
       "      <td>Alprazolam</td>\n",
       "      <td>£87.03</td>\n",
       "    </tr>\n",
       "    <tr>\n",
       "      <th>449</th>\n",
       "      <td>450</td>\n",
       "      <td>COLLINSONIA CANADENSIS</td>\n",
       "      <td>£69.38</td>\n",
       "    </tr>\n",
       "    <tr>\n",
       "      <th>450</th>\n",
       "      <td>451</td>\n",
       "      <td>Allopurinol</td>\n",
       "      <td>£46.22</td>\n",
       "    </tr>\n",
       "    <tr>\n",
       "      <th>451</th>\n",
       "      <td>452</td>\n",
       "      <td>care one pain relief</td>\n",
       "      <td>£53.91</td>\n",
       "    </tr>\n",
       "    <tr>\n",
       "      <th>452</th>\n",
       "      <td>453</td>\n",
       "      <td>LBEL EFFET PARFAIT Spots Reducing Effect Found...</td>\n",
       "      <td>£69.72</td>\n",
       "    </tr>\n",
       "    <tr>\n",
       "      <th>453</th>\n",
       "      <td>454</td>\n",
       "      <td>Doxorubicin Hydrochloride</td>\n",
       "      <td>£77.51</td>\n",
       "    </tr>\n",
       "    <tr>\n",
       "      <th>454</th>\n",
       "      <td>455</td>\n",
       "      <td>Carpellum Mali Comp.</td>\n",
       "      <td>£67.25</td>\n",
       "    </tr>\n",
       "    <tr>\n",
       "      <th>455</th>\n",
       "      <td>456</td>\n",
       "      <td>simvastatin</td>\n",
       "      <td>£29.44</td>\n",
       "    </tr>\n",
       "    <tr>\n",
       "      <th>456</th>\n",
       "      <td>457</td>\n",
       "      <td>Eyewash Flushing Solution</td>\n",
       "      <td>£48.62</td>\n",
       "    </tr>\n",
       "    <tr>\n",
       "      <th>457</th>\n",
       "      <td>458</td>\n",
       "      <td>HYDROCORTISONE</td>\n",
       "      <td>£54.90</td>\n",
       "    </tr>\n",
       "  </tbody>\n",
       "</table>\n",
       "<p>458 rows × 3 columns</p>\n",
       "</div>"
      ],
      "text/plain": [
       "     product_id                                       product_name   price\n",
       "0             1                                        Simvastatin  £19.07\n",
       "1             2                                           Naproxen   £3.80\n",
       "2             3                                     Throat Formula  £82.79\n",
       "3             4                                             Kadian  £26.51\n",
       "4             5                            METFORMIN HYDROCHLORIDE   £5.07\n",
       "5             6                                  Secura Protective   £0.62\n",
       "6             7              Allergenic Extracts Standardized Mite  £82.52\n",
       "7             8                                             Diovan  £73.12\n",
       "8             9                                            Comfort  £46.52\n",
       "9            10                                 Gentamicin Sulfate  £20.91\n",
       "10           11                                         Gas Relief   £5.83\n",
       "11           12                        Medroxyprogesterone Acetate  £21.04\n",
       "12           13                                           CELEBREX  £27.43\n",
       "13           14                                         Prednisone  £80.72\n",
       "14           15                                         TOPIRAMATE   £6.22\n",
       "15           16                                        Anastrozole   £8.96\n",
       "16           17                                         FLUOXETINE  £80.27\n",
       "17           18                                          Acyclovir  £46.63\n",
       "18           19                        Pramipexole Dihydrochloride  £54.75\n",
       "19           20                     Bacteriostatic Sodium Chloride  £20.39\n",
       "20           21     Neutrogena Rapid Clear 7 Day Acne Intervention   £5.16\n",
       "21           22                                Contac Cold and Flu  £46.24\n",
       "22           23                               Orphenadrine Citrate  £59.33\n",
       "23           24                                            Xarelto  £30.71\n",
       "24           25                                         ZONISAMIDE  £24.69\n",
       "25           26                                        Amoxicillin  £47.64\n",
       "26           27                          Hydralazine Hydrochloride  £89.88\n",
       "27           28                             Antiseptic Mouth rinse  £43.91\n",
       "28           29                             Disopyramide Phosphate   £5.19\n",
       "29           30                                   NiteTime DayTime  £37.86\n",
       "..          ...                                                ...     ...\n",
       "428         429                               Morale Remedy No. 19  £59.14\n",
       "429         430                    Green Guard Maximum Non-Aspirin  £91.23\n",
       "430         431                                         Liposyn II  £86.20\n",
       "431         432                       Cyproheptadine Hydrochloride   £5.04\n",
       "432         433                         Betamethasone Dipropionate  £68.50\n",
       "433         434                 Rejuvenate 2000 PM Formula For Men  £59.34\n",
       "434         435                              ASPERGILLUS FUMIGATUS  £11.85\n",
       "435         436                           Duloxetine hydrochloride  £27.80\n",
       "436         437                                        Meprobamate   £2.16\n",
       "437         438                               Drainage D-Tox Lymph  £22.40\n",
       "438         439                                         Ropinirole  £46.26\n",
       "439         440                              Jasmine 3D Moist Pact  £31.11\n",
       "440         441                            Bupropion Hydrochloride  £84.30\n",
       "441         442                                                Nix  £57.79\n",
       "442         443                            Umcka FastActives Berry   £0.49\n",
       "443         444                                           TICE BCG  £35.70\n",
       "444         445                                        Finasteride  £66.93\n",
       "445         446  CY BETTER LIPS BALM Humectante para Labios con...  £29.21\n",
       "446         447                     AMARANTHUS TUBERCULATUS POLLEN  £15.83\n",
       "447         448                              COLDS NAUSEA VOMITING   £2.64\n",
       "448         449                                         Alprazolam  £87.03\n",
       "449         450                             COLLINSONIA CANADENSIS  £69.38\n",
       "450         451                                        Allopurinol  £46.22\n",
       "451         452                               care one pain relief  £53.91\n",
       "452         453  LBEL EFFET PARFAIT Spots Reducing Effect Found...  £69.72\n",
       "453         454                          Doxorubicin Hydrochloride  £77.51\n",
       "454         455                               Carpellum Mali Comp.  £67.25\n",
       "455         456                                        simvastatin  £29.44\n",
       "456         457                          Eyewash Flushing Solution  £48.62\n",
       "457         458                                     HYDROCORTISONE  £54.90\n",
       "\n",
       "[458 rows x 3 columns]"
      ]
     },
     "execution_count": 64,
     "metadata": {},
     "output_type": "execute_result"
    }
   ],
   "source": [
    "products"
   ]
  },
  {
   "cell_type": "code",
   "execution_count": 65,
   "metadata": {
    "collapsed": true
   },
   "outputs": [],
   "source": [
    "products.to_csv('products.csv', index=False)"
   ]
  },
  {
   "cell_type": "code",
   "execution_count": null,
   "metadata": {
    "collapsed": true
   },
   "outputs": [],
   "source": []
  }
 ],
 "metadata": {
  "kernelspec": {
   "display_name": "Python 2",
   "language": "python",
   "name": "python2"
  },
  "language_info": {
   "codemirror_mode": {
    "name": "ipython",
    "version": 2
   },
   "file_extension": ".py",
   "mimetype": "text/x-python",
   "name": "python",
   "nbconvert_exporter": "python",
   "pygments_lexer": "ipython2",
   "version": "2.7.10"
  }
 },
 "nbformat": 4,
 "nbformat_minor": 0
}
