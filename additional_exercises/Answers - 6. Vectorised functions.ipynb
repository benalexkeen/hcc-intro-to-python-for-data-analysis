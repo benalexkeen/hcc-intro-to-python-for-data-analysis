{
 "cells": [
  {
   "cell_type": "markdown",
   "metadata": {},
   "source": [
    "### Revenues\n",
    "\n",
    "Run the cell below to load the revenues for a retail company for 2 seperate years."
   ]
  },
  {
   "cell_type": "code",
   "execution_count": 1,
   "metadata": {},
   "outputs": [
    {
     "data": {
      "text/html": [
       "<div>\n",
       "<style>\n",
       "    .dataframe thead tr:only-child th {\n",
       "        text-align: right;\n",
       "    }\n",
       "\n",
       "    .dataframe thead th {\n",
       "        text-align: left;\n",
       "    }\n",
       "\n",
       "    .dataframe tbody tr th {\n",
       "        vertical-align: top;\n",
       "    }\n",
       "</style>\n",
       "<table border=\"1\" class=\"dataframe\">\n",
       "  <thead>\n",
       "    <tr style=\"text-align: right;\">\n",
       "      <th></th>\n",
       "      <th>2015</th>\n",
       "      <th>2016</th>\n",
       "    </tr>\n",
       "  </thead>\n",
       "  <tbody>\n",
       "    <tr>\n",
       "      <th>Jan</th>\n",
       "      <td>10232431p</td>\n",
       "      <td>9187174p</td>\n",
       "    </tr>\n",
       "    <tr>\n",
       "      <th>Feb</th>\n",
       "      <td>11432812p</td>\n",
       "      <td>10242983p</td>\n",
       "    </tr>\n",
       "    <tr>\n",
       "      <th>Mar</th>\n",
       "      <td>12938450p</td>\n",
       "      <td>11143096p</td>\n",
       "    </tr>\n",
       "    <tr>\n",
       "      <th>Apr</th>\n",
       "      <td>30432209p</td>\n",
       "      <td>30954299p</td>\n",
       "    </tr>\n",
       "    <tr>\n",
       "      <th>May</th>\n",
       "      <td>20110887p</td>\n",
       "      <td>20333143p</td>\n",
       "    </tr>\n",
       "    <tr>\n",
       "      <th>Jun</th>\n",
       "      <td>14903945p</td>\n",
       "      <td>16780122p</td>\n",
       "    </tr>\n",
       "    <tr>\n",
       "      <th>Jul</th>\n",
       "      <td>16774532p</td>\n",
       "      <td>18430973p</td>\n",
       "    </tr>\n",
       "    <tr>\n",
       "      <th>Aug</th>\n",
       "      <td>14687687p</td>\n",
       "      <td>15090314p</td>\n",
       "    </tr>\n",
       "    <tr>\n",
       "      <th>Sep</th>\n",
       "      <td>30462134p</td>\n",
       "      <td>31286712p</td>\n",
       "    </tr>\n",
       "    <tr>\n",
       "      <th>Oct</th>\n",
       "      <td>39768256p</td>\n",
       "      <td>41552798p</td>\n",
       "    </tr>\n",
       "    <tr>\n",
       "      <th>Nov</th>\n",
       "      <td>58342173p</td>\n",
       "      <td>60131181p</td>\n",
       "    </tr>\n",
       "    <tr>\n",
       "      <th>Dec</th>\n",
       "      <td>80107291p</td>\n",
       "      <td>84270667p</td>\n",
       "    </tr>\n",
       "  </tbody>\n",
       "</table>\n",
       "</div>"
      ],
      "text/plain": [
       "          2015       2016\n",
       "Jan  10232431p   9187174p\n",
       "Feb  11432812p  10242983p\n",
       "Mar  12938450p  11143096p\n",
       "Apr  30432209p  30954299p\n",
       "May  20110887p  20333143p\n",
       "Jun  14903945p  16780122p\n",
       "Jul  16774532p  18430973p\n",
       "Aug  14687687p  15090314p\n",
       "Sep  30462134p  31286712p\n",
       "Oct  39768256p  41552798p\n",
       "Nov  58342173p  60131181p\n",
       "Dec  80107291p  84270667p"
      ]
     },
     "execution_count": 1,
     "metadata": {},
     "output_type": "execute_result"
    }
   ],
   "source": [
    "import pandas as pd\n",
    "\n",
    "revenues = pd.DataFrame({\n",
    "    2015: ['10232431p', '11432812p', '12938450p', '30432209p', '20110887p', '14903945p',\n",
    "           '16774532p', '14687687p', '30462134p', '39768256p', '58342173p', '80107291p'],\n",
    "    2016: ['9187174p', '10242983p', '11143096p', '30954299p', '20333143p', '16780122p',\n",
    "           '18430973p', '15090314p', '31286712p', '41552798p', '60131181p', '84270667p'],\n",
    "}, index=['Jan', 'Feb', 'Mar', 'Apr', 'May', 'Jun', 'Jul', 'Aug', 'Sep', 'Oct', 'Nov', 'Dec'])\n",
    "\n",
    "revenues"
   ]
  },
  {
   "cell_type": "markdown",
   "metadata": {},
   "source": [
    "Check the data types of each column first:"
   ]
  },
  {
   "cell_type": "code",
   "execution_count": 2,
   "metadata": {},
   "outputs": [
    {
     "data": {
      "text/plain": [
       "2015    object\n",
       "2016    object\n",
       "dtype: object"
      ]
     },
     "execution_count": 2,
     "metadata": {},
     "output_type": "execute_result"
    }
   ],
   "source": [
    "# Run this cell\n",
    "\n",
    "revenues.dtypes"
   ]
  },
  {
   "cell_type": "markdown",
   "metadata": {},
   "source": [
    "These numbers are given in pence, but the analysis should be carried out in £. \n",
    "\n",
    "Write a function to strip off the 'p', and divide by 100.\n",
    "\n",
    "Map this function onto columns `2015` and `2016`."
   ]
  },
  {
   "cell_type": "code",
   "execution_count": 3,
   "metadata": {
    "collapsed": true
   },
   "outputs": [],
   "source": [
    "def convert_to_pounds(pence_str):\n",
    "    pence = float(pence_str.rstrip('p'))\n",
    "    pounds = pence / 100\n",
    "    return pounds\n",
    "\n",
    "for column in [2015, 2016]:\n",
    "    revenues[column] = revenues[column].map(convert_to_pounds)"
   ]
  },
  {
   "cell_type": "markdown",
   "metadata": {},
   "source": [
    "Now check the dtypes of each column again, to make sure you have floats:"
   ]
  },
  {
   "cell_type": "code",
   "execution_count": 4,
   "metadata": {},
   "outputs": [
    {
     "data": {
      "text/plain": [
       "2015    float64\n",
       "2016    float64\n",
       "dtype: object"
      ]
     },
     "execution_count": 4,
     "metadata": {},
     "output_type": "execute_result"
    }
   ],
   "source": [
    "revenues.dtypes"
   ]
  },
  {
   "cell_type": "markdown",
   "metadata": {},
   "source": [
    "What was the total revenue for 2015?"
   ]
  },
  {
   "cell_type": "code",
   "execution_count": 5,
   "metadata": {},
   "outputs": [
    {
     "data": {
      "text/plain": [
       "3401928.0700000003"
      ]
     },
     "execution_count": 5,
     "metadata": {},
     "output_type": "execute_result"
    }
   ],
   "source": [
    "revenues[2015].sum()"
   ]
  },
  {
   "cell_type": "markdown",
   "metadata": {},
   "source": [
    "and 2016?"
   ]
  },
  {
   "cell_type": "code",
   "execution_count": 6,
   "metadata": {},
   "outputs": [
    {
     "data": {
      "text/plain": [
       "3494034.6200000001"
      ]
     },
     "execution_count": 6,
     "metadata": {},
     "output_type": "execute_result"
    }
   ],
   "source": [
    "revenues[2016].sum()"
   ]
  },
  {
   "cell_type": "markdown",
   "metadata": {},
   "source": [
    "Create a new column `\"Change\"` with the change in revenues between 2015 and 2016."
   ]
  },
  {
   "cell_type": "code",
   "execution_count": 7,
   "metadata": {},
   "outputs": [
    {
     "data": {
      "text/html": [
       "<div>\n",
       "<style>\n",
       "    .dataframe thead tr:only-child th {\n",
       "        text-align: right;\n",
       "    }\n",
       "\n",
       "    .dataframe thead th {\n",
       "        text-align: left;\n",
       "    }\n",
       "\n",
       "    .dataframe tbody tr th {\n",
       "        vertical-align: top;\n",
       "    }\n",
       "</style>\n",
       "<table border=\"1\" class=\"dataframe\">\n",
       "  <thead>\n",
       "    <tr style=\"text-align: right;\">\n",
       "      <th></th>\n",
       "      <th>2015</th>\n",
       "      <th>2016</th>\n",
       "      <th>Change</th>\n",
       "    </tr>\n",
       "  </thead>\n",
       "  <tbody>\n",
       "    <tr>\n",
       "      <th>Jan</th>\n",
       "      <td>102324.31</td>\n",
       "      <td>91871.74</td>\n",
       "      <td>-10452.57</td>\n",
       "    </tr>\n",
       "    <tr>\n",
       "      <th>Feb</th>\n",
       "      <td>114328.12</td>\n",
       "      <td>102429.83</td>\n",
       "      <td>-11898.29</td>\n",
       "    </tr>\n",
       "    <tr>\n",
       "      <th>Mar</th>\n",
       "      <td>129384.50</td>\n",
       "      <td>111430.96</td>\n",
       "      <td>-17953.54</td>\n",
       "    </tr>\n",
       "    <tr>\n",
       "      <th>Apr</th>\n",
       "      <td>304322.09</td>\n",
       "      <td>309542.99</td>\n",
       "      <td>5220.90</td>\n",
       "    </tr>\n",
       "    <tr>\n",
       "      <th>May</th>\n",
       "      <td>201108.87</td>\n",
       "      <td>203331.43</td>\n",
       "      <td>2222.56</td>\n",
       "    </tr>\n",
       "    <tr>\n",
       "      <th>Jun</th>\n",
       "      <td>149039.45</td>\n",
       "      <td>167801.22</td>\n",
       "      <td>18761.77</td>\n",
       "    </tr>\n",
       "    <tr>\n",
       "      <th>Jul</th>\n",
       "      <td>167745.32</td>\n",
       "      <td>184309.73</td>\n",
       "      <td>16564.41</td>\n",
       "    </tr>\n",
       "    <tr>\n",
       "      <th>Aug</th>\n",
       "      <td>146876.87</td>\n",
       "      <td>150903.14</td>\n",
       "      <td>4026.27</td>\n",
       "    </tr>\n",
       "    <tr>\n",
       "      <th>Sep</th>\n",
       "      <td>304621.34</td>\n",
       "      <td>312867.12</td>\n",
       "      <td>8245.78</td>\n",
       "    </tr>\n",
       "    <tr>\n",
       "      <th>Oct</th>\n",
       "      <td>397682.56</td>\n",
       "      <td>415527.98</td>\n",
       "      <td>17845.42</td>\n",
       "    </tr>\n",
       "    <tr>\n",
       "      <th>Nov</th>\n",
       "      <td>583421.73</td>\n",
       "      <td>601311.81</td>\n",
       "      <td>17890.08</td>\n",
       "    </tr>\n",
       "    <tr>\n",
       "      <th>Dec</th>\n",
       "      <td>801072.91</td>\n",
       "      <td>842706.67</td>\n",
       "      <td>41633.76</td>\n",
       "    </tr>\n",
       "  </tbody>\n",
       "</table>\n",
       "</div>"
      ],
      "text/plain": [
       "          2015       2016    Change\n",
       "Jan  102324.31   91871.74 -10452.57\n",
       "Feb  114328.12  102429.83 -11898.29\n",
       "Mar  129384.50  111430.96 -17953.54\n",
       "Apr  304322.09  309542.99   5220.90\n",
       "May  201108.87  203331.43   2222.56\n",
       "Jun  149039.45  167801.22  18761.77\n",
       "Jul  167745.32  184309.73  16564.41\n",
       "Aug  146876.87  150903.14   4026.27\n",
       "Sep  304621.34  312867.12   8245.78\n",
       "Oct  397682.56  415527.98  17845.42\n",
       "Nov  583421.73  601311.81  17890.08\n",
       "Dec  801072.91  842706.67  41633.76"
      ]
     },
     "execution_count": 7,
     "metadata": {},
     "output_type": "execute_result"
    }
   ],
   "source": [
    "revenues['Change'] = revenues[2016] - revenues[2015]\n",
    "revenues"
   ]
  },
  {
   "cell_type": "markdown",
   "metadata": {},
   "source": [
    "Create a new column `\"Percentage Change\"` with the percentage change in revenues between 2015 and 2016."
   ]
  },
  {
   "cell_type": "code",
   "execution_count": 8,
   "metadata": {},
   "outputs": [
    {
     "data": {
      "text/html": [
       "<div>\n",
       "<style>\n",
       "    .dataframe thead tr:only-child th {\n",
       "        text-align: right;\n",
       "    }\n",
       "\n",
       "    .dataframe thead th {\n",
       "        text-align: left;\n",
       "    }\n",
       "\n",
       "    .dataframe tbody tr th {\n",
       "        vertical-align: top;\n",
       "    }\n",
       "</style>\n",
       "<table border=\"1\" class=\"dataframe\">\n",
       "  <thead>\n",
       "    <tr style=\"text-align: right;\">\n",
       "      <th></th>\n",
       "      <th>2015</th>\n",
       "      <th>2016</th>\n",
       "      <th>Change</th>\n",
       "      <th>Percentage Change</th>\n",
       "    </tr>\n",
       "  </thead>\n",
       "  <tbody>\n",
       "    <tr>\n",
       "      <th>Jan</th>\n",
       "      <td>102324.31</td>\n",
       "      <td>91871.74</td>\n",
       "      <td>-10452.57</td>\n",
       "      <td>-10.215139</td>\n",
       "    </tr>\n",
       "    <tr>\n",
       "      <th>Feb</th>\n",
       "      <td>114328.12</td>\n",
       "      <td>102429.83</td>\n",
       "      <td>-11898.29</td>\n",
       "      <td>-10.407142</td>\n",
       "    </tr>\n",
       "    <tr>\n",
       "      <th>Mar</th>\n",
       "      <td>129384.50</td>\n",
       "      <td>111430.96</td>\n",
       "      <td>-17953.54</td>\n",
       "      <td>-13.876113</td>\n",
       "    </tr>\n",
       "    <tr>\n",
       "      <th>Apr</th>\n",
       "      <td>304322.09</td>\n",
       "      <td>309542.99</td>\n",
       "      <td>5220.90</td>\n",
       "      <td>1.715584</td>\n",
       "    </tr>\n",
       "    <tr>\n",
       "      <th>May</th>\n",
       "      <td>201108.87</td>\n",
       "      <td>203331.43</td>\n",
       "      <td>2222.56</td>\n",
       "      <td>1.105153</td>\n",
       "    </tr>\n",
       "    <tr>\n",
       "      <th>Jun</th>\n",
       "      <td>149039.45</td>\n",
       "      <td>167801.22</td>\n",
       "      <td>18761.77</td>\n",
       "      <td>12.588459</td>\n",
       "    </tr>\n",
       "    <tr>\n",
       "      <th>Jul</th>\n",
       "      <td>167745.32</td>\n",
       "      <td>184309.73</td>\n",
       "      <td>16564.41</td>\n",
       "      <td>9.874737</td>\n",
       "    </tr>\n",
       "    <tr>\n",
       "      <th>Aug</th>\n",
       "      <td>146876.87</td>\n",
       "      <td>150903.14</td>\n",
       "      <td>4026.27</td>\n",
       "      <td>2.741255</td>\n",
       "    </tr>\n",
       "    <tr>\n",
       "      <th>Sep</th>\n",
       "      <td>304621.34</td>\n",
       "      <td>312867.12</td>\n",
       "      <td>8245.78</td>\n",
       "      <td>2.706895</td>\n",
       "    </tr>\n",
       "    <tr>\n",
       "      <th>Oct</th>\n",
       "      <td>397682.56</td>\n",
       "      <td>415527.98</td>\n",
       "      <td>17845.42</td>\n",
       "      <td>4.487353</td>\n",
       "    </tr>\n",
       "    <tr>\n",
       "      <th>Nov</th>\n",
       "      <td>583421.73</td>\n",
       "      <td>601311.81</td>\n",
       "      <td>17890.08</td>\n",
       "      <td>3.066406</td>\n",
       "    </tr>\n",
       "    <tr>\n",
       "      <th>Dec</th>\n",
       "      <td>801072.91</td>\n",
       "      <td>842706.67</td>\n",
       "      <td>41633.76</td>\n",
       "      <td>5.197250</td>\n",
       "    </tr>\n",
       "  </tbody>\n",
       "</table>\n",
       "</div>"
      ],
      "text/plain": [
       "          2015       2016    Change  Percentage Change\n",
       "Jan  102324.31   91871.74 -10452.57         -10.215139\n",
       "Feb  114328.12  102429.83 -11898.29         -10.407142\n",
       "Mar  129384.50  111430.96 -17953.54         -13.876113\n",
       "Apr  304322.09  309542.99   5220.90           1.715584\n",
       "May  201108.87  203331.43   2222.56           1.105153\n",
       "Jun  149039.45  167801.22  18761.77          12.588459\n",
       "Jul  167745.32  184309.73  16564.41           9.874737\n",
       "Aug  146876.87  150903.14   4026.27           2.741255\n",
       "Sep  304621.34  312867.12   8245.78           2.706895\n",
       "Oct  397682.56  415527.98  17845.42           4.487353\n",
       "Nov  583421.73  601311.81  17890.08           3.066406\n",
       "Dec  801072.91  842706.67  41633.76           5.197250"
      ]
     },
     "execution_count": 8,
     "metadata": {},
     "output_type": "execute_result"
    }
   ],
   "source": [
    "revenues['Percentage Change'] = (revenues['Change'] / revenues[2015]) * 100\n",
    "revenues"
   ]
  },
  {
   "cell_type": "markdown",
   "metadata": {},
   "source": [
    "### Tech Firms (Some More)"
   ]
  },
  {
   "cell_type": "markdown",
   "metadata": {},
   "source": [
    "Run the cell below to load the tech firms in again"
   ]
  },
  {
   "cell_type": "code",
   "execution_count": 9,
   "metadata": {},
   "outputs": [
    {
     "data": {
      "text/html": [
       "<div>\n",
       "<style>\n",
       "    .dataframe thead tr:only-child th {\n",
       "        text-align: right;\n",
       "    }\n",
       "\n",
       "    .dataframe thead th {\n",
       "        text-align: left;\n",
       "    }\n",
       "\n",
       "    .dataframe tbody tr th {\n",
       "        vertical-align: top;\n",
       "    }\n",
       "</style>\n",
       "<table border=\"1\" class=\"dataframe\">\n",
       "  <thead>\n",
       "    <tr style=\"text-align: right;\">\n",
       "      <th></th>\n",
       "      <th>Company</th>\n",
       "      <th>FY</th>\n",
       "      <th>Headquarters</th>\n",
       "      <th>Market cap ($B)</th>\n",
       "      <th>Revenue ($B)</th>\n",
       "    </tr>\n",
       "  </thead>\n",
       "  <tbody>\n",
       "    <tr>\n",
       "      <th>0</th>\n",
       "      <td>Apple Inc.</td>\n",
       "      <td>2016</td>\n",
       "      <td>Cupertino, CA, US</td>\n",
       "      <td>815.39</td>\n",
       "      <td>215.6</td>\n",
       "    </tr>\n",
       "    <tr>\n",
       "      <th>1</th>\n",
       "      <td>Amazon.com</td>\n",
       "      <td>2016</td>\n",
       "      <td>Seattle, WA, US</td>\n",
       "      <td>478.00</td>\n",
       "      <td>135.9</td>\n",
       "    </tr>\n",
       "    <tr>\n",
       "      <th>2</th>\n",
       "      <td>Samsung Electronics</td>\n",
       "      <td>2016</td>\n",
       "      <td>Suwon, South Korea</td>\n",
       "      <td>311.00</td>\n",
       "      <td>173.9</td>\n",
       "    </tr>\n",
       "    <tr>\n",
       "      <th>3</th>\n",
       "      <td>Foxconn</td>\n",
       "      <td>2016</td>\n",
       "      <td>New Taipei City, Taiwan</td>\n",
       "      <td>66.00</td>\n",
       "      <td>135.1</td>\n",
       "    </tr>\n",
       "    <tr>\n",
       "      <th>4</th>\n",
       "      <td>Alphabet Inc.</td>\n",
       "      <td>2016</td>\n",
       "      <td>Mountain View, CA, US</td>\n",
       "      <td>676.00</td>\n",
       "      <td>90.2</td>\n",
       "    </tr>\n",
       "  </tbody>\n",
       "</table>\n",
       "</div>"
      ],
      "text/plain": [
       "               Company    FY             Headquarters  Market cap ($B)  \\\n",
       "0           Apple Inc.  2016        Cupertino, CA, US           815.39   \n",
       "1           Amazon.com  2016          Seattle, WA, US           478.00   \n",
       "2  Samsung Electronics  2016       Suwon, South Korea           311.00   \n",
       "3              Foxconn  2016  New Taipei City, Taiwan            66.00   \n",
       "4        Alphabet Inc.  2016    Mountain View, CA, US           676.00   \n",
       "\n",
       "   Revenue ($B)  \n",
       "0         215.6  \n",
       "1         135.9  \n",
       "2         173.9  \n",
       "3         135.1  \n",
       "4          90.2  "
      ]
     },
     "execution_count": 9,
     "metadata": {},
     "output_type": "execute_result"
    }
   ],
   "source": [
    "tech_firms = pd.read_json('data/tech_firms.json')\n",
    "# Shows the first 5 rows\n",
    "tech_firms.head()"
   ]
  },
  {
   "cell_type": "markdown",
   "metadata": {},
   "source": [
    "Write a function that takes in a string and returns `True` if the string ends with `'US'` and returns `False` otherwise."
   ]
  },
  {
   "cell_type": "code",
   "execution_count": 10,
   "metadata": {
    "collapsed": true
   },
   "outputs": [],
   "source": [
    "def is_america(hq_str):\n",
    "    if hq_str.endswith('US'):\n",
    "        return True\n",
    "    else:\n",
    "        return False"
   ]
  },
  {
   "cell_type": "markdown",
   "metadata": {},
   "source": [
    "Map this function onto the column `\"Headquarters\"`."
   ]
  },
  {
   "cell_type": "code",
   "execution_count": 11,
   "metadata": {},
   "outputs": [
    {
     "data": {
      "text/plain": [
       "0      True\n",
       "1      True\n",
       "2     False\n",
       "3     False\n",
       "4      True\n",
       "5      True\n",
       "6     False\n",
       "7      True\n",
       "8     False\n",
       "9     False\n",
       "10    False\n",
       "11     True\n",
       "12     True\n",
       "13     True\n",
       "Name: Headquarters, dtype: bool"
      ]
     },
     "execution_count": 11,
     "metadata": {},
     "output_type": "execute_result"
    }
   ],
   "source": [
    "tech_firms['Headquarters'].map(is_america)"
   ]
  },
  {
   "cell_type": "markdown",
   "metadata": {},
   "source": [
    "Use this mapping to select only the companies whose `Headquarters` is in the US."
   ]
  },
  {
   "cell_type": "code",
   "execution_count": 12,
   "metadata": {},
   "outputs": [
    {
     "data": {
      "text/html": [
       "<div>\n",
       "<style>\n",
       "    .dataframe thead tr:only-child th {\n",
       "        text-align: right;\n",
       "    }\n",
       "\n",
       "    .dataframe thead th {\n",
       "        text-align: left;\n",
       "    }\n",
       "\n",
       "    .dataframe tbody tr th {\n",
       "        vertical-align: top;\n",
       "    }\n",
       "</style>\n",
       "<table border=\"1\" class=\"dataframe\">\n",
       "  <thead>\n",
       "    <tr style=\"text-align: right;\">\n",
       "      <th></th>\n",
       "      <th>Company</th>\n",
       "      <th>FY</th>\n",
       "      <th>Headquarters</th>\n",
       "      <th>Market cap ($B)</th>\n",
       "      <th>Revenue ($B)</th>\n",
       "    </tr>\n",
       "  </thead>\n",
       "  <tbody>\n",
       "    <tr>\n",
       "      <th>0</th>\n",
       "      <td>Apple Inc.</td>\n",
       "      <td>2016</td>\n",
       "      <td>Cupertino, CA, US</td>\n",
       "      <td>815.39</td>\n",
       "      <td>215.6</td>\n",
       "    </tr>\n",
       "    <tr>\n",
       "      <th>1</th>\n",
       "      <td>Amazon.com</td>\n",
       "      <td>2016</td>\n",
       "      <td>Seattle, WA, US</td>\n",
       "      <td>478.00</td>\n",
       "      <td>135.9</td>\n",
       "    </tr>\n",
       "    <tr>\n",
       "      <th>4</th>\n",
       "      <td>Alphabet Inc.</td>\n",
       "      <td>2016</td>\n",
       "      <td>Mountain View, CA, US</td>\n",
       "      <td>676.00</td>\n",
       "      <td>90.2</td>\n",
       "    </tr>\n",
       "    <tr>\n",
       "      <th>5</th>\n",
       "      <td>Microsoft</td>\n",
       "      <td>2016</td>\n",
       "      <td>Redmond, WA, US</td>\n",
       "      <td>561.00</td>\n",
       "      <td>85.3</td>\n",
       "    </tr>\n",
       "    <tr>\n",
       "      <th>7</th>\n",
       "      <td>IBM</td>\n",
       "      <td>2016</td>\n",
       "      <td>Armonk, NY, US</td>\n",
       "      <td>145.00</td>\n",
       "      <td>79.9</td>\n",
       "    </tr>\n",
       "    <tr>\n",
       "      <th>11</th>\n",
       "      <td>Dell Technologies</td>\n",
       "      <td>2016</td>\n",
       "      <td>Austin, TX, US</td>\n",
       "      <td>14.00</td>\n",
       "      <td>64.8</td>\n",
       "    </tr>\n",
       "    <tr>\n",
       "      <th>12</th>\n",
       "      <td>Intel</td>\n",
       "      <td>2016</td>\n",
       "      <td>Santa Clara, CA, US</td>\n",
       "      <td>163.00</td>\n",
       "      <td>59.3</td>\n",
       "    </tr>\n",
       "    <tr>\n",
       "      <th>13</th>\n",
       "      <td>Hewlett Packard Enterprise</td>\n",
       "      <td>2016</td>\n",
       "      <td>Palo Alto, CA, US</td>\n",
       "      <td>30.00</td>\n",
       "      <td>50.1</td>\n",
       "    </tr>\n",
       "  </tbody>\n",
       "</table>\n",
       "</div>"
      ],
      "text/plain": [
       "                       Company    FY           Headquarters  Market cap ($B)  \\\n",
       "0                   Apple Inc.  2016      Cupertino, CA, US           815.39   \n",
       "1                   Amazon.com  2016        Seattle, WA, US           478.00   \n",
       "4                Alphabet Inc.  2016  Mountain View, CA, US           676.00   \n",
       "5                    Microsoft  2016        Redmond, WA, US           561.00   \n",
       "7                          IBM  2016         Armonk, NY, US           145.00   \n",
       "11           Dell Technologies  2016         Austin, TX, US            14.00   \n",
       "12                       Intel  2016    Santa Clara, CA, US           163.00   \n",
       "13  Hewlett Packard Enterprise  2016      Palo Alto, CA, US            30.00   \n",
       "\n",
       "    Revenue ($B)  \n",
       "0          215.6  \n",
       "1          135.9  \n",
       "4           90.2  \n",
       "5           85.3  \n",
       "7           79.9  \n",
       "11          64.8  \n",
       "12          59.3  \n",
       "13          50.1  "
      ]
     },
     "execution_count": 12,
     "metadata": {},
     "output_type": "execute_result"
    }
   ],
   "source": [
    "tech_firms[tech_firms['Headquarters'].map(is_america)]"
   ]
  },
  {
   "cell_type": "markdown",
   "metadata": {},
   "source": [
    "What is the revenue of the companies on the list that are in the US?"
   ]
  },
  {
   "cell_type": "code",
   "execution_count": 13,
   "metadata": {},
   "outputs": [
    {
     "data": {
      "text/plain": [
       "781100000000.0"
      ]
     },
     "execution_count": 13,
     "metadata": {},
     "output_type": "execute_result"
    }
   ],
   "source": [
    "billion = 1 * 10 ** 9\n",
    "\n",
    "tech_firms.loc[tech_firms['Headquarters'].map(is_america), 'Revenue ($B)'].sum() * billion"
   ]
  },
  {
   "cell_type": "markdown",
   "metadata": {},
   "source": [
    "You can use a tilde (~) to return the opposite case.\n",
    "\n",
    "For example:\n",
    "\n",
    "`df[df['Col1'] > 5]`\n",
    "\n",
    "Will return all rows for which column `\"Col1\"` is greater than 5.\n",
    "\n",
    "However,\n",
    "\n",
    "`df[~df['Col1'] > 5]`\n",
    "\n",
    "Will return all rows for which column `\"Col1\"` is *not* greater then 5.\n",
    "\n",
    "Using the tilde, what is the revenue of the companies on the list that are not in the US?"
   ]
  },
  {
   "cell_type": "code",
   "execution_count": 14,
   "metadata": {},
   "outputs": [
    {
     "data": {
      "text/plain": [
       "609800000000.00012"
      ]
     },
     "execution_count": 14,
     "metadata": {},
     "output_type": "execute_result"
    }
   ],
   "source": [
    "tech_firms.loc[~tech_firms['Headquarters'].map(is_america), 'Revenue ($B)'].sum() * billion"
   ]
  },
  {
   "cell_type": "markdown",
   "metadata": {},
   "source": [
    "### Cleaning Strings"
   ]
  },
  {
   "cell_type": "markdown",
   "metadata": {},
   "source": [
    "Some people filled in a form with their first names, last names and heights. \n",
    "\n",
    "However the height field was a free text field and there was no error checking. Your job is to clean up these heights.\n",
    "\n",
    "All the heights are given in metric but the string formats are different\n",
    "\n",
    "Run the cell below to see the table."
   ]
  },
  {
   "cell_type": "code",
   "execution_count": 15,
   "metadata": {},
   "outputs": [
    {
     "data": {
      "text/html": [
       "<div>\n",
       "<style>\n",
       "    .dataframe thead tr:only-child th {\n",
       "        text-align: right;\n",
       "    }\n",
       "\n",
       "    .dataframe thead th {\n",
       "        text-align: left;\n",
       "    }\n",
       "\n",
       "    .dataframe tbody tr th {\n",
       "        vertical-align: top;\n",
       "    }\n",
       "</style>\n",
       "<table border=\"1\" class=\"dataframe\">\n",
       "  <thead>\n",
       "    <tr style=\"text-align: right;\">\n",
       "      <th></th>\n",
       "      <th>first_name</th>\n",
       "      <th>last_name</th>\n",
       "      <th>height</th>\n",
       "    </tr>\n",
       "  </thead>\n",
       "  <tbody>\n",
       "    <tr>\n",
       "      <th>0</th>\n",
       "      <td>Stephanie</td>\n",
       "      <td>Bambery</td>\n",
       "      <td>1.60 metres</td>\n",
       "    </tr>\n",
       "    <tr>\n",
       "      <th>1</th>\n",
       "      <td>Barnard</td>\n",
       "      <td>Darbey</td>\n",
       "      <td>1m 80cm</td>\n",
       "    </tr>\n",
       "    <tr>\n",
       "      <th>2</th>\n",
       "      <td>Gale</td>\n",
       "      <td>Blind</td>\n",
       "      <td>154</td>\n",
       "    </tr>\n",
       "    <tr>\n",
       "      <th>3</th>\n",
       "      <td>Corry</td>\n",
       "      <td>Erbe</td>\n",
       "      <td>1 meter 80</td>\n",
       "    </tr>\n",
       "    <tr>\n",
       "      <th>4</th>\n",
       "      <td>Godard</td>\n",
       "      <td>Haslam</td>\n",
       "      <td>170 cm</td>\n",
       "    </tr>\n",
       "    <tr>\n",
       "      <th>5</th>\n",
       "      <td>Raimundo</td>\n",
       "      <td>Pelman</td>\n",
       "      <td>172 cm</td>\n",
       "    </tr>\n",
       "    <tr>\n",
       "      <th>6</th>\n",
       "      <td>Evvie</td>\n",
       "      <td>Rathke</td>\n",
       "      <td>165</td>\n",
       "    </tr>\n",
       "    <tr>\n",
       "      <th>7</th>\n",
       "      <td>Darius</td>\n",
       "      <td>Hymers</td>\n",
       "      <td>1.67 m</td>\n",
       "    </tr>\n",
       "  </tbody>\n",
       "</table>\n",
       "</div>"
      ],
      "text/plain": [
       "  first_name last_name       height\n",
       "0  Stephanie   Bambery  1.60 metres\n",
       "1    Barnard    Darbey      1m 80cm\n",
       "2       Gale     Blind          154\n",
       "3      Corry      Erbe   1 meter 80\n",
       "4     Godard    Haslam       170 cm\n",
       "5   Raimundo    Pelman       172 cm\n",
       "6      Evvie    Rathke          165\n",
       "7     Darius    Hymers       1.67 m"
      ]
     },
     "execution_count": 15,
     "metadata": {},
     "output_type": "execute_result"
    }
   ],
   "source": [
    "heights = pd.DataFrame([\n",
    "    {\"first_name\": \"Stephanie\", \"last_name\": \"Bambery\", \"height\": \"1.60 metres\"},\n",
    "    {\"first_name\": \"Barnard\", \"last_name\": \"Darbey\", \"height\": '1m 80cm'},\n",
    "    {\"first_name\": \"Gale\", \"last_name\": \"Blind\", \"height\": \"154\"},\n",
    "    {\"first_name\": \"Corry\", \"last_name\": \"Erbe\", \"height\": \"1 meter 80\"},\n",
    "    {\"first_name\": \"Godard\", \"last_name\": \"Haslam\", \"height\": \"170 cm\"},\n",
    "    {\"first_name\": \"Raimundo\", \"last_name\": \"Pelman\", \"height\": \"172 cm\"}, \n",
    "    {\"first_name\": \"Evvie\", \"last_name\": \"Rathke\", \"height\": \"165\"},\n",
    "    {\"first_name\": \"Darius\", \"last_name\": \"Hymers\", \"height\": \"1.67 m\"}\n",
    "], columns=['first_name', 'last_name', 'height'])\n",
    "\n",
    "heights"
   ]
  },
  {
   "cell_type": "markdown",
   "metadata": {},
   "source": [
    "They are currently strings but you would like them as floats in centimetres.\n",
    "\n",
    "Write a function that will read in all of these height strings, convert them to centimetres, strip out any non-digit characters and return a float.\n",
    "\n",
    "_Hint: have a look back at the presentation at the string transformation functions_"
   ]
  },
  {
   "cell_type": "code",
   "execution_count": 16,
   "metadata": {},
   "outputs": [
    {
     "data": {
      "text/html": [
       "<div>\n",
       "<style>\n",
       "    .dataframe thead tr:only-child th {\n",
       "        text-align: right;\n",
       "    }\n",
       "\n",
       "    .dataframe thead th {\n",
       "        text-align: left;\n",
       "    }\n",
       "\n",
       "    .dataframe tbody tr th {\n",
       "        vertical-align: top;\n",
       "    }\n",
       "</style>\n",
       "<table border=\"1\" class=\"dataframe\">\n",
       "  <thead>\n",
       "    <tr style=\"text-align: right;\">\n",
       "      <th></th>\n",
       "      <th>first_name</th>\n",
       "      <th>last_name</th>\n",
       "      <th>height</th>\n",
       "    </tr>\n",
       "  </thead>\n",
       "  <tbody>\n",
       "    <tr>\n",
       "      <th>0</th>\n",
       "      <td>Stephanie</td>\n",
       "      <td>Bambery</td>\n",
       "      <td>160.0</td>\n",
       "    </tr>\n",
       "    <tr>\n",
       "      <th>1</th>\n",
       "      <td>Barnard</td>\n",
       "      <td>Darbey</td>\n",
       "      <td>180.0</td>\n",
       "    </tr>\n",
       "    <tr>\n",
       "      <th>2</th>\n",
       "      <td>Gale</td>\n",
       "      <td>Blind</td>\n",
       "      <td>154.0</td>\n",
       "    </tr>\n",
       "    <tr>\n",
       "      <th>3</th>\n",
       "      <td>Corry</td>\n",
       "      <td>Erbe</td>\n",
       "      <td>180.0</td>\n",
       "    </tr>\n",
       "    <tr>\n",
       "      <th>4</th>\n",
       "      <td>Godard</td>\n",
       "      <td>Haslam</td>\n",
       "      <td>170.0</td>\n",
       "    </tr>\n",
       "    <tr>\n",
       "      <th>5</th>\n",
       "      <td>Raimundo</td>\n",
       "      <td>Pelman</td>\n",
       "      <td>172.0</td>\n",
       "    </tr>\n",
       "    <tr>\n",
       "      <th>6</th>\n",
       "      <td>Evvie</td>\n",
       "      <td>Rathke</td>\n",
       "      <td>165.0</td>\n",
       "    </tr>\n",
       "    <tr>\n",
       "      <th>7</th>\n",
       "      <td>Darius</td>\n",
       "      <td>Hymers</td>\n",
       "      <td>167.0</td>\n",
       "    </tr>\n",
       "  </tbody>\n",
       "</table>\n",
       "</div>"
      ],
      "text/plain": [
       "  first_name last_name  height\n",
       "0  Stephanie   Bambery   160.0\n",
       "1    Barnard    Darbey   180.0\n",
       "2       Gale     Blind   154.0\n",
       "3      Corry      Erbe   180.0\n",
       "4     Godard    Haslam   170.0\n",
       "5   Raimundo    Pelman   172.0\n",
       "6      Evvie    Rathke   165.0\n",
       "7     Darius    Hymers   167.0"
      ]
     },
     "execution_count": 16,
     "metadata": {},
     "output_type": "execute_result"
    }
   ],
   "source": [
    "def digits_from_str_as_float(input_str):\n",
    "    \"\"\"\n",
    "    Function that takes in a string and returns only digits or decimal points\n",
    "    from that string without using regular expressions\n",
    "    \"\"\"\n",
    "    list_of_digits = [x for x in input_str if x.isdigit() or x == '.']\n",
    "    digits_as_str = ''.join(list_of_digits)\n",
    "    digits_as_float = float(digits_as_str)\n",
    "    return digits_as_float\n",
    "\n",
    "\n",
    "def clean_string(height_str):\n",
    "    # remove spaces from either side\n",
    "    height_str = height_str.strip(' ')\n",
    "    if height_str.endswith('m') and not height_str.endswith('cm'):\n",
    "        # remove m\n",
    "        height_str = height_str.rstrip('m')\n",
    "        # convert to float and multiply by 100\n",
    "        return float(height_str) * 100\n",
    "    elif height_str.endswith('metres'):\n",
    "        # remove m\n",
    "        height_str = height_str.rstrip('metres')\n",
    "        # convert to float and multiply by 100\n",
    "        return float(height_str) * 100\n",
    "    else:\n",
    "        return digits_from_str_as_float(height_str)\n",
    "\n",
    "heights['height'] = heights['height'].map(clean_string)\n",
    "\n",
    "heights"
   ]
  }
 ],
 "metadata": {
  "kernelspec": {
   "display_name": "Python 3",
   "language": "python",
   "name": "python3"
  },
  "language_info": {
   "codemirror_mode": {
    "name": "ipython",
    "version": 3
   },
   "file_extension": ".py",
   "mimetype": "text/x-python",
   "name": "python",
   "nbconvert_exporter": "python",
   "pygments_lexer": "ipython3",
   "version": "3.6.1"
  }
 },
 "nbformat": 4,
 "nbformat_minor": 2
}
