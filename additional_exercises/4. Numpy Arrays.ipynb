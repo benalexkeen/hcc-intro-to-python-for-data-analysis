{
 "cells": [
  {
   "cell_type": "markdown",
   "metadata": {},
   "source": [
    "### Measuring Regression Model Performance\n",
    "\n",
    "Regression machine learning models are used to predict continuous variables.\n",
    "\n",
    "The sum of squared errors is a common way of measuring the performance of a regression machine learning model and is often used as the function to optimise by these models.\n",
    "\n",
    "It is calculated as:\n",
    "\n",
    "$$ SSE = \\sum_{i=1}^N{(y_i - \\hat{y_i})^2} $$\n",
    "\n",
    "where $ \\hat{y} $ is your prediction.\n",
    "\n",
    "We have the predictions from two models and the actual observed y values.\n",
    "\n",
    "Which model has a lower SSE value and therefore has better performance?"
   ]
  },
  {
   "cell_type": "code",
   "execution_count": null,
   "metadata": {
    "collapsed": true
   },
   "outputs": [],
   "source": [
    "import numpy as np\n",
    "\n",
    "y_predict_1 = np.array([5, 10, 14, 15, 20, 14, 18, 19]) \n",
    "y_predict_2 = np.array([3, 9, 15, 18, 16, 21, 23, 26]) \n",
    "y_actual = ([4, 10, 16, 23, 18, 20, 22, 23])"
   ]
  },
  {
   "cell_type": "code",
   "execution_count": null,
   "metadata": {},
   "outputs": [],
   "source": []
  },
  {
   "cell_type": "markdown",
   "metadata": {},
   "source": [
    "The root mean squared error measures the average difference between the values predicted by a model and the values actually observed.\n",
    "\n",
    "It is calculated as:\n",
    "\n",
    "$$ RMSE = \\sqrt{\\dfrac{1}{N} SSE} $$\n",
    "\n",
    "Calculate the root mean squared error of the 2 model's predictions.   "
   ]
  },
  {
   "cell_type": "code",
   "execution_count": null,
   "metadata": {},
   "outputs": [],
   "source": []
  },
  {
   "cell_type": "markdown",
   "metadata": {},
   "source": [
    "### Student's T-Test - 1 sample T-test\n",
    "\n",
    "A 1 sample T-test is a statistical test used to work out whether a sample's mean differs significantly from the population mean.\n",
    "\n",
    "The null hypothesis is that there is no significant difference between the sample mean and the population:\n",
    "\n",
    "$$H_0: \\bar{x} = \\mu $$\n",
    "\n",
    "with the alternative hypothesis being that there is a significant difference between the sample mean and population:\n",
    "\n",
    "$$ H_1: \\bar{x} \\neq \\mu $$\n",
    "\n",
    "We will use this test to work out whether there is a significant difference between the resting systolic blood pressure of female doctors compared to the general population (mean of 120 mmHg). \n",
    "\n",
    "$$ t = \\dfrac{\\bar{x} - \\mu}{s / \\sqrt{n}} $$\n",
    "\n",
    "Where\n",
    "* $\\bar{x}$ is your sample mean\n",
    "* $\\mu$ is your population mean\n",
    "* $s$ is your sample standard deviation\n",
    "* $n$ is the number of observations in your sample\n",
    "\n",
    "You can use `np.mean()` to get the mean of an array and `np.std()` to get the standard deviation of an array.\n",
    "\n",
    "Calculate the t statistic using the equation above."
   ]
  },
  {
   "cell_type": "code",
   "execution_count": null,
   "metadata": {
    "collapsed": true
   },
   "outputs": [],
   "source": [
    "female_doctor_bps = np.array(\n",
    "    [128, 127, 118, 115, 144, 142, 133, 140, 132, 131, \n",
    "    111, 132, 149, 122, 139, 119, 136, 129, 126, 128]\n",
    ")\n",
    "\n",
    "mu = 120\n",
    "\n"
   ]
  },
  {
   "cell_type": "markdown",
   "metadata": {},
   "source": [
    "If we want to reject the null hypothesis, the t statistic needs to be above a threshold p value. The calculation of p-value from our t stastic is complex, so we will use a value table to do a lookup. \n",
    "\n",
    "We will choose p=0.05, this gives us 95% confidence that there is a significant difference between the mean of the sample and the mean of the population, and there is only a 5% probability that the difference between means is caused by random chance.\n",
    "\n",
    "The t-value for a sample with 19 degrees of freedom (n-1) is $\\pm 2.093$ (see [here](http://www.sjsu.edu/faculty/gerstman/StatPrimer/t-table.pdf)). \n",
    "\n",
    "Is your t-value greater than this? If so, you can reject your null hypothesis ($H_0$) and accept your alternative hypothesis ($H_1$)."
   ]
  },
  {
   "cell_type": "markdown",
   "metadata": {},
   "source": [
    "### Student's T-test - Paired T-test\n",
    "\n",
    "Paired T-tests are used for before and after testing. For example, if you wanted to test the whether people on a diet had lost weight, you would compare each individual's weights beforehand to their weight after the diet.\n",
    "\n",
    "We will measure the amount of sleep got by patients before and after taking soporific drugs to help them sleep.\n",
    "\n",
    "In this case your null hypothesis is that there is no significant difference in the means of the two paired samples:\n",
    "\n",
    "$$ H_0: \\mu_D = 0 $$\n",
    "\n",
    "The alternative hypothesis is that there is a significant difference in the means of the two paired samples:\n",
    "\n",
    "$$ H_1: \\mu_D \\neq 0 $$\n",
    "\n",
    "The t-statistic here is calculated as:\n",
    "\n",
    "$$ t = \\dfrac{\\bar{d}}{s/\\sqrt{n}} $$\n",
    "\n",
    "where:\n",
    "* $\\bar{d}$ is the average of the difference between each paired sample\n",
    "* $s$ is the standard deviation of the differences between the samples\n",
    "* $n$ is the number of observations\n",
    "\n",
    "Calculate the t-statistic."
   ]
  },
  {
   "cell_type": "code",
   "execution_count": null,
   "metadata": {
    "collapsed": true
   },
   "outputs": [],
   "source": [
    "# Hours of sleep before treatment\n",
    "control = np.array([8.0, 7.1, 6.5, 6.7, 7.2, 5.4, 4.7, 8.1, 6.3, 4.8])\n",
    "# Hours of sleep after treatment\n",
    "treatment = np.array([9.9, 7.9, 7.6, 6.8, 7.1, 9.9, 10.5, 9.7, 10.9, 8.2])\n",
    "\n"
   ]
  },
  {
   "cell_type": "markdown",
   "metadata": {},
   "source": [
    "As with the case above if we want to reject the null hypothesis, the t statistic needs to be above a threshold p value. \n",
    "\n",
    "We will again choose a p-value of 0.05.\n",
    "\n",
    "The t-value for a sample with 9 degrees of freedom (n-1) is $\\pm 2.228$ (see [here](http://www.sjsu.edu/faculty/gerstman/StatPrimer/t-table.pdf)). \n",
    "\n",
    "Is your t-value less than -2.228? If so, you can reject your null hypothesis ($H_0$) and accept your alternative hypothesis ($H_1$)."
   ]
  },
  {
   "cell_type": "code",
   "execution_count": null,
   "metadata": {
    "collapsed": true
   },
   "outputs": [],
   "source": []
  }
 ],
 "metadata": {
  "kernelspec": {
   "display_name": "Python 3",
   "language": "python",
   "name": "python3"
  },
  "language_info": {
   "codemirror_mode": {
    "name": "ipython",
    "version": 3
   },
   "file_extension": ".py",
   "mimetype": "text/x-python",
   "name": "python",
   "nbconvert_exporter": "python",
   "pygments_lexer": "ipython3",
   "version": "3.6.1"
  }
 },
 "nbformat": 4,
 "nbformat_minor": 2
}
