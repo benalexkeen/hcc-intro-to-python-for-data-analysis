{
 "cells": [
  {
   "cell_type": "markdown",
   "metadata": {},
   "source": [
    "### Revenues\n",
    "\n",
    "Run the cell below to load the revenues for a retail company for 2 seperate years."
   ]
  },
  {
   "cell_type": "code",
   "execution_count": null,
   "metadata": {},
   "outputs": [],
   "source": [
    "import pandas as pd\n",
    "\n",
    "revenues = pd.DataFrame({\n",
    "    2015: ['10232431p', '11432812p', '12938450p', '30432209p', '20110887p', '14903945p',\n",
    "           '16774532p', '14687687p', '30462134p', '39768256p', '58342173p', '80107291p'],\n",
    "    2016: ['9187174p', '10242983p', '11143096p', '30954299p', '20333143p', '16780122p',\n",
    "           '18430973p', '15090314p', '31286712p', '41552798p', '60131181p', '84270667p'],\n",
    "}, index=['Jan', 'Feb', 'Mar', 'Apr', 'May', 'Jun', 'Jul', 'Aug', 'Sep', 'Oct', 'Nov', 'Dec'])\n",
    "\n",
    "revenues"
   ]
  },
  {
   "cell_type": "markdown",
   "metadata": {},
   "source": [
    "Check the data types of each column first:"
   ]
  },
  {
   "cell_type": "code",
   "execution_count": null,
   "metadata": {
    "collapsed": true
   },
   "outputs": [],
   "source": [
    "# Run this cell\n",
    "\n",
    "revenues.dtypes"
   ]
  },
  {
   "cell_type": "markdown",
   "metadata": {},
   "source": [
    "These numbers are given in pence, but the analysis should be carried out in £. \n",
    "\n",
    "Write a function to strip off the 'p', and divide by 100.\n",
    "\n",
    "Map this function onto columns `2015` and `2016`."
   ]
  },
  {
   "cell_type": "code",
   "execution_count": null,
   "metadata": {},
   "outputs": [],
   "source": []
  },
  {
   "cell_type": "markdown",
   "metadata": {},
   "source": [
    "Now check the dtypes of each column again, to make sure you have floats:"
   ]
  },
  {
   "cell_type": "code",
   "execution_count": null,
   "metadata": {
    "collapsed": true
   },
   "outputs": [],
   "source": []
  },
  {
   "cell_type": "markdown",
   "metadata": {},
   "source": [
    "What was the total revenue for 2015?"
   ]
  },
  {
   "cell_type": "code",
   "execution_count": null,
   "metadata": {
    "collapsed": true
   },
   "outputs": [],
   "source": []
  },
  {
   "cell_type": "markdown",
   "metadata": {},
   "source": [
    "and 2016?"
   ]
  },
  {
   "cell_type": "code",
   "execution_count": null,
   "metadata": {
    "collapsed": true
   },
   "outputs": [],
   "source": []
  },
  {
   "cell_type": "markdown",
   "metadata": {},
   "source": [
    "Create a new column `\"Change\"` with the change in revenues between 2015 and 2016."
   ]
  },
  {
   "cell_type": "code",
   "execution_count": null,
   "metadata": {
    "collapsed": true
   },
   "outputs": [],
   "source": []
  },
  {
   "cell_type": "markdown",
   "metadata": {},
   "source": [
    "Create a new column `\"Percentage Change\"` with the percentage change in revenues between 2015 and 2016."
   ]
  },
  {
   "cell_type": "code",
   "execution_count": null,
   "metadata": {
    "collapsed": true
   },
   "outputs": [],
   "source": []
  },
  {
   "cell_type": "markdown",
   "metadata": {},
   "source": [
    "### Tech Firms (Some More)"
   ]
  },
  {
   "cell_type": "markdown",
   "metadata": {},
   "source": [
    "Run the cell below to load the tech firms in again"
   ]
  },
  {
   "cell_type": "code",
   "execution_count": null,
   "metadata": {},
   "outputs": [],
   "source": [
    "tech_firms = pd.read_json('data/tech_firms.json')\n",
    "# Shows the first 5 rows\n",
    "tech_firms.head()"
   ]
  },
  {
   "cell_type": "markdown",
   "metadata": {},
   "source": [
    "Write a function that takes in a string and returns `True` if the string ends with `'US'` and returns `False` otherwise."
   ]
  },
  {
   "cell_type": "code",
   "execution_count": null,
   "metadata": {
    "collapsed": true
   },
   "outputs": [],
   "source": []
  },
  {
   "cell_type": "markdown",
   "metadata": {},
   "source": [
    "Map this function onto the column `\"Headquarters\"`."
   ]
  },
  {
   "cell_type": "code",
   "execution_count": null,
   "metadata": {
    "collapsed": true
   },
   "outputs": [],
   "source": []
  },
  {
   "cell_type": "markdown",
   "metadata": {},
   "source": [
    "Use this mapping to select only the companies whose `Headquarters` is in the US."
   ]
  },
  {
   "cell_type": "code",
   "execution_count": null,
   "metadata": {
    "collapsed": true
   },
   "outputs": [],
   "source": []
  },
  {
   "cell_type": "markdown",
   "metadata": {},
   "source": [
    "What is the revenue of the companies on the list that are in the US?"
   ]
  },
  {
   "cell_type": "code",
   "execution_count": null,
   "metadata": {
    "collapsed": true
   },
   "outputs": [],
   "source": []
  },
  {
   "cell_type": "markdown",
   "metadata": {},
   "source": [
    "You can use a tilde (~) to return the opposite case.\n",
    "\n",
    "For example:\n",
    "\n",
    "`df[df['Col1'] > 5]`\n",
    "\n",
    "Will return all rows for which column `\"Col1\"` is greater than 5.\n",
    "\n",
    "However,\n",
    "\n",
    "`df[~df['Col1'] > 5]`\n",
    "\n",
    "Will return all rows for which column `\"Col1\"` is *not* greater then 5.\n",
    "\n",
    "Using the tilde, what is the revenue of the companies on the list that are not in the US?"
   ]
  },
  {
   "cell_type": "code",
   "execution_count": null,
   "metadata": {
    "collapsed": true
   },
   "outputs": [],
   "source": []
  },
  {
   "cell_type": "markdown",
   "metadata": {},
   "source": [
    "### Cleaning Strings"
   ]
  },
  {
   "cell_type": "markdown",
   "metadata": {},
   "source": [
    "Some people filled in a form with their first names, last names and heights. \n",
    "\n",
    "However the height field was a free text field and there was no error checking. Your job is to clean up these heights.\n",
    "\n",
    "All the heights are given in metric but the string formats are different\n",
    "\n",
    "Run the cell below to see the table."
   ]
  },
  {
   "cell_type": "code",
   "execution_count": null,
   "metadata": {},
   "outputs": [],
   "source": [
    "heights = pd.DataFrame([\n",
    "    {\"first_name\": \"Stephanie\", \"last_name\": \"Bambery\", \"height\": \"1.60 metres\"},\n",
    "    {\"first_name\": \"Barnard\", \"last_name\": \"Darbey\", \"height\": '1m 80cm'},\n",
    "    {\"first_name\": \"Gale\", \"last_name\": \"Blind\", \"height\": \"154\"},\n",
    "    {\"first_name\": \"Corry\", \"last_name\": \"Erbe\", \"height\": \"1 meter 80\"},\n",
    "    {\"first_name\": \"Godard\", \"last_name\": \"Haslam\", \"height\": \"170 cm\"},\n",
    "    {\"first_name\": \"Raimundo\", \"last_name\": \"Pelman\", \"height\": \"172 cm\"}, \n",
    "    {\"first_name\": \"Evvie\", \"last_name\": \"Rathke\", \"height\": \"165\"},\n",
    "    {\"first_name\": \"Darius\", \"last_name\": \"Hymers\", \"height\": \"1.67 m\"}\n",
    "], columns=['first_name', 'last_name', 'height'])\n",
    "\n",
    "heights"
   ]
  },
  {
   "cell_type": "markdown",
   "metadata": {},
   "source": [
    "They are currently strings but you would like them as floats in centimetres.\n",
    "\n",
    "Write a function that will read in all of these height strings, convert them to centimetres, strip out any non-digit characters and return a float.\n",
    "\n",
    "_Hint: have a look back at the presentation at all of the string transformation functions_\n",
    "_This is not an easy problem, so you may want to look at the solution for help_"
   ]
  },
  {
   "cell_type": "code",
   "execution_count": null,
   "metadata": {
    "collapsed": true
   },
   "outputs": [],
   "source": []
  }
 ],
 "metadata": {
  "kernelspec": {
   "display_name": "Python 3",
   "language": "python",
   "name": "python3"
  },
  "language_info": {
   "codemirror_mode": {
    "name": "ipython",
    "version": 3
   },
   "file_extension": ".py",
   "mimetype": "text/x-python",
   "name": "python",
   "nbconvert_exporter": "python",
   "pygments_lexer": "ipython3",
   "version": "3.6.1"
  }
 },
 "nbformat": 4,
 "nbformat_minor": 2
}
