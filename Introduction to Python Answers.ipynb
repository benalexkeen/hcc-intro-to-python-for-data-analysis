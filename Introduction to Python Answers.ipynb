{
 "cells": [
  {
   "cell_type": "markdown",
   "metadata": {},
   "source": [
    "# Introduction To Python\n",
    "## Section 1 - Data Types"
   ]
  },
  {
   "cell_type": "markdown",
   "metadata": {},
   "source": [
    "Welcome to Jupyter!  \n",
    "You can write and run your own python code here without installing anything.  \n",
    "Have a go at printing a string.  \n",
    "Hold shift and press return to run the cell below or press the play button above to run the cell.  \n",
    "You can insert more cells or delete cells using functions in the menus above.  "
   ]
  },
  {
   "cell_type": "code",
   "execution_count": 1,
   "metadata": {},
   "outputs": [
    {
     "name": "stdout",
     "output_type": "stream",
     "text": [
      "Welcome to Introduction to Python\n"
     ]
    }
   ],
   "source": [
    "print(\"Welcome to Introduction to Python\")"
   ]
  },
  {
   "cell_type": "markdown",
   "metadata": {},
   "source": [
    "Have a go at printing your own string here.  \n",
    "Write your code below then hold shift and press return.  "
   ]
  },
  {
   "cell_type": "code",
   "execution_count": 2,
   "metadata": {},
   "outputs": [
    {
     "name": "stdout",
     "output_type": "stream",
     "text": [
      "This is my own string\n"
     ]
    }
   ],
   "source": [
    "print(\"This is my own string\")"
   ]
  },
  {
   "cell_type": "markdown",
   "metadata": {},
   "source": [
    "You can assign a string to a variable and print the variable"
   ]
  },
  {
   "cell_type": "code",
   "execution_count": 3,
   "metadata": {},
   "outputs": [
    {
     "name": "stdout",
     "output_type": "stream",
     "text": [
      "This is the first half of a sentence, \n",
      "This is the first half of a sentence, and this is its second half\n"
     ]
    }
   ],
   "source": [
    "# You can assign a string to a variable and print the variable\n",
    "a = \"This is the first half of a sentence, \"\n",
    "b = \"and this is its second half\"\n",
    "print(a)\n",
    "print(a + b)"
   ]
  },
  {
   "cell_type": "markdown",
   "metadata": {},
   "source": [
    "Assign the variable `tagline` to the string \"Hitachi, Inspire the Next\", then print this variable"
   ]
  },
  {
   "cell_type": "code",
   "execution_count": 4,
   "metadata": {},
   "outputs": [
    {
     "name": "stdout",
     "output_type": "stream",
     "text": [
      "Hitachi, Inspire the Next\n"
     ]
    }
   ],
   "source": [
    "tagline = \"Hitachi, Inspire the Next\"\n",
    "print(tagline)"
   ]
  },
  {
   "cell_type": "markdown",
   "metadata": {},
   "source": [
    "Assign variables `a` and `b` to integers of your choice, then add them together and print the results"
   ]
  },
  {
   "cell_type": "code",
   "execution_count": 5,
   "metadata": {},
   "outputs": [
    {
     "name": "stdout",
     "output_type": "stream",
     "text": [
      "16\n"
     ]
    }
   ],
   "source": [
    "a = 12\n",
    "b = 4\n",
    "\n",
    "print(a + b)"
   ]
  },
  {
   "cell_type": "markdown",
   "metadata": {},
   "source": [
    "Now subtract b from a, and print the result"
   ]
  },
  {
   "cell_type": "code",
   "execution_count": 6,
   "metadata": {},
   "outputs": [
    {
     "name": "stdout",
     "output_type": "stream",
     "text": [
      "8\n"
     ]
    }
   ],
   "source": [
    "print(a - b)"
   ]
  },
  {
   "cell_type": "markdown",
   "metadata": {},
   "source": [
    "Now print a multiplied by b"
   ]
  },
  {
   "cell_type": "code",
   "execution_count": 7,
   "metadata": {},
   "outputs": [
    {
     "name": "stdout",
     "output_type": "stream",
     "text": [
      "48\n"
     ]
    }
   ],
   "source": [
    "print(a * b)"
   ]
  },
  {
   "cell_type": "markdown",
   "metadata": {},
   "source": [
    "Now print a divided by b"
   ]
  },
  {
   "cell_type": "code",
   "execution_count": 8,
   "metadata": {},
   "outputs": [
    {
     "name": "stdout",
     "output_type": "stream",
     "text": [
      "3\n"
     ]
    }
   ],
   "source": [
    "# Divide a by b and print the result\n",
    "print(a / b)"
   ]
  },
  {
   "cell_type": "markdown",
   "metadata": {},
   "source": [
    "Print the remainder of a divided by b"
   ]
  },
  {
   "cell_type": "code",
   "execution_count": 9,
   "metadata": {},
   "outputs": [
    {
     "name": "stdout",
     "output_type": "stream",
     "text": [
      "0\n"
     ]
    }
   ],
   "source": [
    "print(a % b)"
   ]
  },
  {
   "cell_type": "markdown",
   "metadata": {},
   "source": [
    "Print a squared plus b to the power of 3"
   ]
  },
  {
   "cell_type": "code",
   "execution_count": 10,
   "metadata": {},
   "outputs": [
    {
     "name": "stdout",
     "output_type": "stream",
     "text": [
      "208\n"
     ]
    }
   ],
   "source": [
    "print(a ** 2 + b ** 3)"
   ]
  },
  {
   "cell_type": "markdown",
   "metadata": {},
   "source": [
    "Run the cell below:"
   ]
  },
  {
   "cell_type": "code",
   "execution_count": 11,
   "metadata": {},
   "outputs": [
    {
     "name": "stdout",
     "output_type": "stream",
     "text": [
      "I have 5 apples and 4 pears\n"
     ]
    }
   ],
   "source": [
    "# This is an unformatted string\n",
    "my_str = \"I have {} apples and {} pears\"\n",
    "\n",
    "# We can format it as follows\n",
    "apples = 5\n",
    "pears = 4\n",
    "\n",
    "print(my_str.format(apples, pears))"
   ]
  },
  {
   "cell_type": "markdown",
   "metadata": {},
   "source": [
    "Now try it for yourself, define your own unformatted string and format it using the format function"
   ]
  },
  {
   "cell_type": "code",
   "execution_count": 12,
   "metadata": {},
   "outputs": [
    {
     "name": "stdout",
     "output_type": "stream",
     "text": [
      "I have 5 cars and they are all blue\n"
     ]
    }
   ],
   "source": [
    "# Now define your own unformatted string and format it using the format function\n",
    "my_unformatted_string = \"I have {} cars and they are all {}\"\n",
    "\n",
    "quant = 5\n",
    "colour = 'blue'\n",
    "\n",
    "print(my_unformatted_string.format(quant, colour))"
   ]
  },
  {
   "cell_type": "markdown",
   "metadata": {},
   "source": [
    "You can re-assign a variable, and even change its type.  \n",
    "Run this cell and follow what is happening on each line."
   ]
  },
  {
   "cell_type": "code",
   "execution_count": 13,
   "metadata": {},
   "outputs": [
    {
     "name": "stdout",
     "output_type": "stream",
     "text": [
      "5\n",
      "9\n",
      "22\n",
      "X is now a string\n"
     ]
    }
   ],
   "source": [
    "x = 5\n",
    "print(x)\n",
    "x = x + 4\n",
    "print(x)\n",
    "y = 12\n",
    "x = y + 10\n",
    "print(x)\n",
    "x = \"X is now a string\"\n",
    "print(x)"
   ]
  },
  {
   "cell_type": "markdown",
   "metadata": {},
   "source": [
    "This is an example of a list.  \n",
    "Using integer indexing print crackle from this list:"
   ]
  },
  {
   "cell_type": "code",
   "execution_count": 14,
   "metadata": {},
   "outputs": [
    {
     "data": {
      "text/plain": [
       "'Crackle'"
      ]
     },
     "execution_count": 14,
     "metadata": {},
     "output_type": "execute_result"
    }
   ],
   "source": [
    "example_list = [\"Snap\", \"Crackle\", \"Pop\"]\n",
    "\n",
    "example_list[1]"
   ]
  },
  {
   "cell_type": "markdown",
   "metadata": {},
   "source": [
    "Create your own list of 6 different items and set it to the variable `my_list`.  \n",
    "Have a go at printing the first item."
   ]
  },
  {
   "cell_type": "code",
   "execution_count": 15,
   "metadata": {},
   "outputs": [
    {
     "name": "stdout",
     "output_type": "stream",
     "text": [
      "one\n"
     ]
    }
   ],
   "source": [
    "my_list = ['one', 'two', 'three', 'four', 'five', 'six']\n",
    "print(my_list[0])"
   ]
  },
  {
   "cell_type": "markdown",
   "metadata": {},
   "source": [
    "Now print the last item of the list (without using the number 5)"
   ]
  },
  {
   "cell_type": "code",
   "execution_count": 16,
   "metadata": {},
   "outputs": [
    {
     "name": "stdout",
     "output_type": "stream",
     "text": [
      "six\n"
     ]
    }
   ],
   "source": [
    "print(my_list[-1])"
   ]
  },
  {
   "cell_type": "markdown",
   "metadata": {},
   "source": [
    "In one line of code, print the 2nd, 3rd and 4th items from your list."
   ]
  },
  {
   "cell_type": "code",
   "execution_count": 17,
   "metadata": {},
   "outputs": [
    {
     "name": "stdout",
     "output_type": "stream",
     "text": [
      "['two', 'three', 'four']\n"
     ]
    }
   ],
   "source": [
    "print(my_list[1:4])"
   ]
  },
  {
   "cell_type": "markdown",
   "metadata": {},
   "source": [
    "Now print all the items in the list from the 3rd item onwards"
   ]
  },
  {
   "cell_type": "code",
   "execution_count": 18,
   "metadata": {},
   "outputs": [
    {
     "name": "stdout",
     "output_type": "stream",
     "text": [
      "['three', 'four', 'five', 'six']\n"
     ]
    }
   ],
   "source": [
    "print(my_list[2:])"
   ]
  },
  {
   "cell_type": "markdown",
   "metadata": {},
   "source": [
    "What do you get if you add the 2nd number in the list_of_numbers below to the 4th Number?"
   ]
  },
  {
   "cell_type": "code",
   "execution_count": 19,
   "metadata": {
    "collapsed": true
   },
   "outputs": [],
   "source": [
    "list_of_numbers = [4, 2.5, 7, 19, 12, 1, 0, 22]"
   ]
  },
  {
   "cell_type": "markdown",
   "metadata": {
    "collapsed": true
   },
   "source": [
    "What do you get if you divide the 5th number in the `list_of_numbers` by the 1st number?"
   ]
  },
  {
   "cell_type": "code",
   "execution_count": 20,
   "metadata": {},
   "outputs": [
    {
     "data": {
      "text/plain": [
       "3"
      ]
     },
     "execution_count": 20,
     "metadata": {},
     "output_type": "execute_result"
    }
   ],
   "source": [
    "list_of_numbers[4] / list_of_numbers[0]"
   ]
  },
  {
   "cell_type": "markdown",
   "metadata": {},
   "source": [
    "What do you get if you raise the last number in the `list_of_numbers` by the penultimate number?"
   ]
  },
  {
   "cell_type": "code",
   "execution_count": 21,
   "metadata": {},
   "outputs": [
    {
     "data": {
      "text/plain": [
       "1"
      ]
     },
     "execution_count": 21,
     "metadata": {},
     "output_type": "execute_result"
    }
   ],
   "source": [
    "list_of_numbers[-1] ** list_of_numbers[-2]"
   ]
  },
  {
   "cell_type": "markdown",
   "metadata": {},
   "source": [
    "Assign the example dict below to the variable `hitachi`"
   ]
  },
  {
   "cell_type": "code",
   "execution_count": 22,
   "metadata": {
    "collapsed": true
   },
   "outputs": [],
   "source": [
    "hitachi = { \n",
    "    \"Name\": \"Hitachi Ltd\",\n",
    "    \"Employees\": 333150,\n",
    "    \"Revenue_EUR\": 75092000000,\n",
    "    \"HQ\": \"Tokyo, Japan\",\n",
    "    \"Founding_Year\": 1910,\n",
    "    \"Founding_Spirit\": [\"Wa\", \"Makoto\", \"Kaitakusha-Sieshin\"]\n",
    "}"
   ]
  },
  {
   "cell_type": "markdown",
   "metadata": {},
   "source": [
    "What is Hitachi's revenue in billions?  \n",
    "_Hint: 1 billion = 1x10<sup>9</sup>_"
   ]
  },
  {
   "cell_type": "code",
   "execution_count": 23,
   "metadata": {},
   "outputs": [
    {
     "data": {
      "text/plain": [
       "75.092"
      ]
     },
     "execution_count": 23,
     "metadata": {},
     "output_type": "execute_result"
    }
   ],
   "source": [
    "hitachi['Revenue_EUR'] / 10.0 ** 9"
   ]
  },
  {
   "cell_type": "markdown",
   "metadata": {},
   "source": [
    "How many years old is Hitachi?"
   ]
  },
  {
   "cell_type": "code",
   "execution_count": 24,
   "metadata": {},
   "outputs": [
    {
     "name": "stdout",
     "output_type": "stream",
     "text": [
      "Hitachi is 107 years old\n"
     ]
    }
   ],
   "source": [
    "print(\"Hitachi is {} years old\".format(2017 - hitachi['Founding_Year']))"
   ]
  },
  {
   "cell_type": "markdown",
   "metadata": {},
   "source": [
    "Have a go at defining your own dict and select some values from it"
   ]
  },
  {
   "cell_type": "code",
   "execution_count": 25,
   "metadata": {},
   "outputs": [
    {
     "name": "stdout",
     "output_type": "stream",
     "text": [
      "75\n"
     ]
    }
   ],
   "source": [
    "my_dict = {'key1': 'val1', 'key2': 33, 'key3': 42}\n",
    "print(my_dict['key2'] + my_dict['key3'])"
   ]
  },
  {
   "cell_type": "markdown",
   "metadata": {},
   "source": [
    "## Section 2 - Functions"
   ]
  },
  {
   "cell_type": "markdown",
   "metadata": {},
   "source": [
    "Defining functions, remember that python is indentation-significant.  \n",
    "This function takes two numbers as parameters, adds them together and prints the result.  "
   ]
  },
  {
   "cell_type": "code",
   "execution_count": 26,
   "metadata": {
    "collapsed": true
   },
   "outputs": [],
   "source": [
    "def add_numbers(x1, x2):\n",
    "    y = x1 + x2\n",
    "    print(y)"
   ]
  },
  {
   "cell_type": "code",
   "execution_count": 27,
   "metadata": {},
   "outputs": [
    {
     "name": "stdout",
     "output_type": "stream",
     "text": [
      "25\n"
     ]
    }
   ],
   "source": [
    "# try calling the function\n",
    "add_numbers(10, 15)"
   ]
  },
  {
   "cell_type": "code",
   "execution_count": 28,
   "metadata": {},
   "outputs": [
    {
     "name": "stdout",
     "output_type": "stream",
     "text": [
      "88\n"
     ]
    }
   ],
   "source": [
    "# Choose some numbers and call the function yourself\n",
    "add_numbers(12, 76)"
   ]
  },
  {
   "cell_type": "markdown",
   "metadata": {},
   "source": [
    "Call the function below with your own name as the parameter"
   ]
  },
  {
   "cell_type": "code",
   "execution_count": 29,
   "metadata": {},
   "outputs": [
    {
     "name": "stdout",
     "output_type": "stream",
     "text": [
      "Happy Birthday to you\n",
      "Happy Birthday to you\n",
      "Happy Birthday dear Ben\n",
      "Happy Birthday to you\n"
     ]
    }
   ],
   "source": [
    "def happy_birthday(name):\n",
    "    print(\"Happy Birthday to you\")\n",
    "    print(\"Happy Birthday to you\")\n",
    "    print(\"Happy Birthday dear \" + name)\n",
    "    print(\"Happy Birthday to you\")\n",
    "\n",
    "happy_birthday('Ben')"
   ]
  },
  {
   "cell_type": "markdown",
   "metadata": {},
   "source": [
    "Have a go at defining a function that multiplies two numbers together and prints the result.  \n",
    "Then call it with some numbers to test it out."
   ]
  },
  {
   "cell_type": "code",
   "execution_count": 30,
   "metadata": {},
   "outputs": [
    {
     "name": "stdout",
     "output_type": "stream",
     "text": [
      "6\n",
      "81\n"
     ]
    }
   ],
   "source": [
    "def multiply(x, y):\n",
    "    print (x * y)\n",
    "\n",
    "multiply(3, 2)\n",
    "multiply(9, 9)"
   ]
  },
  {
   "cell_type": "markdown",
   "metadata": {},
   "source": [
    "#### Logical Operators\n",
    "\n",
    "The following statement should evaluate to True, run this cell to make sure:"
   ]
  },
  {
   "cell_type": "code",
   "execution_count": 31,
   "metadata": {},
   "outputs": [
    {
     "name": "stdout",
     "output_type": "stream",
     "text": [
      "True\n"
     ]
    }
   ],
   "source": [
    "print(1 + 2 == 3)"
   ]
  },
  {
   "cell_type": "markdown",
   "metadata": {},
   "source": [
    "The following statement should evaluate to False, run this cell to make sure:"
   ]
  },
  {
   "cell_type": "code",
   "execution_count": 32,
   "metadata": {},
   "outputs": [
    {
     "name": "stdout",
     "output_type": "stream",
     "text": [
      "False\n"
     ]
    }
   ],
   "source": [
    "print(1 + 2 == 5)"
   ]
  },
  {
   "cell_type": "markdown",
   "metadata": {},
   "source": [
    "Have a go at writing statements that evaluate to True.  \n",
    "Fill in the right hand and left hand sides of these statements so that they evaluate to True:"
   ]
  },
  {
   "cell_type": "code",
   "execution_count": 33,
   "metadata": {},
   "outputs": [
    {
     "name": "stdout",
     "output_type": "stream",
     "text": [
      "True\n",
      "True\n",
      "True\n",
      "True\n",
      "True\n",
      "True\n"
     ]
    }
   ],
   "source": [
    "print(True == True)\n",
    "print(False != True)\n",
    "print(4 < 5)\n",
    "print(5 > 4)\n",
    "print(5 >= 5)\n",
    "print(10 <= 100)"
   ]
  },
  {
   "cell_type": "markdown",
   "metadata": {},
   "source": [
    "Have a go at writing statements that evaluate to False.  \n",
    "Fill in the right hand and left hand sides of these statements so that they evaluate to False:"
   ]
  },
  {
   "cell_type": "code",
   "execution_count": 34,
   "metadata": {},
   "outputs": [
    {
     "name": "stdout",
     "output_type": "stream",
     "text": [
      "False\n",
      "False\n",
      "False\n",
      "False\n",
      "False\n",
      "False\n"
     ]
    }
   ],
   "source": [
    "print(True == False)\n",
    "print(False != False)\n",
    "print(1000 < 0)\n",
    "print(1 > 1)\n",
    "print(1 >= 1.00001)\n",
    "print(2 <= 1)"
   ]
  },
  {
   "cell_type": "markdown",
   "metadata": {},
   "source": [
    "Choose a number:"
   ]
  },
  {
   "cell_type": "code",
   "execution_count": 35,
   "metadata": {
    "collapsed": true
   },
   "outputs": [],
   "source": [
    "num = 5"
   ]
  },
  {
   "cell_type": "markdown",
   "metadata": {},
   "source": [
    "Run this cell to describe your number"
   ]
  },
  {
   "cell_type": "code",
   "execution_count": 36,
   "metadata": {},
   "outputs": [
    {
     "name": "stdout",
     "output_type": "stream",
     "text": [
      "5 is positive\n",
      "5 is five\n"
     ]
    }
   ],
   "source": [
    "if num < 0:\n",
    "    print(\"{} is negative\".format(num))\n",
    "elif num > 0:\n",
    "    print(\"{} is positive\".format(num))\n",
    "else:\n",
    "    print(\"{} is zero\".format(num))\n",
    "\n",
    "if num != 5:\n",
    "    print(\"{} is not five\".format(num))\n",
    "else:\n",
    "    print(\"{} is five\".format(num))"
   ]
  },
  {
   "cell_type": "markdown",
   "metadata": {},
   "source": [
    "Have a go at defining your own if/elif/else clauses to describe `num`"
   ]
  },
  {
   "cell_type": "code",
   "execution_count": 37,
   "metadata": {},
   "outputs": [
    {
     "name": "stdout",
     "output_type": "stream",
     "text": [
      "5 is odd\n",
      "5 is between 3 and 50\n"
     ]
    }
   ],
   "source": [
    "if num % 2 == 0:\n",
    "    print(\"{} is even\".format(num))\n",
    "else:\n",
    "    print(\"{} is odd\".format(num))\n",
    "\n",
    "if 3 < num < 50:\n",
    "    print(\"{} is between 3 and 50\".format(num))\n",
    "elif num == 1:\n",
    "    print(\"{} is one\".format(one))\n",
    "else:\n",
    "    print(\"{} is neither one, nor is it between 3 or 50\")"
   ]
  },
  {
   "cell_type": "markdown",
   "metadata": {},
   "source": [
    "Choose a type of swallow out of `\"European\"` or `\"African\"`, then call the function below with that type to find its unladen air speed velocity"
   ]
  },
  {
   "cell_type": "code",
   "execution_count": 38,
   "metadata": {},
   "outputs": [
    {
     "name": "stdout",
     "output_type": "stream",
     "text": [
      "12 m/s\n"
     ]
    }
   ],
   "source": [
    "def swallow_velocity(type):\n",
    "    if type == \"European\":\n",
    "        print(\"12 m/s\")\n",
    "    elif type == \"African\":\n",
    "        print(\"10 m/s\")\n",
    "    else:\n",
    "        print(\"I don't know that type of swallow\")\n",
    "\n",
    "swallow_velocity(\"European\")"
   ]
  },
  {
   "cell_type": "markdown",
   "metadata": {},
   "source": [
    "Fill in the function below.  \n",
    "Do some error checking to make sure the number passed isn't negative.  \n",
    "Then print the square root of the number.  \n",
    "_Hint: Square root of a number is the number raised to the power of 0.5_  "
   ]
  },
  {
   "cell_type": "code",
   "execution_count": 39,
   "metadata": {
    "collapsed": true
   },
   "outputs": [],
   "source": [
    "def print_square_root(x):\n",
    "    if x < 0:\n",
    "        print('{} is less than zero')\n",
    "    else:\n",
    "        print(x ** 0.5)"
   ]
  },
  {
   "cell_type": "markdown",
   "metadata": {},
   "source": [
    "Using your function, check the square root of 41370624"
   ]
  },
  {
   "cell_type": "code",
   "execution_count": 40,
   "metadata": {},
   "outputs": [
    {
     "name": "stdout",
     "output_type": "stream",
     "text": [
      "6432.0\n"
     ]
    }
   ],
   "source": [
    "print_square_root(41370624)"
   ]
  },
  {
   "cell_type": "markdown",
   "metadata": {},
   "source": [
    "We can chain logical operators together using \"and\".  \n",
    "Define a new variable `num` with a float or integer.  \n",
    "Try running this cell to describe `num`.  "
   ]
  },
  {
   "cell_type": "code",
   "execution_count": 41,
   "metadata": {},
   "outputs": [
    {
     "name": "stdout",
     "output_type": "stream",
     "text": [
      "6 is divisible by six\n",
      "6 is a positive single digit\n"
     ]
    }
   ],
   "source": [
    "num = 6\n",
    "\n",
    "if (num % 2 == 0) and (num % 3 == 0):\n",
    "    print(\"{} is divisible by six\".format(num))\n",
    "else:\n",
    "    print(\"{} is not divisible by six\".format(num))\n",
    "\n",
    "if isinstance(num, int) and (num > 0) and (num < 10):\n",
    "    print(\"{} is a positive single digit\".format(num))"
   ]
  },
  {
   "cell_type": "markdown",
   "metadata": {},
   "source": [
    "We can also chain logical operators together using \"or\".  \n",
    "Try it out here, put your level in e.g. \"C1\".  \n",
    "Then run this cell to print out your position.  "
   ]
  },
  {
   "cell_type": "code",
   "execution_count": 42,
   "metadata": {},
   "outputs": [
    {
     "name": "stdout",
     "output_type": "stream",
     "text": [
      "Consultant\n"
     ]
    }
   ],
   "source": [
    "level = \"C2\"\n",
    "\n",
    "if level == \"C1\" or level == \"C2\":\n",
    "    position = \"Consultant\"\n",
    "elif level == \"SC1\" or level == \"SC2\":\n",
    "    position = \"Senior Consultant\"\n",
    "elif level == \"M1\" or level == \"M2\" or level == \"M3\":\n",
    "    position = \"Manager\"\n",
    "elif level == \"SM1\" or level == \"SM2\":\n",
    "    position = \"Senior Manager\"\n",
    "elif level == \"DCS\":\n",
    "    position = \"Director\"\n",
    "elif level == \"VP\":\n",
    "    position = \"Vice President\"\n",
    "else:\n",
    "    position = \"Other\"\n",
    "\n",
    "print(position)"
   ]
  },
  {
   "cell_type": "markdown",
   "metadata": {},
   "source": [
    "Now have a go at this yourself!   \n",
    "Define a variable and test it out with   \n",
    "your own \"or\" and \"and\" conditional statements  "
   ]
  },
  {
   "cell_type": "code",
   "execution_count": 43,
   "metadata": {},
   "outputs": [
    {
     "name": "stdout",
     "output_type": "stream",
     "text": [
      "5 is a single digit\n"
     ]
    }
   ],
   "source": [
    "my_int = 5\n",
    "\n",
    "if not isinstance(my_int, int):\n",
    "    print(\"{} is not an integer\")\n",
    "elif isinstance(my_int, int) and (my_int <= -10 or my_int >= 10):\n",
    "    print(\"{} is not a single digit\".format(my_int))\n",
    "else:\n",
    "    print(\"{} is a single digit\".format(my_int))"
   ]
  },
  {
   "cell_type": "markdown",
   "metadata": {},
   "source": [
    "You can check whether something is in a string or a list, or if a key is in a dict, using the `in` keyword.  \n",
    "Try this out by running the three cells below."
   ]
  },
  {
   "cell_type": "code",
   "execution_count": 44,
   "metadata": {},
   "outputs": [
    {
     "name": "stdout",
     "output_type": "stream",
     "text": [
      "String 1 is a substring of String 2\n"
     ]
    }
   ],
   "source": [
    "# String\n",
    "string_1 = \"Ni\"\n",
    "string_2 = \"We are the knights who say 'Ni!'\"\n",
    "\n",
    "if string_1 in string_2:\n",
    "    print(\"String 1 is a substring of String 2\")\n",
    "else:\n",
    "    print(\"String 1 is not a substring of String 2\")"
   ]
  },
  {
   "cell_type": "code",
   "execution_count": 45,
   "metadata": {},
   "outputs": [
    {
     "name": "stdout",
     "output_type": "stream",
     "text": [
      "Your ferret is an odd pet\n"
     ]
    }
   ],
   "source": [
    "# List\n",
    "most_common_pets = ['dog', 'cat', 'hamster', 'fish', 'mouse', 'guinea pig', 'bird', 'lizard', 'snake']\n",
    "\n",
    "my_pet = 'ferret'\n",
    "\n",
    "if my_pet in most_common_pets:\n",
    "    print(\"Your {} is a regular pet\".format(my_pet))\n",
    "elif my_pet == '':\n",
    "    print(\"You don't have a pet\")\n",
    "else:\n",
    "    print(\"Your {} is an odd pet\".format(my_pet))"
   ]
  },
  {
   "cell_type": "code",
   "execution_count": 46,
   "metadata": {},
   "outputs": [
    {
     "name": "stdout",
     "output_type": "stream",
     "text": [
      "The HQ for Hitachi Consulting is Harmsworth House, London\n"
     ]
    }
   ],
   "source": [
    "# Dict\n",
    "hqs = {\n",
    "    'Hitachi Rail': '40 Holborn Viaduct, London',\n",
    "    'Hitachi Europe': 'Whitebrook Park, Maidenhead',\n",
    "    'Pentaho': '10 Exchange Square, London',\n",
    "    'Hitachi Consulting': 'Harmsworth House, London',\n",
    "    'Horizon': 'Sunrise House, Gloucester',\n",
    "    'Hitachi R&D': '125 London Wall, London',\n",
    "}\n",
    "\n",
    "# Fill in the variable with your favourite Hitachi Company\n",
    "my_fave_hitachi_company = 'Hitachi Consulting'\n",
    "\n",
    "if my_fave_hitachi_company in hqs:\n",
    "    print(\"The HQ for {} is {}\".format(my_fave_hitachi_company, hqs[my_fave_hitachi_company]))\n",
    "else:\n",
    "    print(\"Sorry I don't have the HQ for {}\")"
   ]
  },
  {
   "cell_type": "markdown",
   "metadata": {},
   "source": [
    "The `append()` method will append an item to a list.  \n",
    "Define a function that will check if the item is in the list.  \n",
    "If the item is not in the list, append it to the list.  \n",
    "Then print the list. Try this out with a few items.  "
   ]
  },
  {
   "cell_type": "code",
   "execution_count": 47,
   "metadata": {},
   "outputs": [
    {
     "name": "stdout",
     "output_type": "stream",
     "text": [
      "['This', 'is', 'my', 'list', 'hello']\n",
      "['This', 'is', 'my', 'list', 'hello', 'world']\n",
      "['This', 'is', 'my', 'list', 'hello', 'world']\n",
      "['This', 'is', 'my', 'list', 'hello', 'world']\n",
      "['This', 'is', 'my', 'list', 'hello', 'world', 1459]\n"
     ]
    }
   ],
   "source": [
    "def append_to_list_if_not_present(current_list, item):\n",
    "    if item not in current_list:\n",
    "        current_list.append(item)\n",
    "    print(current_list)\n",
    "    return current_list\n",
    "\n",
    "my_list = ['This', 'is', 'my', 'list']\n",
    "my_list = append_to_list_if_not_present(my_list, 'hello')\n",
    "my_list = append_to_list_if_not_present(my_list, 'world')\n",
    "my_list = append_to_list_if_not_present(my_list, 'hello')\n",
    "my_list = append_to_list_if_not_present(my_list, 'is')\n",
    "my_list = append_to_list_if_not_present(my_list, 1459)"
   ]
  },
  {
   "cell_type": "markdown",
   "metadata": {},
   "source": [
    "## Section 3 - Loops"
   ]
  },
  {
   "cell_type": "markdown",
   "metadata": {},
   "source": [
    "The range function will give you a list of numbers between two given numbers.  \n",
    "Assign integers to two variables `x` and `y`.  \n",
    "Then call range on these numbers to get the integers between x and y.  \n",
    "Then loop through this range and print each number between x and y.  "
   ]
  },
  {
   "cell_type": "code",
   "execution_count": 48,
   "metadata": {},
   "outputs": [
    {
     "name": "stdout",
     "output_type": "stream",
     "text": [
      "5\n",
      "6\n",
      "7\n",
      "8\n",
      "9\n"
     ]
    }
   ],
   "source": [
    "x = 5\n",
    "y = 10\n",
    "for i in range(x, y):\n",
    "    print(i)"
   ]
  },
  {
   "cell_type": "markdown",
   "metadata": {},
   "source": [
    "Now loop through this range and print the square of each number between x and y"
   ]
  },
  {
   "cell_type": "code",
   "execution_count": 49,
   "metadata": {},
   "outputs": [
    {
     "name": "stdout",
     "output_type": "stream",
     "text": [
      "25\n",
      "36\n",
      "49\n",
      "64\n",
      "81\n"
     ]
    }
   ],
   "source": [
    "for i in range(x, y):\n",
    "    print(i ** 2)"
   ]
  },
  {
   "cell_type": "markdown",
   "metadata": {},
   "source": [
    "You can loop through a list and run conditionals on each number."
   ]
  },
  {
   "cell_type": "code",
   "execution_count": 50,
   "metadata": {},
   "outputs": [
    {
     "name": "stdout",
     "output_type": "stream",
     "text": [
      "None Shall Pass\n",
      "Tis but a scratch\n",
      "It's just a flesh wound\n",
      "I'm Invincible\n",
      "All right, we'll call it a draw.\n"
     ]
    }
   ],
   "source": [
    "# You can loop through the list and run conditionals on each number\n",
    "for missing_limbs in range(0, 5):\n",
    "    if missing_limbs == 0:\n",
    "        print(\"None Shall Pass\")\n",
    "    elif missing_limbs == 1:\n",
    "        print(\"Tis but a scratch\")\n",
    "    elif missing_limbs == 2:\n",
    "        print(\"It's just a flesh wound\")\n",
    "    elif missing_limbs == 3:\n",
    "        print(\"I'm Invincible\")\n",
    "    elif missing_limbs == 4:\n",
    "        print(\"All right, we'll call it a draw.\")"
   ]
  },
  {
   "cell_type": "markdown",
   "metadata": {},
   "source": [
    "Assign two variables to integers, then have a go at looping through each integer between these numbers are exactly divisible by 4.   \n",
    "\n",
    "If the number is divisible by 4, print out one quarter of this number."
   ]
  },
  {
   "cell_type": "code",
   "execution_count": 51,
   "metadata": {},
   "outputs": [
    {
     "name": "stdout",
     "output_type": "stream",
     "text": [
      "One quarter of 152 is 38.0\n",
      "One quarter of 156 is 39.0\n",
      "One quarter of 160 is 40.0\n",
      "One quarter of 164 is 41.0\n",
      "One quarter of 168 is 42.0\n",
      "One quarter of 172 is 43.0\n"
     ]
    }
   ],
   "source": [
    "for i in range(150, 175):\n",
    "    if i % 4 == 0:\n",
    "        print(\"One quarter of {} is {}\".format(i, i * 0.25))"
   ]
  },
  {
   "cell_type": "markdown",
   "metadata": {},
   "source": [
    "You can iterate through a list and break when a requirement is met, run the cell below to see this in action."
   ]
  },
  {
   "cell_type": "code",
   "execution_count": 52,
   "metadata": {},
   "outputs": [
    {
     "name": "stdout",
     "output_type": "stream",
     "text": [
      "I don't want Spaghetti, I want spam\n",
      "I don't want Coconuts, I want spam\n",
      "Yum, spam!\n"
     ]
    }
   ],
   "source": [
    "food_list = [\"Spaghetti\", \"Coconuts\", \"Spam\", \"Eggs\"]\n",
    "\n",
    "for food in food_list:\n",
    "    if food == \"Spam\":\n",
    "        print(\"Yum, spam!\")\n",
    "        break\n",
    "    else:\n",
    "        print(\"I don't want \" + food + \", I want spam\")"
   ]
  },
  {
   "cell_type": "markdown",
   "metadata": {},
   "source": [
    "If you iterate through a dict, you actually iterate through the keys in the dict."
   ]
  },
  {
   "cell_type": "code",
   "execution_count": 53,
   "metadata": {},
   "outputs": [
    {
     "name": "stdout",
     "output_type": "stream",
     "text": [
      "The price of AAPL is $108.48\n",
      "The price of HTHIY is $493.57\n",
      "The price of CSCO is $25.54\n",
      "The price of IBM is $146.48\n",
      "The price of MSFT is $44.11\n"
     ]
    }
   ],
   "source": [
    "stock_prices = {'IBM': 146.48, 'MSFT': 44.11, 'CSCO': 25.54, 'AAPL': 108.48, 'HTHIY': 493.57}\n",
    "for stock in stock_prices:\n",
    "    print(\"The price of {} is ${}\".format(stock, stock_prices[stock]))"
   ]
  },
  {
   "cell_type": "markdown",
   "metadata": {},
   "source": [
    "Have a go at this yourself, define your own key-value pairs in a dict.  \n",
    "Iterate through the keys and print the key and the value."
   ]
  },
  {
   "cell_type": "code",
   "execution_count": 54,
   "metadata": {},
   "outputs": [
    {
     "name": "stdout",
     "output_type": "stream",
     "text": [
      "The Value of key3 is World\n",
      "The Value of key2 is Hello\n",
      "The Value of key1 is 14\n"
     ]
    }
   ],
   "source": [
    "my_key_pairs = {'key1': 14, 'key2': 'Hello', 'key3': 'World'}\n",
    "\n",
    "for key in my_key_pairs:\n",
    "    print(\"The Value of {} is {}\".format(key, my_key_pairs[key]))"
   ]
  },
  {
   "cell_type": "markdown",
   "metadata": {},
   "source": [
    "While loops allow you to iterate through until a condition is met.\n",
    "Run the cell below to see an example."
   ]
  },
  {
   "cell_type": "code",
   "execution_count": 55,
   "metadata": {},
   "outputs": [
    {
     "name": "stdout",
     "output_type": "stream",
     "text": [
      "1 is less than 5\n",
      "2 is less than 5\n",
      "3 is less than 5\n",
      "4 is less than 5\n",
      "5 is not less than 5\n"
     ]
    }
   ],
   "source": [
    "a = 5\n",
    "b = 1\n",
    "while b < a:\n",
    "    print(\"{} is less than {}\".format(b, a))\n",
    "    b += 1\n",
    "print(\"{} is not less than {}\".format(b, a))"
   ]
  },
  {
   "cell_type": "markdown",
   "metadata": {},
   "source": [
    "Have a go at defining your own while loop.  \n",
    "Define a string and try adding full stops to it until the length of the string is 20."
   ]
  },
  {
   "cell_type": "code",
   "execution_count": 56,
   "metadata": {},
   "outputs": [
    {
     "name": "stdout",
     "output_type": "stream",
     "text": [
      "Hello, World........\n"
     ]
    }
   ],
   "source": [
    "my_str = \"Hello, World\"\n",
    "while len(my_str) < 20:\n",
    "    my_str += '.'\n",
    "print(my_str)"
   ]
  },
  {
   "cell_type": "markdown",
   "metadata": {},
   "source": [
    "## Exercises"
   ]
  },
  {
   "cell_type": "markdown",
   "metadata": {},
   "source": [
    "__For each of the exercises below, carry out the instructions then try out your functions with the test cases given and make sure you don't get an assertion error__"
   ]
  },
  {
   "cell_type": "markdown",
   "metadata": {},
   "source": [
    "Define a function `power` that takes two paramaters: `x` and `y`  \n",
    "Return the value of the `x` to the power of `y`"
   ]
  },
  {
   "cell_type": "code",
   "execution_count": 57,
   "metadata": {
    "collapsed": true
   },
   "outputs": [],
   "source": [
    "# Write your function here\n",
    "def power(x, y):\n",
    "    return x ** y"
   ]
  },
  {
   "cell_type": "code",
   "execution_count": 58,
   "metadata": {},
   "outputs": [
    {
     "name": "stdout",
     "output_type": "stream",
     "text": [
      "PASSED\n"
     ]
    }
   ],
   "source": [
    "# Now test your function\n",
    "test_1 = power(4, 5) == 1024\n",
    "test_2 = power(6, 3) == 216\n",
    "test_3 = power(10, 10) == 10000000000\n",
    "test_4 = power(4, -0.5) == 0.5\n",
    "test_5 = power(6561, 0.125) == 3\n",
    "\n",
    "if all([test_1, test_2, test_3, test_4, test_5]):\n",
    "    print(\"PASSED\")\n",
    "else:\n",
    "    print(\"FAILED\")"
   ]
  },
  {
   "cell_type": "markdown",
   "metadata": {},
   "source": [
    "Write a function `is_vowel` that takes a character (i.e. a string of length 1)  \n",
    "and returns `True` if it is a vowel or `False` otherwise"
   ]
  },
  {
   "cell_type": "code",
   "execution_count": 59,
   "metadata": {
    "collapsed": true
   },
   "outputs": [],
   "source": [
    "def is_vowel(char):\n",
    "    if char in ('aeiou'):\n",
    "        return True\n",
    "    else:\n",
    "        return False"
   ]
  },
  {
   "cell_type": "code",
   "execution_count": 60,
   "metadata": {},
   "outputs": [
    {
     "name": "stdout",
     "output_type": "stream",
     "text": [
      "PASSED\n"
     ]
    }
   ],
   "source": [
    "test_1 = is_vowel('a')\n",
    "test_2 = not is_vowel('q')\n",
    "test_3 = is_vowel('e')\n",
    "test_4 = not is_vowel('9')\n",
    "test_5 = not is_vowel(';')\n",
    "test_6 = is_vowel('u')\n",
    "\n",
    "if all([test_1, test_2, test_3, test_4, test_5, test_6]) and (test_1 is True):\n",
    "    print(\"PASSED\")\n",
    "else:\n",
    "    print(\"FAILED\")"
   ]
  },
  {
   "cell_type": "markdown",
   "metadata": {},
   "source": [
    "Define a function `volume_from_dimensions` that takes 3 parameters: length, width and depth in cm.  \n",
    "Return the volume in litres  \n",
    "_Hint: 1 litre = 1dm<sup>3</sup>_"
   ]
  },
  {
   "cell_type": "code",
   "execution_count": 61,
   "metadata": {
    "collapsed": true
   },
   "outputs": [],
   "source": [
    "def volume_from_dimensions(length, width, depth):\n",
    "    return length * width * depth * (10 ** -3)"
   ]
  },
  {
   "cell_type": "code",
   "execution_count": 62,
   "metadata": {},
   "outputs": [
    {
     "name": "stdout",
     "output_type": "stream",
     "text": [
      "PASSED\n"
     ]
    }
   ],
   "source": [
    "test_1 = volume_from_dimensions(10, 5, 1) == 0.05\n",
    "test_2 = volume_from_dimensions(15, 15, 15) == 3.375\n",
    "test_3 = volume_from_dimensions(14, 0, 12) == 0\n",
    "test_4 = volume_from_dimensions(100, 200, 300) == 6000\n",
    "\n",
    "if all([test_1, test_2, test_3, test_4]):\n",
    "    print(\"PASSED\")\n",
    "else:\n",
    "    print(\"FAILED\")"
   ]
  },
  {
   "cell_type": "markdown",
   "metadata": {},
   "source": [
    "Define a function `pythagoras` that takes 2 numerical parameters: length and width of a right-angled triangle  \n",
    "Return the length of the hypotenuse"
   ]
  },
  {
   "cell_type": "code",
   "execution_count": 63,
   "metadata": {
    "collapsed": true
   },
   "outputs": [],
   "source": [
    "def pythagoras(length, width):\n",
    "    hypotenuse = ((length ** 2) + (width ** 2)) ** 0.5\n",
    "    return hypotenuse"
   ]
  },
  {
   "cell_type": "code",
   "execution_count": 64,
   "metadata": {},
   "outputs": [
    {
     "name": "stdout",
     "output_type": "stream",
     "text": [
      "PASSED\n"
     ]
    }
   ],
   "source": [
    "test_1 = pythagoras(3, 4) == 5\n",
    "test_2 = pythagoras(5, 12) == 13\n",
    "test_3 = pythagoras(9, 40) == 41\n",
    "test_4 = pythagoras(58, 840) == 842\n",
    "test_5 = pythagoras(0, 10) == 10\n",
    "\n",
    "if all([test_1, test_2, test_3, test_4, test_5]):\n",
    "    print(\"PASSED\")\n",
    "else:\n",
    "    print(\"FAILED\")"
   ]
  },
  {
   "cell_type": "markdown",
   "metadata": {
    "collapsed": true
   },
   "source": [
    "Define a function `factorial` that takes 1 integer parameter: `x`  \n",
    "Return x! (\"x factorial\")"
   ]
  },
  {
   "cell_type": "code",
   "execution_count": 65,
   "metadata": {
    "collapsed": true
   },
   "outputs": [],
   "source": [
    "def factorial(x):\n",
    "    y = 1\n",
    "    while x > 0:\n",
    "        y *= x\n",
    "        x -= 1\n",
    "    return y"
   ]
  },
  {
   "cell_type": "code",
   "execution_count": 66,
   "metadata": {},
   "outputs": [
    {
     "name": "stdout",
     "output_type": "stream",
     "text": [
      "PASSED\n"
     ]
    }
   ],
   "source": [
    "test_1 = factorial(4) == 24\n",
    "test_2 = factorial(20) == 2432902008176640000\n",
    "test_3 = factorial(0) == 1\n",
    "test_4 = factorial(1) == 1\n",
    "test_5 = factorial(5) == 120\n",
    "\n",
    "if all([test_1, test_2, test_3, test_4, test_5]):\n",
    "    print(\"PASSED\")\n",
    "else:\n",
    "    print(\"FAILED\")"
   ]
  },
  {
   "cell_type": "markdown",
   "metadata": {},
   "source": [
    "Define a function `compound_interest` that takes 3 parameters: \n",
    "* an amount saved\n",
    "* an annual interest rate\n",
    "* and a number of years  \n",
    "\n",
    "Return the value of the savings to the nearest penny at the end of the period assuming the interest is paid once a year."
   ]
  },
  {
   "cell_type": "code",
   "execution_count": 67,
   "metadata": {
    "collapsed": true
   },
   "outputs": [],
   "source": [
    "def compound_interest(saved, interest_rate, years):\n",
    "    interest_rate = (interest_rate / 100.0) + 1\n",
    "    end_value = saved * (interest_rate ** years)\n",
    "    return round(end_value, 2)"
   ]
  },
  {
   "cell_type": "code",
   "execution_count": 68,
   "metadata": {},
   "outputs": [
    {
     "name": "stdout",
     "output_type": "stream",
     "text": [
      "PASSED\n"
     ]
    }
   ],
   "source": [
    "test_1 = compound_interest(20, 5, 15) == 41.58\n",
    "test_2 = compound_interest(1000, 10, 10) == 2593.74\n",
    "test_3 = compound_interest(75, 12, 15) == 410.52\n",
    "test_4 = compound_interest(0, 12, 15) == 0\n",
    "test_5 = compound_interest(10000, 1, 50) == 16446.32\n",
    "\n",
    "if all([test_1, test_2, test_3, test_4, test_5]):\n",
    "    print(\"PASSED\")\n",
    "else:\n",
    "    print(\"FAILED\")"
   ]
  },
  {
   "cell_type": "markdown",
   "metadata": {
    "collapsed": true
   },
   "source": [
    "Define a function `numbers_divisible_by_5` that takes two integer parameters and returns a list with all the numbers between these two numbers (inclusive) that are divisible by 5."
   ]
  },
  {
   "cell_type": "code",
   "execution_count": 69,
   "metadata": {
    "collapsed": true
   },
   "outputs": [],
   "source": [
    "def numbers_divisible_by_5(x, y):\n",
    "    my_list = []\n",
    "    for i in range(x, y+1):\n",
    "        if i % 5 == 0:\n",
    "            my_list.append(i)\n",
    "    return my_list"
   ]
  },
  {
   "cell_type": "code",
   "execution_count": 70,
   "metadata": {},
   "outputs": [
    {
     "name": "stdout",
     "output_type": "stream",
     "text": [
      "PASSED\n"
     ]
    }
   ],
   "source": [
    "test_1 = numbers_divisible_by_5(4, 6) == [5]\n",
    "test_2 = numbers_divisible_by_5(96, 123) == [100, 105, 110, 115, 120]\n",
    "test_3 = numbers_divisible_by_5(95, 125) == [95, 100, 105, 110, 115, 120, 125]\n",
    "test_4 = numbers_divisible_by_5(-3, 6) == [0, 5]\n",
    "test_5 = numbers_divisible_by_5(6, 9) == []\n",
    "\n",
    "if all([test_1, test_2, test_3, test_4, test_5]):\n",
    "    print(\"PASSED\")\n",
    "else:\n",
    "    print(\"FAILED\")"
   ]
  },
  {
   "cell_type": "markdown",
   "metadata": {},
   "source": [
    "Define a function `fibonacci` that takes 1 positive integer parameter.  \n",
    "Return a list of the first n numbers in the fibonacci sequence"
   ]
  },
  {
   "cell_type": "code",
   "execution_count": 71,
   "metadata": {
    "collapsed": true
   },
   "outputs": [],
   "source": [
    "def fibonacci(n):\n",
    "    seq = []\n",
    "    j = k = 1\n",
    "    if n > 0:\n",
    "        seq.append(j)\n",
    "    if n > 1:\n",
    "        seq.append(k)\n",
    "        for i in range(n-2):\n",
    "            seq.append(j + k)\n",
    "            if i % 2 == 0:\n",
    "                j = j + k\n",
    "            else:\n",
    "                k = j + k\n",
    "    return seq"
   ]
  },
  {
   "cell_type": "code",
   "execution_count": 72,
   "metadata": {},
   "outputs": [
    {
     "name": "stdout",
     "output_type": "stream",
     "text": [
      "PASSED\n"
     ]
    }
   ],
   "source": [
    "test_1 = fibonacci(1) == [1]\n",
    "test_2 = fibonacci(2) == [1, 1]\n",
    "test_3 = fibonacci(3) == [1, 1, 2]\n",
    "test_4 = fibonacci(7) == [1, 1, 2, 3, 5, 8, 13]\n",
    "test_5 = fibonacci(20)[-1] == 6765\n",
    "\n",
    "if all([test_1, test_2, test_3, test_4, test_5]):\n",
    "    print(\"PASSED\")\n",
    "else:\n",
    "    print(\"FAILED\")"
   ]
  },
  {
   "cell_type": "markdown",
   "metadata": {
    "collapsed": true
   },
   "source": [
    "Define a function `max_in_list` that takes a list of numbers as a parameter.  \n",
    "Return the highest number in the list, without using the max function."
   ]
  },
  {
   "cell_type": "code",
   "execution_count": 73,
   "metadata": {
    "collapsed": true
   },
   "outputs": [],
   "source": [
    "def max_in_list(input_list):\n",
    "    max_so_far = None\n",
    "    for item in input_list:\n",
    "        if not max_so_far:\n",
    "            max_so_far = item\n",
    "        elif max_so_far < item:\n",
    "            max_so_far = item\n",
    "    return max_so_far"
   ]
  },
  {
   "cell_type": "code",
   "execution_count": 74,
   "metadata": {},
   "outputs": [
    {
     "name": "stdout",
     "output_type": "stream",
     "text": [
      "PASSED\n"
     ]
    }
   ],
   "source": [
    "test_1 = max_in_list([0, 3, 4, 323.12, 7, 9]) == 323.12\n",
    "test_2 = max_in_list([0, 0, 0, 0, 0, 0]) == 0\n",
    "test_3 = max_in_list([-5, -4, -3, -10, -20, -50]) == -3\n",
    "test_4 = max_in_list([-5, -4, -3, 20, -20, 55]) == 55\n",
    "test_5 = max_in_list([60, 60, 20, 20, 40, 40]) == 60\n",
    "test_6 = max_in_list([]) == None\n",
    "\n",
    "if all([test_1, test_2, test_3, test_4, test_5, test_6]):\n",
    "    print(\"PASSED\")\n",
    "else:\n",
    "    print(\"FAILED\")"
   ]
  },
  {
   "cell_type": "markdown",
   "metadata": {},
   "source": [
    "Write a function `lengths_of_words` that takes a string and returns a list of lengths of words in the list."
   ]
  },
  {
   "cell_type": "code",
   "execution_count": 75,
   "metadata": {
    "collapsed": true
   },
   "outputs": [],
   "source": [
    "def lengths_of_words(my_str):\n",
    "    words = my_str.split(' ')\n",
    "    word_lengths = []\n",
    "    for word in words:\n",
    "        word_lengths.append(len(word))\n",
    "    return word_lengths"
   ]
  },
  {
   "cell_type": "code",
   "execution_count": 76,
   "metadata": {},
   "outputs": [
    {
     "name": "stdout",
     "output_type": "stream",
     "text": [
      "PASSED\n"
     ]
    }
   ],
   "source": [
    "test_1 = lengths_of_words('My dog Spot') == [2, 3, 4]\n",
    "test_2 = lengths_of_words('The quick brown fox jumps over the lazy dog') == [3, 5, 5, 3, 5, 4, 3, 4, 3]\n",
    "test_3 = lengths_of_words('Antidisestablishmentarianism') == [28]\n",
    "test_4 = lengths_of_words('') == [0]\n",
    "test_5 = lengths_of_words('Nobody expects the Spanish Inquisition') == [6, 7, 3, 7, 11]\n",
    "\n",
    "if all([test_1, test_2, test_3, test_4, test_5]):\n",
    "    print(\"PASSED\")\n",
    "else:\n",
    "    print(\"FAILED\")"
   ]
  },
  {
   "cell_type": "markdown",
   "metadata": {},
   "source": [
    "_For more exercises, have a go at the exercises on Hacker Rank_"
   ]
  },
  {
   "cell_type": "markdown",
   "metadata": {},
   "source": [
    "## Modules"
   ]
  },
  {
   "cell_type": "markdown",
   "metadata": {},
   "source": [
    "You can import individual variables/functions/classes from a module into your namespace"
   ]
  },
  {
   "cell_type": "code",
   "execution_count": 77,
   "metadata": {},
   "outputs": [
    {
     "name": "stdout",
     "output_type": "stream",
     "text": [
      "3.14159265359\n"
     ]
    }
   ],
   "source": [
    "from math import pi\n",
    "print(pi)"
   ]
  },
  {
   "cell_type": "markdown",
   "metadata": {},
   "source": [
    "Or you can import all variables from a module and call them using module.variable"
   ]
  },
  {
   "cell_type": "code",
   "execution_count": 78,
   "metadata": {},
   "outputs": [
    {
     "name": "stdout",
     "output_type": "stream",
     "text": [
      "4.0\n"
     ]
    }
   ],
   "source": [
    "import math\n",
    "print(math.log10(10000))"
   ]
  },
  {
   "cell_type": "markdown",
   "metadata": {},
   "source": [
    "Have a go at importing `cos` and `pi` from the math module\n",
    "Print the cosine of pi"
   ]
  },
  {
   "cell_type": "code",
   "execution_count": 79,
   "metadata": {},
   "outputs": [
    {
     "data": {
      "text/plain": [
       "-1.0"
      ]
     },
     "execution_count": 79,
     "metadata": {},
     "output_type": "execute_result"
    }
   ],
   "source": [
    "from math import cos, pi\n",
    "cos(pi)"
   ]
  },
  {
   "cell_type": "markdown",
   "metadata": {},
   "source": [
    "The random module has a function randint.  \n",
    "Use the randint function to roll a six-sided die and a 10-sided die and add the results together"
   ]
  },
  {
   "cell_type": "code",
   "execution_count": 80,
   "metadata": {},
   "outputs": [
    {
     "data": {
      "text/plain": [
       "14"
      ]
     },
     "execution_count": 80,
     "metadata": {},
     "output_type": "execute_result"
    }
   ],
   "source": [
    "import random\n",
    "random.randint(1, 6) + random.randint(1, 10)"
   ]
  },
  {
   "cell_type": "markdown",
   "metadata": {},
   "source": [
    "## Dates and Times"
   ]
  },
  {
   "cell_type": "markdown",
   "metadata": {},
   "source": [
    "Import the `datetime` module and use a `date` and `timedelta`  \n",
    "to work out what the date is 10,000 days after you were born.  \n",
    "Is this date in the future or the past?"
   ]
  },
  {
   "cell_type": "code",
   "execution_count": 81,
   "metadata": {},
   "outputs": [
    {
     "data": {
      "text/plain": [
       "datetime.date(2017, 9, 19)"
      ]
     },
     "execution_count": 81,
     "metadata": {},
     "output_type": "execute_result"
    }
   ],
   "source": [
    "import datetime\n",
    "datetime.date(1990, 5, 4) + datetime.timedelta(days=10000)"
   ]
  },
  {
   "cell_type": "markdown",
   "metadata": {},
   "source": [
    "Use `datetime.datetime.strptime` to convert these strings into datetime  \n",
    "_Hint: If you need help, visit strftime.org_"
   ]
  },
  {
   "cell_type": "code",
   "execution_count": 82,
   "metadata": {},
   "outputs": [
    {
     "data": {
      "text/plain": [
       "datetime.datetime(2017, 12, 25, 4, 0)"
      ]
     },
     "execution_count": 82,
     "metadata": {},
     "output_type": "execute_result"
    }
   ],
   "source": [
    "date_1_str = '2017-12-25 04:00'\n",
    "datetime.datetime.strptime(date_1_str, '%Y-%m-%d %H:%M')"
   ]
  },
  {
   "cell_type": "code",
   "execution_count": 83,
   "metadata": {},
   "outputs": [
    {
     "data": {
      "text/plain": [
       "datetime.datetime(2017, 1, 1, 1, 0)"
      ]
     },
     "execution_count": 83,
     "metadata": {},
     "output_type": "execute_result"
    }
   ],
   "source": [
    "date_2_str = '2017-01-01 01:00:00'\n",
    "datetime.datetime.strptime(date_2_str, '%Y-%m-%d %H:%M:%S')"
   ]
  },
  {
   "cell_type": "code",
   "execution_count": 84,
   "metadata": {},
   "outputs": [
    {
     "data": {
      "text/plain": [
       "datetime.datetime(2012, 4, 23, 3, 4, 24)"
      ]
     },
     "execution_count": 84,
     "metadata": {},
     "output_type": "execute_result"
    }
   ],
   "source": [
    "date_3_str = '23/04/2012 03:04:24'\n",
    "datetime.datetime.strptime(date_3_str, '%d/%m/%Y %H:%M:%S')"
   ]
  },
  {
   "cell_type": "code",
   "execution_count": 85,
   "metadata": {},
   "outputs": [
    {
     "data": {
      "text/plain": [
       "datetime.datetime(2014, 12, 31, 13, 34)"
      ]
     },
     "execution_count": 85,
     "metadata": {},
     "output_type": "execute_result"
    }
   ],
   "source": [
    "date_4_str = '12/31/14 13:34'\n",
    "datetime.datetime.strptime(date_4_str, '%m/%d/%y %H:%M')"
   ]
  },
  {
   "cell_type": "code",
   "execution_count": 86,
   "metadata": {},
   "outputs": [
    {
     "data": {
      "text/plain": [
       "datetime.datetime(2015, 10, 1, 10, 3, 10)"
      ]
     },
     "execution_count": 86,
     "metadata": {},
     "output_type": "execute_result"
    }
   ],
   "source": [
    "date_5_str = '2015-10-01T10:03:10'\n",
    "datetime.datetime.strptime(date_5_str, '%Y-%m-%dT%H:%M:%S')"
   ]
  },
  {
   "cell_type": "markdown",
   "metadata": {},
   "source": [
    "Convert the date in the cell below into the string formats below  \n",
    "_Hint: If you need help, visit strftime.org_"
   ]
  },
  {
   "cell_type": "code",
   "execution_count": 87,
   "metadata": {
    "collapsed": true
   },
   "outputs": [],
   "source": [
    "my_dt = datetime.datetime(2010, 4, 5, 17, 11, 54)"
   ]
  },
  {
   "cell_type": "code",
   "execution_count": 88,
   "metadata": {},
   "outputs": [
    {
     "data": {
      "text/plain": [
       "'2010/04/05 17:11:54'"
      ]
     },
     "execution_count": 88,
     "metadata": {},
     "output_type": "execute_result"
    }
   ],
   "source": [
    "# \"2010/04/05 17:11:54\"\n",
    "my_dt.strftime('%Y/%m/%d %H:%M:%S')"
   ]
  },
  {
   "cell_type": "code",
   "execution_count": 89,
   "metadata": {},
   "outputs": [
    {
     "data": {
      "text/plain": [
       "'17:11:54 on 5 April 2010'"
      ]
     },
     "execution_count": 89,
     "metadata": {},
     "output_type": "execute_result"
    }
   ],
   "source": [
    "# \"17:11:54 on 5 April 2010\"\n",
    "my_dt.strftime('%H:%M:%S on %-d %B %Y')"
   ]
  },
  {
   "cell_type": "code",
   "execution_count": 90,
   "metadata": {},
   "outputs": [
    {
     "data": {
      "text/plain": [
       "'2010-04-05T17:11:54'"
      ]
     },
     "execution_count": 90,
     "metadata": {},
     "output_type": "execute_result"
    }
   ],
   "source": [
    "# \"2010-04-05T17:11:54\n",
    "my_dt.strftime('%Y-%m-%dT%H:%M:%S')"
   ]
  },
  {
   "cell_type": "code",
   "execution_count": 91,
   "metadata": {},
   "outputs": [
    {
     "data": {
      "text/plain": [
       "'5:11:54 PM'"
      ]
     },
     "execution_count": 91,
     "metadata": {},
     "output_type": "execute_result"
    }
   ],
   "source": [
    "# \"5:11:54 PM\"\n",
    "my_dt.strftime(\"%-I:%M:%S %p\")"
   ]
  },
  {
   "cell_type": "code",
   "execution_count": 92,
   "metadata": {},
   "outputs": [
    {
     "data": {
      "text/plain": [
       "'Monday'"
      ]
     },
     "execution_count": 92,
     "metadata": {},
     "output_type": "execute_result"
    }
   ],
   "source": [
    "# \"Monday\"\n",
    "my_dt.strftime(\"%A\")"
   ]
  },
  {
   "cell_type": "markdown",
   "metadata": {
    "collapsed": true
   },
   "source": [
    "Now have a go at converting this string from  \n",
    "`\"1989-11-09 19:17:00\"`  \n",
    "To \"17 minutes past 7 on November 9, 1989\"  "
   ]
  },
  {
   "cell_type": "code",
   "execution_count": 93,
   "metadata": {},
   "outputs": [
    {
     "name": "stdout",
     "output_type": "stream",
     "text": [
      "17 minutes past 7 on November 9, 1989\n"
     ]
    }
   ],
   "source": [
    "start_str = \"1989-11-09 19:17:00\"\n",
    "as_dt = datetime.datetime.strptime(start_str, \"%Y-%m-%d %H:%M:%S\")\n",
    "end_str = datetime.datetime.strftime(as_dt, \"%M minutes past %-I on %B %-d, %Y\")\n",
    "print(end_str)"
   ]
  },
  {
   "cell_type": "markdown",
   "metadata": {},
   "source": [
    "The `datetime.datetime` class has a method `utcnow()`, use it to show you the time now in UTC"
   ]
  },
  {
   "cell_type": "code",
   "execution_count": 94,
   "metadata": {},
   "outputs": [
    {
     "data": {
      "text/plain": [
       "datetime.datetime(2017, 4, 20, 14, 20, 57, 53157)"
      ]
     },
     "execution_count": 94,
     "metadata": {},
     "output_type": "execute_result"
    }
   ],
   "source": [
    "datetime.datetime.utcnow()"
   ]
  },
  {
   "cell_type": "markdown",
   "metadata": {},
   "source": [
    "Assign the current date to a variable named `today`.\n",
    "Celerant was acquired by Hitachi Consulting on 31st December 2012.\n",
    "How many days has it been?"
   ]
  },
  {
   "cell_type": "code",
   "execution_count": 95,
   "metadata": {},
   "outputs": [
    {
     "name": "stdout",
     "output_type": "stream",
     "text": [
      "1571\n"
     ]
    }
   ],
   "source": [
    "# Note the output will be different depending on the date you do this\n",
    "today = datetime.datetime.utcnow().date()\n",
    "acquisition = datetime.date(2012, 12, 31)\n",
    "\n",
    "print((today - acquisition).days)"
   ]
  },
  {
   "cell_type": "markdown",
   "metadata": {},
   "source": [
    "How many seconds are there between 04:05:12 on 17/09/2014 and 17:32:15 on 17/09/2018  \n",
    "How many hours is this?  \n",
    "How many days?  "
   ]
  },
  {
   "cell_type": "code",
   "execution_count": 96,
   "metadata": {},
   "outputs": [
    {
     "name": "stdout",
     "output_type": "stream",
     "text": [
      "126278823.0\n",
      "35077.4508333\n",
      "1461.56045139\n",
      "1461\n"
     ]
    }
   ],
   "source": [
    "a = datetime.datetime(2014, 9, 17, 4, 5, 12)\n",
    "b = datetime.datetime(2018, 9, 17, 17, 32, 15)\n",
    "\n",
    "print((b - a).total_seconds())\n",
    "print((b - a).total_seconds() / 3600.0)\n",
    "print((b - a).total_seconds() / 3600.0 / 24.0)\n",
    "print((b - a).days)"
   ]
  },
  {
   "cell_type": "markdown",
   "metadata": {},
   "source": [
    "#### Talking Clock\n",
    "\n",
    "We're going to write a `talking_clock` function!  \n",
    "Write a function that takes no parameters  \n",
    "This function should calculate what the time will be in 3 seconds  \n",
    "Print \"At the beep, the time will be 12:04 and 34 seconds\" (But with what the time will be in 3 seconds)  \n",
    "Then wait for 3 seconds  \n",
    "Then print \"Beep!\"  \n",
    "_Hint: To wait in python, you will need to import the time module and use `time.sleep(<seconds>)`_  "
   ]
  },
  {
   "cell_type": "code",
   "execution_count": 97,
   "metadata": {
    "collapsed": true
   },
   "outputs": [],
   "source": [
    "# Write your talking clock function here\n",
    "import time\n",
    "import sys\n",
    "\n",
    "def talking_clock():\n",
    "    time_now = datetime.datetime.utcnow()\n",
    "    in_three_seconds = time_now + datetime.timedelta(seconds=3)\n",
    "    print(datetime.datetime.strftime(in_three_seconds, \"At the beep the time will be %H:%M and %S seconds\"))\n",
    "    sys.stdout.flush()\n",
    "    time.sleep(3)\n",
    "    print(\"Beep!\")"
   ]
  },
  {
   "cell_type": "code",
   "execution_count": 98,
   "metadata": {},
   "outputs": [
    {
     "name": "stdout",
     "output_type": "stream",
     "text": [
      "At the beep the time will be 14:21 and 00 seconds\n",
      "Beep!\n"
     ]
    }
   ],
   "source": [
    "# Call your talking clock function here\n",
    "talking_clock()"
   ]
  }
 ],
 "metadata": {
  "kernelspec": {
   "display_name": "Python 2",
   "language": "python",
   "name": "python2"
  },
  "language_info": {
   "codemirror_mode": {
    "name": "ipython",
    "version": 2
   },
   "file_extension": ".py",
   "mimetype": "text/x-python",
   "name": "python",
   "nbconvert_exporter": "python",
   "pygments_lexer": "ipython2",
   "version": "2.7.11"
  }
 },
 "nbformat": 4,
 "nbformat_minor": 1
}
