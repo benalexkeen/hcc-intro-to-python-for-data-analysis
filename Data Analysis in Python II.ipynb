{
 "cells": [
  {
   "cell_type": "markdown",
   "metadata": {},
   "source": [
    "# Data Analysis in Python II"
   ]
  },
  {
   "cell_type": "markdown",
   "metadata": {},
   "source": [
    "## Visualising Data\n",
    "\n",
    "Let's start again by importing the modules we'll be using in this section"
   ]
  },
  {
   "cell_type": "code",
   "execution_count": 1,
   "metadata": {
    "collapsed": true
   },
   "outputs": [],
   "source": [
    "import math\n",
    "\n",
    "import pandas as pd\n",
    "import numpy as np\n",
    "import matplotlib.pyplot as plt\n",
    "\n",
    "%matplotlib inline\n",
    "plt.style.use('ggplot')"
   ]
  },
  {
   "cell_type": "markdown",
   "metadata": {},
   "source": [
    "### Line Graphs\n",
    "\n",
    "Plot the lines with the points given in the following two arrays, with `X` on the X axis and `Y` on the Y axis"
   ]
  },
  {
   "cell_type": "code",
   "execution_count": 2,
   "metadata": {},
   "outputs": [],
   "source": [
    "# X = [1, 2, 3, 4, 5]\n",
    "# Y = [10, 20, -5, 12, 24]\n",
    "\n",
    "# plt.plot(X, Y)\n",
    "# plt.show()"
   ]
  },
  {
   "cell_type": "markdown",
   "metadata": {},
   "source": [
    "The following values are the goals scored by the top 5 Premier League teams between 2011 and 2016, plot these all on the same graph. \n",
    "\n",
    "Make sure you have the legend on the graph and label the X and Y axes.  \n",
    "Also have your graph start from 0 on the Y axis"
   ]
  },
  {
   "cell_type": "code",
   "execution_count": 3,
   "metadata": {},
   "outputs": [],
   "source": [
    "years = [2011, 2012, 2013, 2014, 2015, 2016]\n",
    "arsenal = [72, 74, 72, 68, 71, 65]\n",
    "chelsea = [69, 65, 75, 71, 73, 59]\n",
    "liverpool = [59, 47, 71, 101, 52, 63]\n",
    "man_city = [60, 93, 66, 102, 83, 71]\n",
    "man_utd = [78, 89, 86, 64, 62, 49]\n",
    "\n",
    "# plt.plot(years, arsenal, label='Arsenal')\n",
    "# plt.plot(years, chelsea, label='Chelsea')\n",
    "# plt.plot(years, liverpool, label='Liverpool')\n",
    "# plt.plot(years, man_city, label='Man City')\n",
    "# plt.plot(years, man_utd, label='Man Utd')\n",
    "# plt.legend(loc='best')\n",
    "# plt.xlabel('Year')\n",
    "# plt.ylabel('Goals Scored')\n",
    "# plt.ylim(0)\n",
    "# plt.show()"
   ]
  },
  {
   "cell_type": "markdown",
   "metadata": {},
   "source": [
    "Plot the graph for:\n",
    "\n",
    "$ y = \\dfrac{1}{x} $\n",
    "\n",
    "For x between 0.5 and 4"
   ]
  },
  {
   "cell_type": "code",
   "execution_count": 4,
   "metadata": {
    "collapsed": true
   },
   "outputs": [],
   "source": [
    "# X = np.arange(0.5, 4, 0.05)\n",
    "# Y = 1 / X\n",
    "\n",
    "# plt.plot(X, Y)\n",
    "# plt.show()"
   ]
  },
  {
   "cell_type": "markdown",
   "metadata": {},
   "source": [
    "On the same graph, draw the lines for\n",
    "\n",
    "$ y = x^2 $  \n",
    "and  \n",
    "$ y = x^4 $\n",
    "\n",
    "for x between -3 and 3.\n",
    "\n",
    "Also plot markers for the individual points where X is an integer"
   ]
  },
  {
   "cell_type": "code",
   "execution_count": 5,
   "metadata": {},
   "outputs": [],
   "source": [
    "# X = np.arange(-3, 3.05, 0.05)\n",
    "# Y1 = X ** 2\n",
    "# Y2 = X ** 4\n",
    "\n",
    "# Xints = np.arange(-3, 4, 1)\n",
    "# Y1_Xints = Xints ** 2\n",
    "# Y2_Xints = Xints ** 4\n",
    "\n",
    "# plt.plot(X, Y1, label='$y = x^2$', color='b')\n",
    "# plt.plot(X, Y2, label='$y = x^4$', color='r')\n",
    "\n",
    "# plt.legend(loc='best')\n",
    "\n",
    "# plt.scatter(Xints, Y1_Xints, color='b')\n",
    "# plt.scatter(Xints, Y2_Xints, color='r')\n",
    "# plt.show()"
   ]
  },
  {
   "cell_type": "markdown",
   "metadata": {},
   "source": [
    "On the same graph draw the lines for\n",
    "\n",
    "$ y = 3 + \\sqrt{6x - x^2 -8} $  \n",
    "and  \n",
    "$ y = 3 - \\sqrt{6x - x^2 -8} $  \n",
    "\n",
    "between 2 < x < 4\n",
    "\n",
    "Draw the first line as a solid green line ('-') and the second line as a dot-dashed red line ('-.')"
   ]
  },
  {
   "cell_type": "code",
   "execution_count": 6,
   "metadata": {
    "collapsed": true
   },
   "outputs": [],
   "source": [
    "# X = np.arange(2, 4.01, 0.05)\n",
    "# Y1 = 3 + np.sqrt(6 * X - X ** 2 - 8)\n",
    "# Y2 = 3 - np.sqrt(6 * X - X ** 2 - 8)\n",
    "\n",
    "# plt.plot(X, Y1, color='g', linestyle='-')\n",
    "# plt.plot(X, Y2, color='r', linestyle='-.')\n",
    "# plt.show()"
   ]
  },
  {
   "cell_type": "markdown",
   "metadata": {},
   "source": [
    "### Scatter Plots\n",
    "\n",
    "#### Litter Data Set\n",
    "\n",
    "The file `data/litters.csv` has a number of litters of mice, with the pups' body and brain weights.  \n",
    "\n",
    "Plot a scatter plot of litter size against body weight in grams."
   ]
  },
  {
   "cell_type": "code",
   "execution_count": 7,
   "metadata": {
    "collapsed": true
   },
   "outputs": [],
   "source": [
    "# litters = pd.read_csv('data/litters.csv')\n",
    "# plt.scatter(litters['lsize'], litters['bodywt'])\n",
    "# plt.xlabel('Litter Size')\n",
    "# plt.ylabel('Body Weight (g)')\n",
    "# plt.title('Body Weight of Mice compared to Litter Size')\n",
    "# plt.show()"
   ]
  },
  {
   "cell_type": "markdown",
   "metadata": {
    "collapsed": true
   },
   "source": [
    "### Boxplot\n",
    "\n",
    "Load the iris dataset into a DataFrame as shown in the slides (~slide 263)"
   ]
  },
  {
   "cell_type": "code",
   "execution_count": 8,
   "metadata": {},
   "outputs": [],
   "source": [
    "# from sklearn import datasets\n",
    "# iris = datasets.load_iris()\n",
    "# iris_df = pd.DataFrame(iris['data'], columns=iris['feature_names'])\n",
    "# iris_df['species'] = iris['target']\n",
    "# iris_df.head()"
   ]
  },
  {
   "cell_type": "markdown",
   "metadata": {},
   "source": [
    "Now draw 3 boxplots for species 0 (Iris setosa), 1 (Iris versicolor), or 2 (Iris virginica) against `petal length (cm)`"
   ]
  },
  {
   "cell_type": "code",
   "execution_count": 9,
   "metadata": {},
   "outputs": [],
   "source": [
    "# setosa = iris_df[iris_df['species'] == 0]['petal length (cm)']\n",
    "# versicolor = iris_df[iris_df['species'] == 1]['petal length (cm)']\n",
    "# virginica = iris_df[iris_df['species'] == 2]['petal length (cm)']\n",
    "\n",
    "# plt.boxplot([setosa, versicolor, virginica], labels=['I. setosa', 'I. versicolor', 'I. virginica'])\n",
    "# plt.ylabel('petal length (cm)')\n",
    "# plt.xlabel('Iris Species')\n",
    "# plt.show()"
   ]
  },
  {
   "cell_type": "markdown",
   "metadata": {},
   "source": [
    "# Histograms"
   ]
  },
  {
   "cell_type": "markdown",
   "metadata": {},
   "source": [
    "#### UK Driver Deaths Data Set\n",
    "\n",
    "The file UK Driver Deaths contains the number of drivers that died in the UK for each month between 1969 and 1984 inclusive.  \n",
    "\n",
    "Draw a histogram showing the distribution of deaths per month with bins between 1000 and 3000 of width 100."
   ]
  },
  {
   "cell_type": "code",
   "execution_count": 10,
   "metadata": {},
   "outputs": [
    {
     "data": {
      "image/png": "[encoded data removed]",
      "text/plain": [
       "<matplotlib.figure.Figure at 0x104862a50>"
      ]
     },
     "metadata": {},
     "output_type": "display_data"
    }
   ],
   "source": [
    "deaths = pd.read_csv('data/uk_driver_deaths.csv')\n",
    "\n",
    "plt.hist(deaths['deaths'], bins=20, range=(1000, 3000), edgecolor='black')\n",
    "plt.xlabel('Deaths in Month')\n",
    "plt.ylabel('Number of Months')\n",
    "plt.show()"
   ]
  },
  {
   "cell_type": "markdown",
   "metadata": {},
   "source": [
    "## Bar Charts"
   ]
  },
  {
   "cell_type": "markdown",
   "metadata": {},
   "source": [
    "Plot a bar chart of the different types of energy fuel against their output in Gigawatt-hours (GWh)"
   ]
  },
  {
   "cell_type": "code",
   "execution_count": 11,
   "metadata": {},
   "outputs": [
    {
     "data": {
      "image/png": "[encoded data removed]",
      "text/plain": [
       "<matplotlib.figure.Figure at 0x1049ea750>"
      ]
     },
     "metadata": {},
     "output_type": "display_data"
    }
   ],
   "source": [
    "energy_types = ['Nuclear', 'Hydro', 'Gas', 'Oil', 'Coal', 'Biofuel']\n",
    "energy = [5, 6, 15, 22, 24, 8]\n",
    "\n",
    "xs = [i for i, _ in enumerate(energy)]\n",
    "\n",
    "plt.bar(xs, energy)\n",
    "plt.ylabel(\"Energy Output (GWh)\")\n",
    "plt.title(\"Energy Output by Fuel\")\n",
    "\n",
    "plt.xticks(xs, energy_types)\n",
    "\n",
    "plt.show()"
   ]
  },
  {
   "cell_type": "markdown",
   "metadata": {},
   "source": [
    "Plot each type of medals against their respective country for the medals they won at the 2012 Olympic Games, pick colours of bars to match the medal colour."
   ]
  },
  {
   "cell_type": "code",
   "execution_count": 12,
   "metadata": {},
   "outputs": [],
   "source": [
    "medals_2012 = pd.DataFrame(\n",
    "    {\n",
    "        'gold': [46, 27, 26, 19, 17],\n",
    "        'silver': [37, 23, 18, 18, 10],\n",
    "        'bronze': [38, 17, 26, 19, 15]\n",
    "    }, index = ['USA', 'GB', 'China', 'Russia', 'Germany']\n",
    ")\n",
    "\n",
    "# N = 5\n",
    "# ind = np.arange(N)\n",
    "# width = 0.25\n",
    "\n",
    "# plt.bar(ind, medals_2012['gold'], width, label='Golds', color='gold')\n",
    "# plt.bar(ind + width, medals_2012['silver'], width, label='Silvers', color='silver')\n",
    "# plt.bar(ind + 2 * width, medals_2012['bronze'], width, label='Bronzes', color='#CD853F')\n",
    "# plt.ylabel('Number of Medals')\n",
    "\n",
    "# plt.title('Olympic Medals by Country and Medal Colour')\n",
    "\n",
    "# plt.xticks(ind + width, medals_2012.index)\n",
    "# plt.legend(loc='best')\n",
    "\n",
    "# plt.show()"
   ]
  },
  {
   "cell_type": "markdown",
   "metadata": {},
   "source": [
    "# Data Aggregation"
   ]
  },
  {
   "cell_type": "markdown",
   "metadata": {
    "collapsed": true
   },
   "source": [
    "#### Student's Sleep Data Set\n",
    "\n",
    "The data set below shows 10 students, and their response to two soporific drugs, compared to a control period.  \n",
    "\n",
    "The increase in sleep is given by the variable 'extra'."
   ]
  },
  {
   "cell_type": "code",
   "execution_count": 13,
   "metadata": {
    "collapsed": true
   },
   "outputs": [],
   "source": [
    "sleep = pd.DataFrame({\n",
    "    'extra': [0.7, -1.6, -0.2, -1.2, -0.1, 3.4, 3.7, 0.8, 0, 2, 1.9, 0.8, 1.1, 0.1, -0.1, 4.4, 5.5, 1.6, 4.6, 3.4],\n",
    "    'group': [1, 1, 1, 1, 1, 1, 1, 1, 1, 1, 2, 2, 2, 2, 2, 2, 2, 2, 2, 2],\n",
    "    'ID': [1, 2, 3, 4, 5, 6, 7, 8, 9, 10, 1, 2, 3, 4, 5, 6, 7, 8, 9, 10]\n",
    "})"
   ]
  },
  {
   "cell_type": "markdown",
   "metadata": {},
   "source": [
    "Using groupby, find the means of `extra` for `group` 1 and 2, which of the 2 is the more effective drug on average?"
   ]
  },
  {
   "cell_type": "code",
   "execution_count": 14,
   "metadata": {},
   "outputs": [
    {
     "data": {
      "text/plain": [
       "group\n",
       "1    0.75\n",
       "2    2.33\n",
       "Name: extra, dtype: float64"
      ]
     },
     "execution_count": 14,
     "metadata": {},
     "output_type": "execute_result"
    }
   ],
   "source": [
    "sleep.groupby('group').mean()['extra']"
   ]
  },
  {
   "cell_type": "markdown",
   "metadata": {},
   "source": [
    "Also using groupby, what was the total effect (sum of `extra` sleep) of the soporific drugs for each of the students (`ID`). Which ID was the most susceptible to both drugs in total?"
   ]
  },
  {
   "cell_type": "code",
   "execution_count": 15,
   "metadata": {},
   "outputs": [
    {
     "data": {
      "text/plain": [
       "ID\n",
       "7     9.2\n",
       "6     7.8\n",
       "10    5.4\n",
       "9     4.6\n",
       "1     2.6\n",
       "8     2.4\n",
       "3     0.9\n",
       "5    -0.2\n",
       "2    -0.8\n",
       "4    -1.1\n",
       "Name: extra, dtype: float64"
      ]
     },
     "execution_count": 15,
     "metadata": {},
     "output_type": "execute_result"
    }
   ],
   "source": [
    "sleep.groupby('ID').sum()['extra'].sort_values(ascending=False)"
   ]
  },
  {
   "cell_type": "markdown",
   "metadata": {},
   "source": [
    "#### Product Sales Data Set (Mocked)\n",
    "\n",
    "The data set below describes sales of products from an online retailer. Run the cell below to see some of the sales"
   ]
  },
  {
   "cell_type": "code",
   "execution_count": 16,
   "metadata": {},
   "outputs": [
    {
     "data": {
      "text/html": [
       "<div>\n",
       "<table border=\"1\" class=\"dataframe\">\n",
       "  <thead>\n",
       "    <tr style=\"text-align: right;\">\n",
       "      <th></th>\n",
       "      <th>Country</th>\n",
       "      <th>Product_Id</th>\n",
       "      <th>Quantity</th>\n",
       "      <th>Price</th>\n",
       "      <th>Revenue</th>\n",
       "    </tr>\n",
       "  </thead>\n",
       "  <tbody>\n",
       "    <tr>\n",
       "      <th>0</th>\n",
       "      <td>Australia</td>\n",
       "      <td>17</td>\n",
       "      <td>1</td>\n",
       "      <td>9</td>\n",
       "      <td>9</td>\n",
       "    </tr>\n",
       "    <tr>\n",
       "      <th>1</th>\n",
       "      <td>UK</td>\n",
       "      <td>15</td>\n",
       "      <td>4</td>\n",
       "      <td>15</td>\n",
       "      <td>60</td>\n",
       "    </tr>\n",
       "    <tr>\n",
       "      <th>2</th>\n",
       "      <td>USA</td>\n",
       "      <td>5</td>\n",
       "      <td>3</td>\n",
       "      <td>6</td>\n",
       "      <td>18</td>\n",
       "    </tr>\n",
       "    <tr>\n",
       "      <th>3</th>\n",
       "      <td>Netherlands</td>\n",
       "      <td>12</td>\n",
       "      <td>3</td>\n",
       "      <td>18</td>\n",
       "      <td>54</td>\n",
       "    </tr>\n",
       "    <tr>\n",
       "      <th>4</th>\n",
       "      <td>Rep. Ireland</td>\n",
       "      <td>17</td>\n",
       "      <td>3</td>\n",
       "      <td>9</td>\n",
       "      <td>27</td>\n",
       "    </tr>\n",
       "  </tbody>\n",
       "</table>\n",
       "</div>"
      ],
      "text/plain": [
       "        Country  Product_Id  Quantity  Price  Revenue\n",
       "0     Australia          17         1      9        9\n",
       "1            UK          15         4     15       60\n",
       "2           USA           5         3      6       18\n",
       "3   Netherlands          12         3     18       54\n",
       "4  Rep. Ireland          17         3      9       27"
      ]
     },
     "execution_count": 16,
     "metadata": {},
     "output_type": "execute_result"
    }
   ],
   "source": [
    "np.random.seed(50)\n",
    "# 20 products, 200 transactions, 7 countries\n",
    "prices = {x: np.random.randint(5, 20) for x in np.arange(1, 20)}\n",
    "sales_df = pd.DataFrame({\n",
    "    'Quantity': np.random.randint(1, 5, 200),\n",
    "    'Product_Id': np.random.randint(1, 20, 200),\n",
    "    'Country': np.random.choice(['UK', 'USA', 'France', 'Australia', 'Norway', 'Rep. Ireland', 'Netherlands'], 200)\n",
    "})\n",
    "sales_df['Price'] = sales_df['Product_Id'].map(lambda x: prices[x])\n",
    "sales_df['Revenue'] = sales_df['Price'] * sales_df['Quantity']\n",
    "sales_df.head()"
   ]
  },
  {
   "cell_type": "markdown",
   "metadata": {},
   "source": [
    "Which country brings in the most revenue?"
   ]
  },
  {
   "cell_type": "code",
   "execution_count": 17,
   "metadata": {},
   "outputs": [],
   "source": [
    "# sales_df.groupby('Country').sum()['Revenue'].sort_values(ascending=False)"
   ]
  },
  {
   "cell_type": "markdown",
   "metadata": {},
   "source": [
    "Which country had the most individual transactions?"
   ]
  },
  {
   "cell_type": "code",
   "execution_count": 18,
   "metadata": {
    "collapsed": true
   },
   "outputs": [],
   "source": [
    "# sales_df.groupby('Country').count()['Revenue'].sort_values(ascending=False)\n",
    "# Or: sales_df['Country'].value_counts()"
   ]
  },
  {
   "cell_type": "markdown",
   "metadata": {},
   "source": [
    "Which country bought the most items of stock?"
   ]
  },
  {
   "cell_type": "code",
   "execution_count": 19,
   "metadata": {
    "collapsed": true
   },
   "outputs": [],
   "source": [
    "# sales_df.groupby('Country').sum()['Quantity'].sort_values(ascending=False)"
   ]
  },
  {
   "cell_type": "markdown",
   "metadata": {},
   "source": [
    "Which country bought the highest quantity of `Product_Id` 5?"
   ]
  },
  {
   "cell_type": "code",
   "execution_count": 20,
   "metadata": {
    "collapsed": true
   },
   "outputs": [],
   "source": [
    "# sales_df[sales_df['Product_Id'] == 5].groupby(['Country']).sum()['Quantity'].sort_values(ascending=False)\n",
    "# or:\n",
    "# sales_df.groupby(['Product_Id', 'Country']).sum().loc[(5,), 'Quantity']"
   ]
  },
  {
   "cell_type": "markdown",
   "metadata": {},
   "source": [
    "### Nobel Data Set"
   ]
  },
  {
   "cell_type": "markdown",
   "metadata": {},
   "source": [
    "The Nobel Foundation would like some information on a data set they have provided you with, it is an Excel document with two sheets named `nobel_prizes` and `population` respectively. \n",
    "\n",
    "This file is in the data directory as `\"data/nobel_prizes.xlsx\"`\n",
    "\n",
    "Read in the two Excel sheets into 2 separate Data Frames"
   ]
  },
  {
   "cell_type": "code",
   "execution_count": 169,
   "metadata": {},
   "outputs": [],
   "source": [
    "# nobel = pd.read_excel('data/nobel_prizes.xlsx', sheetname='nobel_prizes')\n",
    "# population = pd.read_excel('data/nobel_prizes.xlsx', sheetname='population')"
   ]
  },
  {
   "cell_type": "markdown",
   "metadata": {},
   "source": [
    "They would first like to know what proportion of winners were female and which category has the most female winners."
   ]
  },
  {
   "cell_type": "code",
   "execution_count": 85,
   "metadata": {},
   "outputs": [
    {
     "data": {
      "text/plain": [
       "'5.33% of winners are female'"
      ]
     },
     "execution_count": 85,
     "metadata": {},
     "output_type": "execute_result"
    }
   ],
   "source": [
    "# gender_counts = nobel['Sex'].value_counts()\n",
    "# female_pct = round(gender_counts['Female'] * 100.0 / len(nobel), 2)\n",
    "# \"{}% of winners are female\".format(female_pct)"
   ]
  },
  {
   "cell_type": "code",
   "execution_count": 57,
   "metadata": {},
   "outputs": [
    {
     "data": {
      "text/plain": [
       "Category\n",
       "Peace         14\n",
       "Literature    14\n",
       "Medicine      12\n",
       "Chemistry      4\n",
       "Physics        2\n",
       "Economics      2\n",
       "dtype: int64"
      ]
     },
     "execution_count": 57,
     "metadata": {},
     "output_type": "execute_result"
    }
   ],
   "source": [
    "# nobel[nobel['Sex'] == 'Female'].groupby('Category').size().sort_values(ascending=False)"
   ]
  },
  {
   "cell_type": "markdown",
   "metadata": {},
   "source": [
    "Which country do the most Literature Nobel Prize winners come from?"
   ]
  },
  {
   "cell_type": "code",
   "execution_count": 173,
   "metadata": {},
   "outputs": [],
   "source": [
    "# nobel[nobel['Category'] == 'Literature'].groupby('Birth Country').size().sort_values(ascending=False).head()"
   ]
  },
  {
   "cell_type": "markdown",
   "metadata": {},
   "source": [
    "How many Nobel Prize Winners have the first name \"Robert\"?"
   ]
  },
  {
   "cell_type": "code",
   "execution_count": 172,
   "metadata": {},
   "outputs": [],
   "source": [
    "# nobel[nobel['Full Name'].map(lambda x: x.startswith('Robert'))]"
   ]
  },
  {
   "cell_type": "markdown",
   "metadata": {},
   "source": [
    "One of the Nobel Prize winners is listed as coming from French overseas territory \"Guadeloupe Island\". Replace this value from France.\n",
    "\n",
    "Trinidad and Tobago is listed as \"Trinidad\", replace this value with \"Trinidad and Tobago\".\n",
    "\n",
    "\"Northern Ireland\" is listed Separately to United Kingdom, replace this value with \"United Kingdom\".\n",
    "\n",
    "There was also a winner from Taiwan, but there is no population entry for Taiwan, so we will have to (perhaps controversially) assign Taiwan to China"
   ]
  },
  {
   "cell_type": "code",
   "execution_count": 174,
   "metadata": {},
   "outputs": [],
   "source": [
    "# nobel['Birth Country'] = nobel['Birth Country'].replace(\n",
    "#     ['Guadeloupe Island', 'Trinidad', 'Northern Ireland', 'Scotland', 'Taiwan'],\n",
    "#     ['France', 'Trinidad and Tobago', 'United Kingdom', 'United Kingdom', 'China']\n",
    "# )"
   ]
  },
  {
   "cell_type": "markdown",
   "metadata": {},
   "source": [
    "The Nobel Foundation would like to know the 5 countries with the most prize winners per capita that were born in that country, use your 2 data frames to calculate this.\n",
    "\n",
    "_Hint: http://pandas.pydata.org/pandas-docs/stable/generated/pandas.DataFrame.merge.html_"
   ]
  },
  {
   "cell_type": "code",
   "execution_count": 155,
   "metadata": {},
   "outputs": [],
   "source": [
    "# grouped_by_country = nobel.groupby('Birth Country').size().reset_index()\n",
    "# grouped_by_country = grouped_by_country.rename(columns={0: 'winners'})\n",
    "\n",
    "# population = population.dropna()\n",
    "# population['Population'] = population['Population (000s)'] * 1000\n",
    "\n",
    "# merged = grouped_by_country.merge(\n",
    "#     population, how='left', \n",
    "#     left_on='Birth Country', right_on='Economy'\n",
    "# )\n",
    "\n",
    "# merged['winners_per_capita'] = merged['winners'] / merged['Population']\n",
    "\n",
    "\n",
    "# merged.sort_values('winners_per_capita', ascending=False).head()"
   ]
  }
 ],
 "metadata": {
  "kernelspec": {
   "display_name": "Python 2",
   "language": "python",
   "name": "python2"
  },
  "language_info": {
   "codemirror_mode": {
    "name": "ipython",
    "version": 2
   },
   "file_extension": ".py",
   "mimetype": "text/x-python",
   "name": "python",
   "nbconvert_exporter": "python",
   "pygments_lexer": "ipython2",
   "version": "2.7.11"
  }
 },
 "nbformat": 4,
 "nbformat_minor": 2
}
